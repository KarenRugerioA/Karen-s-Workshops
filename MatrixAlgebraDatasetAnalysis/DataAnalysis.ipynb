{
  "cells": [
    {
      "cell_type": "markdown",
      "source": [
        "## Author \n",
        "****\n",
        "Karen Rugerio Armenta"
      ],
      "metadata": {
        "id": "-VZmlU4yIXQQ"
      }
    },
    {
      "cell_type": "markdown",
      "source": [
        "## Business case\n",
        "****\n",
        "Multivariate data preprocessing and time series processing"
      ],
      "metadata": {
        "id": "h7vo4mhxIeX6"
      }
    },
    {
      "cell_type": "markdown",
      "source": [
        "## Case Description\n",
        "****\n",
        "Make an exploratory analysis of the variables using the variance-covariance matrix, and correlation matrix.\n",
        "\n",
        "Run statistical tests to detect outliers and leverage points.\n",
        "\n",
        "Make a multicollinearity analysis and  its implications in the model.\n",
        "\n",
        "Estimate coefficients and standard errors of the regression model and interpret the model solving the problems presented along the way.\n",
        "\n"
      ],
      "metadata": {
        "id": "pZYUeNk4IhL2"
      }
    },
    {
      "cell_type": "markdown",
      "source": [
        "#Importing Libraries"
      ],
      "metadata": {
        "id": "FAeTVhoRRJ8A"
      }
    },
    {
      "cell_type": "code",
      "execution_count": 1,
      "metadata": {
        "id": "ik7fThRtvs-X"
      },
      "outputs": [],
      "source": [
        "#Libraries\n",
        "import warnings\n",
        "warnings.simplefilter(action='ignore')\n",
        "import pandas as pd              \n",
        "import matplotlib.pyplot as plt   \n",
        "import numpy as np                \n",
        "from sklearn import linear_model\n",
        "from scipy.stats.mstats import winsorize\n",
        "import seaborn as sns\n",
        "from sklearn.model_selection import train_test_split\n",
        "from sklearn.linear_model import LinearRegression\n",
        "from sklearn.metrics import mean_squared_error, mean_absolute_error\n",
        "from sklearn import preprocessing\n",
        "from sklearn.metrics import r2_score, accuracy_score\n",
        "from pyparsing import alphas\n",
        "from pandas.core.api import DataFrame\n",
        "import statsmodels.api as sm\n",
        "from numpy.linalg import matrix_power"
      ]
    },
    {
      "cell_type": "markdown",
      "source": [
        "#Creating DataFrame focusing in Finance and Insurance industires"
      ],
      "metadata": {
        "id": "8MPhrs2pROdH"
      }
    },
    {
      "cell_type": "code",
      "execution_count": 2,
      "metadata": {
        "colab": {
          "base_uri": "https://localhost:8080/"
        },
        "id": "og9ZdEBQnNzA",
        "outputId": "95365cca-0bca-42e8-e885-786ea7e2dbc9"
      },
      "outputs": [
        {
          "output_type": "stream",
          "name": "stdout",
          "text": [
            "Mounted at /content/gdrive\n",
            "/content/gdrive/MyDrive/Colab Notebooks/Bloque1/Estadística - M1/final\n"
          ]
        }
      ],
      "source": [
        "#Extraction\n",
        "from google.colab import drive\n",
        "drive.mount(\"/content/gdrive\")  \n",
        "%cd \"/content/gdrive/MyDrive/Colab Notebooks/Bloque1/Estadística - M1/final\"\n",
        "np.set_printoptions(suppress=True)"
      ]
    },
    {
      "cell_type": "code",
      "execution_count": 3,
      "metadata": {
        "id": "gWvaldGVnl0r"
      },
      "outputs": [],
      "source": [
        "#DataFrame creation\n",
        "dfusfirms2022 = pd.read_csv('usfirms2022.csv')\n",
        "dfusfirms2022 = dfusfirms2022[['Ticker', 'Name', 'N', 'Class','Type of Asset', 'Sector\\nEconomatica', 'Sector NAICS\\nlevel 1']]\n",
        "dfus2022q2a = pd.read_csv('us2022q2a.csv')\n",
        "dfus2022q2a = dfus2022q2a[['firm', 'q','revenue','cogs','sgae', 'otheropexp','extraincome','finexp','incometax','totalassets', 'totalliabilities', 'shortdebt', 'longdebt', 'stockholderequity', 'adjprice', 'originalprice', 'sharesoutstanding', 'fiscalmonth', 'year','cto']]\n",
        "df = pd.merge(dfus2022q2a,dfusfirms2022, left_on='firm', right_on='Ticker')\n",
        "df = df.drop(columns='Ticker')\n",
        "#Choose only Financial Data. I decided to filter the financial data by the Finance and Insurance name in Sector Economatica\n",
        "df = pd.DataFrame(df.loc[df['Sector\\nEconomatica'] == 'Finance and Insurance'])"
      ]
    },
    {
      "cell_type": "code",
      "execution_count": 4,
      "metadata": {
        "colab": {
          "base_uri": "https://localhost:8080/"
        },
        "id": "9VLYTKCRCnE9",
        "outputId": "d4ea531f-0c80-441e-fafe-18b946cce0a7"
      },
      "outputs": [
        {
          "output_type": "execute_result",
          "data": {
            "text/plain": [
              "360       AAME\n",
              "1170      ABCB\n",
              "2064      ABTX\n",
              "2244        AC\n",
              "3594      ACNB\n",
              "          ... \n",
              "316346    WTBA\n",
              "316436    WTFC\n",
              "316616     WTM\n",
              "320486       Y\n",
              "322466    ZION\n",
              "Name: firm, Length: 515, dtype: object"
            ]
          },
          "metadata": {},
          "execution_count": 4
        }
      ],
      "source": [
        "#Verify the number of firms content in the Finance and Insurance dataset\n",
        "firms = df['firm'].drop_duplicates()\n",
        "firms"
      ]
    },
    {
      "cell_type": "code",
      "execution_count": 5,
      "metadata": {
        "colab": {
          "base_uri": "https://localhost:8080/",
          "height": 901
        },
        "id": "i6otP2NKXUpM",
        "outputId": "86ec1b86-7249-4bb8-ee2c-967fbc747f56"
      },
      "outputs": [
        {
          "output_type": "execute_result",
          "data": {
            "text/plain": [
              "                  q   revenue     cogs  sgae  otheropexp  extraincome  finexp  \\\n",
              "firm qdate                                                                      \n",
              "AAME 2000Q1  2000q1       NaN      NaN   NaN         NaN          NaN     NaN   \n",
              "     2000Q2  2000q2       NaN      NaN   NaN         NaN          NaN     NaN   \n",
              "     2000Q3  2000q3       NaN      NaN   NaN         NaN          NaN     NaN   \n",
              "     2000Q4  2000q4       NaN      NaN   NaN         NaN          NaN     NaN   \n",
              "     2001Q1  2001q1       NaN      NaN   NaN         NaN          NaN     NaN   \n",
              "...             ...       ...      ...   ...         ...          ...     ...   \n",
              "ZION 2021Q2  2021q2  570000.0  15000.0   0.0         0.0    -100000.0     0.0   \n",
              "     2021Q3  2021q3  569000.0  14000.0   0.0         0.0    -244000.0     0.0   \n",
              "     2021Q4  2021q4  566000.0  13000.0   0.0         0.0    -284000.0     0.0   \n",
              "     2022Q1  2022q1  555000.0  11000.0   0.0         0.0    -289000.0     0.0   \n",
              "     2022Q2  2022q2  608000.0  15000.0   0.0         0.0    -333000.0     0.0   \n",
              "\n",
              "             incometax  totalassets  totalliabilities  ...  sharesoutstanding  \\\n",
              "firm qdate                                             ...                      \n",
              "AAME 2000Q1        NaN          NaN               NaN  ...                NaN   \n",
              "     2000Q2        NaN          NaN               NaN  ...                NaN   \n",
              "     2000Q3        NaN          NaN               NaN  ...                NaN   \n",
              "     2000Q4        NaN          NaN               NaN  ...                NaN   \n",
              "     2001Q1        NaN          NaN               NaN  ...                NaN   \n",
              "...                ...          ...               ...  ...                ...   \n",
              "ZION 2021Q2   101000.0   87208000.0        79175000.0  ...         163815.613   \n",
              "     2021Q3    71000.0   88306000.0        80532000.0  ...         162070.463   \n",
              "     2021Q4    56000.0   93200000.0        85737000.0  ...         156463.463   \n",
              "     2022Q1    52000.0   91126000.0        84832000.0  ...         151574.325   \n",
              "     2022Q2    57000.0   87784000.0        82152000.0  ...         151358.748   \n",
              "\n",
              "             fiscalmonth  year  cto  \\\n",
              "firm qdate                            \n",
              "AAME 2000Q1          NaN  2000    1   \n",
              "     2000Q2          NaN  2000    2   \n",
              "     2000Q3          NaN  2000    3   \n",
              "     2000Q4          NaN  2000    4   \n",
              "     2001Q1          NaN  2001    1   \n",
              "...                  ...   ...  ...   \n",
              "ZION 2021Q2          6.0  2021    2   \n",
              "     2021Q3          9.0  2021    3   \n",
              "     2021Q4         12.0  2021    4   \n",
              "     2022Q1          3.0  2022    1   \n",
              "     2022Q2          6.0  2022    2   \n",
              "\n",
              "                                                   Name     N  Class  \\\n",
              "firm qdate                                                             \n",
              "AAME 2000Q1                      Atlantic American Corp   353    Com   \n",
              "     2000Q2                      Atlantic American Corp   353    Com   \n",
              "     2000Q3                      Atlantic American Corp   353    Com   \n",
              "     2000Q4                      Atlantic American Corp   353    Com   \n",
              "     2001Q1                      Atlantic American Corp   353    Com   \n",
              "...                                                 ...   ...    ...   \n",
              "ZION 2021Q2  Zions Bancorporation, National Association  3596    Com   \n",
              "     2021Q3  Zions Bancorporation, National Association  3596    Com   \n",
              "     2021Q4  Zions Bancorporation, National Association  3596    Com   \n",
              "     2022Q1  Zions Bancorporation, National Association  3596    Com   \n",
              "     2022Q2  Zions Bancorporation, National Association  3596    Com   \n",
              "\n",
              "             Type of Asset    Sector\\nEconomatica  Sector NAICS\\nlevel 1  \n",
              "firm qdate                                                                \n",
              "AAME 2000Q1          Stock  Finance and Insurance  Finance and Insurance  \n",
              "     2000Q2          Stock  Finance and Insurance  Finance and Insurance  \n",
              "     2000Q3          Stock  Finance and Insurance  Finance and Insurance  \n",
              "     2000Q4          Stock  Finance and Insurance  Finance and Insurance  \n",
              "     2001Q1          Stock  Finance and Insurance  Finance and Insurance  \n",
              "...                    ...                    ...                    ...  \n",
              "ZION 2021Q2          Stock  Finance and Insurance  Finance and Insurance  \n",
              "     2021Q3          Stock  Finance and Insurance  Finance and Insurance  \n",
              "     2021Q4          Stock  Finance and Insurance  Finance and Insurance  \n",
              "     2022Q1          Stock  Finance and Insurance  Finance and Insurance  \n",
              "     2022Q2          Stock  Finance and Insurance  Finance and Insurance  \n",
              "\n",
              "[46276 rows x 25 columns]"
            ],
            "text/html": [
              "\n",
              "  <div id=\"df-b45075a2-f81f-473d-9f69-e7b8994c4c9a\">\n",
              "    <div class=\"colab-df-container\">\n",
              "      <div>\n",
              "<style scoped>\n",
              "    .dataframe tbody tr th:only-of-type {\n",
              "        vertical-align: middle;\n",
              "    }\n",
              "\n",
              "    .dataframe tbody tr th {\n",
              "        vertical-align: top;\n",
              "    }\n",
              "\n",
              "    .dataframe thead th {\n",
              "        text-align: right;\n",
              "    }\n",
              "</style>\n",
              "<table border=\"1\" class=\"dataframe\">\n",
              "  <thead>\n",
              "    <tr style=\"text-align: right;\">\n",
              "      <th></th>\n",
              "      <th></th>\n",
              "      <th>q</th>\n",
              "      <th>revenue</th>\n",
              "      <th>cogs</th>\n",
              "      <th>sgae</th>\n",
              "      <th>otheropexp</th>\n",
              "      <th>extraincome</th>\n",
              "      <th>finexp</th>\n",
              "      <th>incometax</th>\n",
              "      <th>totalassets</th>\n",
              "      <th>totalliabilities</th>\n",
              "      <th>...</th>\n",
              "      <th>sharesoutstanding</th>\n",
              "      <th>fiscalmonth</th>\n",
              "      <th>year</th>\n",
              "      <th>cto</th>\n",
              "      <th>Name</th>\n",
              "      <th>N</th>\n",
              "      <th>Class</th>\n",
              "      <th>Type of Asset</th>\n",
              "      <th>Sector\\nEconomatica</th>\n",
              "      <th>Sector NAICS\\nlevel 1</th>\n",
              "    </tr>\n",
              "    <tr>\n",
              "      <th>firm</th>\n",
              "      <th>qdate</th>\n",
              "      <th></th>\n",
              "      <th></th>\n",
              "      <th></th>\n",
              "      <th></th>\n",
              "      <th></th>\n",
              "      <th></th>\n",
              "      <th></th>\n",
              "      <th></th>\n",
              "      <th></th>\n",
              "      <th></th>\n",
              "      <th></th>\n",
              "      <th></th>\n",
              "      <th></th>\n",
              "      <th></th>\n",
              "      <th></th>\n",
              "      <th></th>\n",
              "      <th></th>\n",
              "      <th></th>\n",
              "      <th></th>\n",
              "      <th></th>\n",
              "      <th></th>\n",
              "    </tr>\n",
              "  </thead>\n",
              "  <tbody>\n",
              "    <tr>\n",
              "      <th rowspan=\"5\" valign=\"top\">AAME</th>\n",
              "      <th>2000Q1</th>\n",
              "      <td>2000q1</td>\n",
              "      <td>NaN</td>\n",
              "      <td>NaN</td>\n",
              "      <td>NaN</td>\n",
              "      <td>NaN</td>\n",
              "      <td>NaN</td>\n",
              "      <td>NaN</td>\n",
              "      <td>NaN</td>\n",
              "      <td>NaN</td>\n",
              "      <td>NaN</td>\n",
              "      <td>...</td>\n",
              "      <td>NaN</td>\n",
              "      <td>NaN</td>\n",
              "      <td>2000</td>\n",
              "      <td>1</td>\n",
              "      <td>Atlantic American Corp</td>\n",
              "      <td>353</td>\n",
              "      <td>Com</td>\n",
              "      <td>Stock</td>\n",
              "      <td>Finance and Insurance</td>\n",
              "      <td>Finance and Insurance</td>\n",
              "    </tr>\n",
              "    <tr>\n",
              "      <th>2000Q2</th>\n",
              "      <td>2000q2</td>\n",
              "      <td>NaN</td>\n",
              "      <td>NaN</td>\n",
              "      <td>NaN</td>\n",
              "      <td>NaN</td>\n",
              "      <td>NaN</td>\n",
              "      <td>NaN</td>\n",
              "      <td>NaN</td>\n",
              "      <td>NaN</td>\n",
              "      <td>NaN</td>\n",
              "      <td>...</td>\n",
              "      <td>NaN</td>\n",
              "      <td>NaN</td>\n",
              "      <td>2000</td>\n",
              "      <td>2</td>\n",
              "      <td>Atlantic American Corp</td>\n",
              "      <td>353</td>\n",
              "      <td>Com</td>\n",
              "      <td>Stock</td>\n",
              "      <td>Finance and Insurance</td>\n",
              "      <td>Finance and Insurance</td>\n",
              "    </tr>\n",
              "    <tr>\n",
              "      <th>2000Q3</th>\n",
              "      <td>2000q3</td>\n",
              "      <td>NaN</td>\n",
              "      <td>NaN</td>\n",
              "      <td>NaN</td>\n",
              "      <td>NaN</td>\n",
              "      <td>NaN</td>\n",
              "      <td>NaN</td>\n",
              "      <td>NaN</td>\n",
              "      <td>NaN</td>\n",
              "      <td>NaN</td>\n",
              "      <td>...</td>\n",
              "      <td>NaN</td>\n",
              "      <td>NaN</td>\n",
              "      <td>2000</td>\n",
              "      <td>3</td>\n",
              "      <td>Atlantic American Corp</td>\n",
              "      <td>353</td>\n",
              "      <td>Com</td>\n",
              "      <td>Stock</td>\n",
              "      <td>Finance and Insurance</td>\n",
              "      <td>Finance and Insurance</td>\n",
              "    </tr>\n",
              "    <tr>\n",
              "      <th>2000Q4</th>\n",
              "      <td>2000q4</td>\n",
              "      <td>NaN</td>\n",
              "      <td>NaN</td>\n",
              "      <td>NaN</td>\n",
              "      <td>NaN</td>\n",
              "      <td>NaN</td>\n",
              "      <td>NaN</td>\n",
              "      <td>NaN</td>\n",
              "      <td>NaN</td>\n",
              "      <td>NaN</td>\n",
              "      <td>...</td>\n",
              "      <td>NaN</td>\n",
              "      <td>NaN</td>\n",
              "      <td>2000</td>\n",
              "      <td>4</td>\n",
              "      <td>Atlantic American Corp</td>\n",
              "      <td>353</td>\n",
              "      <td>Com</td>\n",
              "      <td>Stock</td>\n",
              "      <td>Finance and Insurance</td>\n",
              "      <td>Finance and Insurance</td>\n",
              "    </tr>\n",
              "    <tr>\n",
              "      <th>2001Q1</th>\n",
              "      <td>2001q1</td>\n",
              "      <td>NaN</td>\n",
              "      <td>NaN</td>\n",
              "      <td>NaN</td>\n",
              "      <td>NaN</td>\n",
              "      <td>NaN</td>\n",
              "      <td>NaN</td>\n",
              "      <td>NaN</td>\n",
              "      <td>NaN</td>\n",
              "      <td>NaN</td>\n",
              "      <td>...</td>\n",
              "      <td>NaN</td>\n",
              "      <td>NaN</td>\n",
              "      <td>2001</td>\n",
              "      <td>1</td>\n",
              "      <td>Atlantic American Corp</td>\n",
              "      <td>353</td>\n",
              "      <td>Com</td>\n",
              "      <td>Stock</td>\n",
              "      <td>Finance and Insurance</td>\n",
              "      <td>Finance and Insurance</td>\n",
              "    </tr>\n",
              "    <tr>\n",
              "      <th>...</th>\n",
              "      <th>...</th>\n",
              "      <td>...</td>\n",
              "      <td>...</td>\n",
              "      <td>...</td>\n",
              "      <td>...</td>\n",
              "      <td>...</td>\n",
              "      <td>...</td>\n",
              "      <td>...</td>\n",
              "      <td>...</td>\n",
              "      <td>...</td>\n",
              "      <td>...</td>\n",
              "      <td>...</td>\n",
              "      <td>...</td>\n",
              "      <td>...</td>\n",
              "      <td>...</td>\n",
              "      <td>...</td>\n",
              "      <td>...</td>\n",
              "      <td>...</td>\n",
              "      <td>...</td>\n",
              "      <td>...</td>\n",
              "      <td>...</td>\n",
              "      <td>...</td>\n",
              "    </tr>\n",
              "    <tr>\n",
              "      <th rowspan=\"5\" valign=\"top\">ZION</th>\n",
              "      <th>2021Q2</th>\n",
              "      <td>2021q2</td>\n",
              "      <td>570000.0</td>\n",
              "      <td>15000.0</td>\n",
              "      <td>0.0</td>\n",
              "      <td>0.0</td>\n",
              "      <td>-100000.0</td>\n",
              "      <td>0.0</td>\n",
              "      <td>101000.0</td>\n",
              "      <td>87208000.0</td>\n",
              "      <td>79175000.0</td>\n",
              "      <td>...</td>\n",
              "      <td>163815.613</td>\n",
              "      <td>6.0</td>\n",
              "      <td>2021</td>\n",
              "      <td>2</td>\n",
              "      <td>Zions Bancorporation, National Association</td>\n",
              "      <td>3596</td>\n",
              "      <td>Com</td>\n",
              "      <td>Stock</td>\n",
              "      <td>Finance and Insurance</td>\n",
              "      <td>Finance and Insurance</td>\n",
              "    </tr>\n",
              "    <tr>\n",
              "      <th>2021Q3</th>\n",
              "      <td>2021q3</td>\n",
              "      <td>569000.0</td>\n",
              "      <td>14000.0</td>\n",
              "      <td>0.0</td>\n",
              "      <td>0.0</td>\n",
              "      <td>-244000.0</td>\n",
              "      <td>0.0</td>\n",
              "      <td>71000.0</td>\n",
              "      <td>88306000.0</td>\n",
              "      <td>80532000.0</td>\n",
              "      <td>...</td>\n",
              "      <td>162070.463</td>\n",
              "      <td>9.0</td>\n",
              "      <td>2021</td>\n",
              "      <td>3</td>\n",
              "      <td>Zions Bancorporation, National Association</td>\n",
              "      <td>3596</td>\n",
              "      <td>Com</td>\n",
              "      <td>Stock</td>\n",
              "      <td>Finance and Insurance</td>\n",
              "      <td>Finance and Insurance</td>\n",
              "    </tr>\n",
              "    <tr>\n",
              "      <th>2021Q4</th>\n",
              "      <td>2021q4</td>\n",
              "      <td>566000.0</td>\n",
              "      <td>13000.0</td>\n",
              "      <td>0.0</td>\n",
              "      <td>0.0</td>\n",
              "      <td>-284000.0</td>\n",
              "      <td>0.0</td>\n",
              "      <td>56000.0</td>\n",
              "      <td>93200000.0</td>\n",
              "      <td>85737000.0</td>\n",
              "      <td>...</td>\n",
              "      <td>156463.463</td>\n",
              "      <td>12.0</td>\n",
              "      <td>2021</td>\n",
              "      <td>4</td>\n",
              "      <td>Zions Bancorporation, National Association</td>\n",
              "      <td>3596</td>\n",
              "      <td>Com</td>\n",
              "      <td>Stock</td>\n",
              "      <td>Finance and Insurance</td>\n",
              "      <td>Finance and Insurance</td>\n",
              "    </tr>\n",
              "    <tr>\n",
              "      <th>2022Q1</th>\n",
              "      <td>2022q1</td>\n",
              "      <td>555000.0</td>\n",
              "      <td>11000.0</td>\n",
              "      <td>0.0</td>\n",
              "      <td>0.0</td>\n",
              "      <td>-289000.0</td>\n",
              "      <td>0.0</td>\n",
              "      <td>52000.0</td>\n",
              "      <td>91126000.0</td>\n",
              "      <td>84832000.0</td>\n",
              "      <td>...</td>\n",
              "      <td>151574.325</td>\n",
              "      <td>3.0</td>\n",
              "      <td>2022</td>\n",
              "      <td>1</td>\n",
              "      <td>Zions Bancorporation, National Association</td>\n",
              "      <td>3596</td>\n",
              "      <td>Com</td>\n",
              "      <td>Stock</td>\n",
              "      <td>Finance and Insurance</td>\n",
              "      <td>Finance and Insurance</td>\n",
              "    </tr>\n",
              "    <tr>\n",
              "      <th>2022Q2</th>\n",
              "      <td>2022q2</td>\n",
              "      <td>608000.0</td>\n",
              "      <td>15000.0</td>\n",
              "      <td>0.0</td>\n",
              "      <td>0.0</td>\n",
              "      <td>-333000.0</td>\n",
              "      <td>0.0</td>\n",
              "      <td>57000.0</td>\n",
              "      <td>87784000.0</td>\n",
              "      <td>82152000.0</td>\n",
              "      <td>...</td>\n",
              "      <td>151358.748</td>\n",
              "      <td>6.0</td>\n",
              "      <td>2022</td>\n",
              "      <td>2</td>\n",
              "      <td>Zions Bancorporation, National Association</td>\n",
              "      <td>3596</td>\n",
              "      <td>Com</td>\n",
              "      <td>Stock</td>\n",
              "      <td>Finance and Insurance</td>\n",
              "      <td>Finance and Insurance</td>\n",
              "    </tr>\n",
              "  </tbody>\n",
              "</table>\n",
              "<p>46276 rows × 25 columns</p>\n",
              "</div>\n",
              "      <button class=\"colab-df-convert\" onclick=\"convertToInteractive('df-b45075a2-f81f-473d-9f69-e7b8994c4c9a')\"\n",
              "              title=\"Convert this dataframe to an interactive table.\"\n",
              "              style=\"display:none;\">\n",
              "        \n",
              "  <svg xmlns=\"http://www.w3.org/2000/svg\" height=\"24px\"viewBox=\"0 0 24 24\"\n",
              "       width=\"24px\">\n",
              "    <path d=\"M0 0h24v24H0V0z\" fill=\"none\"/>\n",
              "    <path d=\"M18.56 5.44l.94 2.06.94-2.06 2.06-.94-2.06-.94-.94-2.06-.94 2.06-2.06.94zm-11 1L8.5 8.5l.94-2.06 2.06-.94-2.06-.94L8.5 2.5l-.94 2.06-2.06.94zm10 10l.94 2.06.94-2.06 2.06-.94-2.06-.94-.94-2.06-.94 2.06-2.06.94z\"/><path d=\"M17.41 7.96l-1.37-1.37c-.4-.4-.92-.59-1.43-.59-.52 0-1.04.2-1.43.59L10.3 9.45l-7.72 7.72c-.78.78-.78 2.05 0 2.83L4 21.41c.39.39.9.59 1.41.59.51 0 1.02-.2 1.41-.59l7.78-7.78 2.81-2.81c.8-.78.8-2.07 0-2.86zM5.41 20L4 18.59l7.72-7.72 1.47 1.35L5.41 20z\"/>\n",
              "  </svg>\n",
              "      </button>\n",
              "      \n",
              "  <style>\n",
              "    .colab-df-container {\n",
              "      display:flex;\n",
              "      flex-wrap:wrap;\n",
              "      gap: 12px;\n",
              "    }\n",
              "\n",
              "    .colab-df-convert {\n",
              "      background-color: #E8F0FE;\n",
              "      border: none;\n",
              "      border-radius: 50%;\n",
              "      cursor: pointer;\n",
              "      display: none;\n",
              "      fill: #1967D2;\n",
              "      height: 32px;\n",
              "      padding: 0 0 0 0;\n",
              "      width: 32px;\n",
              "    }\n",
              "\n",
              "    .colab-df-convert:hover {\n",
              "      background-color: #E2EBFA;\n",
              "      box-shadow: 0px 1px 2px rgba(60, 64, 67, 0.3), 0px 1px 3px 1px rgba(60, 64, 67, 0.15);\n",
              "      fill: #174EA6;\n",
              "    }\n",
              "\n",
              "    [theme=dark] .colab-df-convert {\n",
              "      background-color: #3B4455;\n",
              "      fill: #D2E3FC;\n",
              "    }\n",
              "\n",
              "    [theme=dark] .colab-df-convert:hover {\n",
              "      background-color: #434B5C;\n",
              "      box-shadow: 0px 1px 3px 1px rgba(0, 0, 0, 0.15);\n",
              "      filter: drop-shadow(0px 1px 2px rgba(0, 0, 0, 0.3));\n",
              "      fill: #FFFFFF;\n",
              "    }\n",
              "  </style>\n",
              "\n",
              "      <script>\n",
              "        const buttonEl =\n",
              "          document.querySelector('#df-b45075a2-f81f-473d-9f69-e7b8994c4c9a button.colab-df-convert');\n",
              "        buttonEl.style.display =\n",
              "          google.colab.kernel.accessAllowed ? 'block' : 'none';\n",
              "\n",
              "        async function convertToInteractive(key) {\n",
              "          const element = document.querySelector('#df-b45075a2-f81f-473d-9f69-e7b8994c4c9a');\n",
              "          const dataTable =\n",
              "            await google.colab.kernel.invokeFunction('convertToInteractive',\n",
              "                                                     [key], {});\n",
              "          if (!dataTable) return;\n",
              "\n",
              "          const docLinkHtml = 'Like what you see? Visit the ' +\n",
              "            '<a target=\"_blank\" href=https://colab.research.google.com/notebooks/data_table.ipynb>data table notebook</a>'\n",
              "            + ' to learn more about interactive tables.';\n",
              "          element.innerHTML = '';\n",
              "          dataTable['output_type'] = 'display_data';\n",
              "          await google.colab.output.renderOutput(dataTable, element);\n",
              "          const docLink = document.createElement('div');\n",
              "          docLink.innerHTML = docLinkHtml;\n",
              "          element.appendChild(docLink);\n",
              "        }\n",
              "      </script>\n",
              "    </div>\n",
              "  </div>\n",
              "  "
            ]
          },
          "metadata": {},
          "execution_count": 5
        }
      ],
      "source": [
        "df['qdate'] = pd.PeriodIndex(df['q'], freq=\"Q\")\n",
        "df.set_index(['firm','qdate'], inplace=True)\n",
        "df"
      ]
    },
    {
      "cell_type": "code",
      "execution_count": 6,
      "metadata": {
        "id": "JmD8K2QdS_Xh"
      },
      "outputs": [],
      "source": [
        "#Calculating operating profit margin\n",
        "df['ebit'] = df.revenue - df.cogs - df.sgae - df.otheropexp\n",
        "df.loc[df['revenue'] < 0, 'operatingMargin'] = df.ebit / (df.revenue)  #Avoid dividing by 0\n",
        "df.loc[df['revenue'] > 0, 'operatingMargin'] = df.ebit / (df.revenue)  #Avoid dividing by 0\n",
        "df.loc[df['revenue'] == 0, 'operatingMargin'] = 'NaN'\n",
        "#df.dropna(subset=['operatingMargin'])"
      ]
    },
    {
      "cell_type": "code",
      "execution_count": 7,
      "metadata": {
        "id": "whG-8vrFgmU-"
      },
      "outputs": [],
      "source": [
        "#Getting the book to market ratio\n",
        "\n",
        "#Fist we get the book value\n",
        "df['bookValue'] = df.totalassets - df.totalliabilities \n",
        "#Then we get the market value\n",
        "df['marketValue'] = df.originalprice * df.sharesoutstanding \n",
        "\n",
        "#Then we calculate the book to market ratio by dividing book value / market value\n",
        "df.loc[df['marketValue'] < 0, 'bookToMarketRatio'] = df.bookValue / df.marketValue  #Avoid dividing by 0\n",
        "df.loc[df['marketValue'] > 0, 'bookToMarketRatio'] = df.bookValue / df.marketValue  #Avoid dividing by 0\n",
        "df.loc[df['marketValue'] == 0, 'bookToMarketRatio'] = 'NaN'\n",
        "#df.dropna(subset=['bookToMarketRatio'])"
      ]
    },
    {
      "cell_type": "code",
      "execution_count": 8,
      "metadata": {
        "id": "DqCU23tEojKl"
      },
      "outputs": [],
      "source": [
        "#Getting short financial leverage\n",
        "df['shortFinancialLeverage'] = df.shortdebt / df.totalassets\n",
        "df.loc[df['totalassets'] < 0, 'shortFinancialLeverage'] = df.shortdebt / df.totalassets #Avoid dividing by 0\n",
        "df.loc[df['totalassets'] > 0, 'shortFinancialLeverage'] = df.shortdebt / df.totalassets  #Avoid dividing by 0\n",
        "df.loc[df['totalassets'] == 0, 'shortFinancialLeverage'] = 'NaN'\n"
      ]
    },
    {
      "cell_type": "code",
      "execution_count": 9,
      "metadata": {
        "id": "7G8ZSoBwrI9M"
      },
      "outputs": [],
      "source": [
        "#Getting long financial leverage\n",
        "df.loc[df['totalassets'] < 0, 'longFinancialLeverage'] = df.longdebt / df.totalassets  #Avoid dividing by 0\n",
        "df.loc[df['totalassets'] > 0, 'longFinancialLeverage'] = df.longdebt / df.totalassets  #Avoid dividing by 0\n",
        "df.loc[df['totalassets'] == 0, 'longFinancialLeverage'] = 'NaN'\n"
      ]
    },
    {
      "cell_type": "code",
      "execution_count": 10,
      "metadata": {
        "id": "YaD2dAYSssy1"
      },
      "outputs": [],
      "source": [
        "#Getting EPS metrics\n",
        "df['netincome'] = df.revenue - df.cogs - df.sgae - df.otheropexp - df.incometax - df.finexp + df.extraincome \n",
        "df['EPS'] = df.netincome / df.sharesoutstanding\n",
        "#Getting EPSP metrics\n",
        "df.loc[df['originalprice'] < 0, 'EPSP'] = df.EPS / df.originalprice #Avoid dividing by 0\n",
        "df.loc[df['originalprice'] > 0, 'EPSP'] = df.EPS / df.originalprice  #Avoid dividing by 0\n",
        "df.loc[df['originalprice'] == 0, 'EPSP'] = 'NaN'"
      ]
    },
    {
      "cell_type": "code",
      "execution_count": 11,
      "metadata": {
        "id": "2nq_MLPczt12"
      },
      "outputs": [],
      "source": [
        "#Calculating the Continuosly Compunded Return\n",
        "df['r'] = np.log(df['adjprice'] - np.log(df['adjprice'].shift(4)))"
      ]
    },
    {
      "cell_type": "code",
      "execution_count": 12,
      "metadata": {
        "id": "nfJmP6YX7aaP"
      },
      "outputs": [],
      "source": [
        "#As we have the conditions to avoid dividing by 0 because we do not want to have infinite values, we obtain\n",
        "#objects, so we have to convert this objects into floats so we can work with them\n",
        "df = df.astype({'operatingMargin':'float64', 'bookToMarketRatio':'float64', 'shortFinancialLeverage':'float64', 'longFinancialLeverage':'float64','EPSP':'float64'})"
      ]
    },
    {
      "cell_type": "code",
      "execution_count": 13,
      "metadata": {
        "id": "JLxyO1Aqtput"
      },
      "outputs": [],
      "source": [
        "#Getting penultimate quarter of the year (2022Q1)\n",
        "df = df.groupby('firm').tail(2) \n",
        "df = df.groupby('firm').head(1)\n",
        "df = df[['operatingMargin','bookToMarketRatio','shortFinancialLeverage','longFinancialLeverage','EPSP', 'r',]]"
      ]
    },
    {
      "cell_type": "markdown",
      "metadata": {
        "id": "qSPcUsJE9j7Q"
      },
      "source": [
        "As we can see, the Short Financial Leverage has a big number of NaN values, therefore we will not use it for the following calcultaions"
      ]
    },
    {
      "cell_type": "code",
      "source": [
        "df = df.drop(columns='shortFinancialLeverage').reset_index().dropna()"
      ],
      "metadata": {
        "id": "dzqJorxx_dnn"
      },
      "execution_count": 14,
      "outputs": []
    },
    {
      "cell_type": "markdown",
      "source": [
        "#**1 - Exploratory analysis of the variables::**"
      ],
      "metadata": {
        "id": "gN8gBUmBRic3"
      }
    },
    {
      "cell_type": "markdown",
      "source": [
        "##**A - Calculates variance-covariance matrix, as well as correlation matrix of the independent and dependent variables. Explain what variance, covariance, and correlation are. Interpret the correlation matrix. You have to use matrix algebra and check results with Python functions.**"
      ],
      "metadata": {
        "id": "WXtnc3fzRo79"
      }
    },
    {
      "cell_type": "markdown",
      "source": [
        "###**Variance-Covariance matrix:**"
      ],
      "metadata": {
        "id": "pI6eYZAo8bic"
      }
    },
    {
      "cell_type": "markdown",
      "source": [
        "**Variance is a statistical measurement of the spread between numbers in a data set.This measurement is used when quantifying how spread out the values are in a data set is required. The larger the variance, the more spread out the values are. The variance is always greater than or equal to 0.**\n",
        "\n",
        "**In finance and accounting, the variance is used to show the average of the squared distances of the individual returns in a portfolio from their mean value.** \n",
        "\n",
        "**Covariance is used to measure how two variables change when compared to each other.**\n",
        "\n",
        "**The covariance can be less than 0, equal to 0, or greater than 0:**\n",
        "\n",
        "- **1.- When the covariance is less than 0: in this case, there is a negative relationship, so that X and Y are two variables that are inversely proportional to each other; i.e, when variable Y increases, variable X decreases.**\n",
        "- **2.- When the covariance is greater than 0: in this case, there is a positive relationship, so that X and Y are two variables directly proportional to each other; i.e, when variable X increases, variable Y it does too.**\n",
        "- **3.- When the covariance acquires a value equal to 0: in this case, the relationship between one variable and another variable is non-existent, which means that the covariance will be equal to 0 regardless of whether any of the two variables increases or decreases.**\n",
        "\n",
        "**In a financial context, covariance refers to the returns of two different investments over time when compared to different variables, such as stocks or other marketable securities.**\n",
        "\n",
        "**On the other hand, the variance-covariance matrix is a square matrix of dimension n*m that groups the variances in the main diagonal and the covariances in the elements outside the main diagonal. The formula to calculate the variance-covariance matrix is as follows:**\n",
        "\n",
        "**(1/n-1) [X' X - 1/N (X'1) (X'1)' ]**\n",
        "\n",
        "\n",
        "**This formula was implemented in Python with the help of the dot functions (to calculate the dot product) and the transpose function (to calculate the corresponding transposed matrix) from numpy.**"
      ],
      "metadata": {
        "id": "zX_NZUL-41lb"
      }
    },
    {
      "cell_type": "code",
      "execution_count": 15,
      "metadata": {
        "colab": {
          "base_uri": "https://localhost:8080/",
          "height": 206
        },
        "id": "eCeAZQsaDlrg",
        "outputId": "4690db1c-6986-4b68-e397-1497fcb4d633"
      },
      "outputs": [
        {
          "output_type": "execute_result",
          "data": {
            "text/plain": [
              "                       operatingMargin  bookToMarketRatio  \\\n",
              "operatingMargin               3.338279           0.179897   \n",
              "bookToMarketRatio             0.179897           0.362198   \n",
              "longFinancialLeverage        -0.019911          -0.008694   \n",
              "EPSP                          0.001116           0.010531   \n",
              "r                             0.088395          -0.255905   \n",
              "\n",
              "                       longFinancialLeverage      EPSP         r  \n",
              "operatingMargin                    -0.019911  0.001116  0.088395  \n",
              "bookToMarketRatio                  -0.008694  0.010531 -0.255905  \n",
              "longFinancialLeverage               0.022832  0.000138  0.006470  \n",
              "EPSP                                0.000138  0.003496  0.003977  \n",
              "r                                   0.006470  0.003977  1.214980  "
            ],
            "text/html": [
              "\n",
              "  <div id=\"df-802331c9-365c-46f2-afb7-dfc77b2d3eca\">\n",
              "    <div class=\"colab-df-container\">\n",
              "      <div>\n",
              "<style scoped>\n",
              "    .dataframe tbody tr th:only-of-type {\n",
              "        vertical-align: middle;\n",
              "    }\n",
              "\n",
              "    .dataframe tbody tr th {\n",
              "        vertical-align: top;\n",
              "    }\n",
              "\n",
              "    .dataframe thead th {\n",
              "        text-align: right;\n",
              "    }\n",
              "</style>\n",
              "<table border=\"1\" class=\"dataframe\">\n",
              "  <thead>\n",
              "    <tr style=\"text-align: right;\">\n",
              "      <th></th>\n",
              "      <th>operatingMargin</th>\n",
              "      <th>bookToMarketRatio</th>\n",
              "      <th>longFinancialLeverage</th>\n",
              "      <th>EPSP</th>\n",
              "      <th>r</th>\n",
              "    </tr>\n",
              "  </thead>\n",
              "  <tbody>\n",
              "    <tr>\n",
              "      <th>operatingMargin</th>\n",
              "      <td>3.338279</td>\n",
              "      <td>0.179897</td>\n",
              "      <td>-0.019911</td>\n",
              "      <td>0.001116</td>\n",
              "      <td>0.088395</td>\n",
              "    </tr>\n",
              "    <tr>\n",
              "      <th>bookToMarketRatio</th>\n",
              "      <td>0.179897</td>\n",
              "      <td>0.362198</td>\n",
              "      <td>-0.008694</td>\n",
              "      <td>0.010531</td>\n",
              "      <td>-0.255905</td>\n",
              "    </tr>\n",
              "    <tr>\n",
              "      <th>longFinancialLeverage</th>\n",
              "      <td>-0.019911</td>\n",
              "      <td>-0.008694</td>\n",
              "      <td>0.022832</td>\n",
              "      <td>0.000138</td>\n",
              "      <td>0.006470</td>\n",
              "    </tr>\n",
              "    <tr>\n",
              "      <th>EPSP</th>\n",
              "      <td>0.001116</td>\n",
              "      <td>0.010531</td>\n",
              "      <td>0.000138</td>\n",
              "      <td>0.003496</td>\n",
              "      <td>0.003977</td>\n",
              "    </tr>\n",
              "    <tr>\n",
              "      <th>r</th>\n",
              "      <td>0.088395</td>\n",
              "      <td>-0.255905</td>\n",
              "      <td>0.006470</td>\n",
              "      <td>0.003977</td>\n",
              "      <td>1.214980</td>\n",
              "    </tr>\n",
              "  </tbody>\n",
              "</table>\n",
              "</div>\n",
              "      <button class=\"colab-df-convert\" onclick=\"convertToInteractive('df-802331c9-365c-46f2-afb7-dfc77b2d3eca')\"\n",
              "              title=\"Convert this dataframe to an interactive table.\"\n",
              "              style=\"display:none;\">\n",
              "        \n",
              "  <svg xmlns=\"http://www.w3.org/2000/svg\" height=\"24px\"viewBox=\"0 0 24 24\"\n",
              "       width=\"24px\">\n",
              "    <path d=\"M0 0h24v24H0V0z\" fill=\"none\"/>\n",
              "    <path d=\"M18.56 5.44l.94 2.06.94-2.06 2.06-.94-2.06-.94-.94-2.06-.94 2.06-2.06.94zm-11 1L8.5 8.5l.94-2.06 2.06-.94-2.06-.94L8.5 2.5l-.94 2.06-2.06.94zm10 10l.94 2.06.94-2.06 2.06-.94-2.06-.94-.94-2.06-.94 2.06-2.06.94z\"/><path d=\"M17.41 7.96l-1.37-1.37c-.4-.4-.92-.59-1.43-.59-.52 0-1.04.2-1.43.59L10.3 9.45l-7.72 7.72c-.78.78-.78 2.05 0 2.83L4 21.41c.39.39.9.59 1.41.59.51 0 1.02-.2 1.41-.59l7.78-7.78 2.81-2.81c.8-.78.8-2.07 0-2.86zM5.41 20L4 18.59l7.72-7.72 1.47 1.35L5.41 20z\"/>\n",
              "  </svg>\n",
              "      </button>\n",
              "      \n",
              "  <style>\n",
              "    .colab-df-container {\n",
              "      display:flex;\n",
              "      flex-wrap:wrap;\n",
              "      gap: 12px;\n",
              "    }\n",
              "\n",
              "    .colab-df-convert {\n",
              "      background-color: #E8F0FE;\n",
              "      border: none;\n",
              "      border-radius: 50%;\n",
              "      cursor: pointer;\n",
              "      display: none;\n",
              "      fill: #1967D2;\n",
              "      height: 32px;\n",
              "      padding: 0 0 0 0;\n",
              "      width: 32px;\n",
              "    }\n",
              "\n",
              "    .colab-df-convert:hover {\n",
              "      background-color: #E2EBFA;\n",
              "      box-shadow: 0px 1px 2px rgba(60, 64, 67, 0.3), 0px 1px 3px 1px rgba(60, 64, 67, 0.15);\n",
              "      fill: #174EA6;\n",
              "    }\n",
              "\n",
              "    [theme=dark] .colab-df-convert {\n",
              "      background-color: #3B4455;\n",
              "      fill: #D2E3FC;\n",
              "    }\n",
              "\n",
              "    [theme=dark] .colab-df-convert:hover {\n",
              "      background-color: #434B5C;\n",
              "      box-shadow: 0px 1px 3px 1px rgba(0, 0, 0, 0.15);\n",
              "      filter: drop-shadow(0px 1px 2px rgba(0, 0, 0, 0.3));\n",
              "      fill: #FFFFFF;\n",
              "    }\n",
              "  </style>\n",
              "\n",
              "      <script>\n",
              "        const buttonEl =\n",
              "          document.querySelector('#df-802331c9-365c-46f2-afb7-dfc77b2d3eca button.colab-df-convert');\n",
              "        buttonEl.style.display =\n",
              "          google.colab.kernel.accessAllowed ? 'block' : 'none';\n",
              "\n",
              "        async function convertToInteractive(key) {\n",
              "          const element = document.querySelector('#df-802331c9-365c-46f2-afb7-dfc77b2d3eca');\n",
              "          const dataTable =\n",
              "            await google.colab.kernel.invokeFunction('convertToInteractive',\n",
              "                                                     [key], {});\n",
              "          if (!dataTable) return;\n",
              "\n",
              "          const docLinkHtml = 'Like what you see? Visit the ' +\n",
              "            '<a target=\"_blank\" href=https://colab.research.google.com/notebooks/data_table.ipynb>data table notebook</a>'\n",
              "            + ' to learn more about interactive tables.';\n",
              "          element.innerHTML = '';\n",
              "          dataTable['output_type'] = 'display_data';\n",
              "          await google.colab.output.renderOutput(dataTable, element);\n",
              "          const docLink = document.createElement('div');\n",
              "          docLink.innerHTML = docLinkHtml;\n",
              "          element.appendChild(docLink);\n",
              "        }\n",
              "      </script>\n",
              "    </div>\n",
              "  </div>\n",
              "  "
            ]
          },
          "metadata": {},
          "execution_count": 15
        }
      ],
      "source": [
        "#Define variables we are going to use, stroring them in the X dataframe\n",
        "X = df[['operatingMargin','bookToMarketRatio','longFinancialLeverage','EPSP', 'r']]\n",
        "Xt = X.transpose()\n",
        "\n",
        "# Obtain how many rows(N) and columns(M) we have\n",
        "N, M = X.shape\n",
        "# Create a ones matrix so I can do the (X'1) operations\n",
        "ones = np.ones((N,1))\n",
        "XtOnes = Xt.dot(ones)\n",
        "#Doing the operation that help us obtain the variance-covariance matrix:\n",
        "# VarCov(X) = (1/n-1)[X' X - 1/N (X'1) (X'1)' ]\n",
        "varCov = (1/(N-1))*(Xt.dot(X)-(1/N)*(XtOnes).dot(XtOnes.transpose()))\n",
        "varCov"
      ]
    },
    {
      "cell_type": "markdown",
      "source": [
        "**We can prove our results with the pandas function .cov()**"
      ],
      "metadata": {
        "id": "46cqcPfV5vb6"
      }
    },
    {
      "cell_type": "code",
      "execution_count": 16,
      "metadata": {
        "id": "-xX25mkDkmNm",
        "colab": {
          "base_uri": "https://localhost:8080/",
          "height": 206
        },
        "outputId": "6fe884f4-de15-46ba-cd97-f0bb475a38dd"
      },
      "outputs": [
        {
          "output_type": "execute_result",
          "data": {
            "text/plain": [
              "                       operatingMargin  bookToMarketRatio  \\\n",
              "operatingMargin               3.338279           0.179897   \n",
              "bookToMarketRatio             0.179897           0.362198   \n",
              "longFinancialLeverage        -0.019911          -0.008694   \n",
              "EPSP                          0.001116           0.010531   \n",
              "r                             0.088395          -0.255905   \n",
              "\n",
              "                       longFinancialLeverage      EPSP         r  \n",
              "operatingMargin                    -0.019911  0.001116  0.088395  \n",
              "bookToMarketRatio                  -0.008694  0.010531 -0.255905  \n",
              "longFinancialLeverage               0.022832  0.000138  0.006470  \n",
              "EPSP                                0.000138  0.003496  0.003977  \n",
              "r                                   0.006470  0.003977  1.214980  "
            ],
            "text/html": [
              "\n",
              "  <div id=\"df-bd38d3b8-74c6-43b9-a609-fd08d00b8da1\">\n",
              "    <div class=\"colab-df-container\">\n",
              "      <div>\n",
              "<style scoped>\n",
              "    .dataframe tbody tr th:only-of-type {\n",
              "        vertical-align: middle;\n",
              "    }\n",
              "\n",
              "    .dataframe tbody tr th {\n",
              "        vertical-align: top;\n",
              "    }\n",
              "\n",
              "    .dataframe thead th {\n",
              "        text-align: right;\n",
              "    }\n",
              "</style>\n",
              "<table border=\"1\" class=\"dataframe\">\n",
              "  <thead>\n",
              "    <tr style=\"text-align: right;\">\n",
              "      <th></th>\n",
              "      <th>operatingMargin</th>\n",
              "      <th>bookToMarketRatio</th>\n",
              "      <th>longFinancialLeverage</th>\n",
              "      <th>EPSP</th>\n",
              "      <th>r</th>\n",
              "    </tr>\n",
              "  </thead>\n",
              "  <tbody>\n",
              "    <tr>\n",
              "      <th>operatingMargin</th>\n",
              "      <td>3.338279</td>\n",
              "      <td>0.179897</td>\n",
              "      <td>-0.019911</td>\n",
              "      <td>0.001116</td>\n",
              "      <td>0.088395</td>\n",
              "    </tr>\n",
              "    <tr>\n",
              "      <th>bookToMarketRatio</th>\n",
              "      <td>0.179897</td>\n",
              "      <td>0.362198</td>\n",
              "      <td>-0.008694</td>\n",
              "      <td>0.010531</td>\n",
              "      <td>-0.255905</td>\n",
              "    </tr>\n",
              "    <tr>\n",
              "      <th>longFinancialLeverage</th>\n",
              "      <td>-0.019911</td>\n",
              "      <td>-0.008694</td>\n",
              "      <td>0.022832</td>\n",
              "      <td>0.000138</td>\n",
              "      <td>0.006470</td>\n",
              "    </tr>\n",
              "    <tr>\n",
              "      <th>EPSP</th>\n",
              "      <td>0.001116</td>\n",
              "      <td>0.010531</td>\n",
              "      <td>0.000138</td>\n",
              "      <td>0.003496</td>\n",
              "      <td>0.003977</td>\n",
              "    </tr>\n",
              "    <tr>\n",
              "      <th>r</th>\n",
              "      <td>0.088395</td>\n",
              "      <td>-0.255905</td>\n",
              "      <td>0.006470</td>\n",
              "      <td>0.003977</td>\n",
              "      <td>1.214980</td>\n",
              "    </tr>\n",
              "  </tbody>\n",
              "</table>\n",
              "</div>\n",
              "      <button class=\"colab-df-convert\" onclick=\"convertToInteractive('df-bd38d3b8-74c6-43b9-a609-fd08d00b8da1')\"\n",
              "              title=\"Convert this dataframe to an interactive table.\"\n",
              "              style=\"display:none;\">\n",
              "        \n",
              "  <svg xmlns=\"http://www.w3.org/2000/svg\" height=\"24px\"viewBox=\"0 0 24 24\"\n",
              "       width=\"24px\">\n",
              "    <path d=\"M0 0h24v24H0V0z\" fill=\"none\"/>\n",
              "    <path d=\"M18.56 5.44l.94 2.06.94-2.06 2.06-.94-2.06-.94-.94-2.06-.94 2.06-2.06.94zm-11 1L8.5 8.5l.94-2.06 2.06-.94-2.06-.94L8.5 2.5l-.94 2.06-2.06.94zm10 10l.94 2.06.94-2.06 2.06-.94-2.06-.94-.94-2.06-.94 2.06-2.06.94z\"/><path d=\"M17.41 7.96l-1.37-1.37c-.4-.4-.92-.59-1.43-.59-.52 0-1.04.2-1.43.59L10.3 9.45l-7.72 7.72c-.78.78-.78 2.05 0 2.83L4 21.41c.39.39.9.59 1.41.59.51 0 1.02-.2 1.41-.59l7.78-7.78 2.81-2.81c.8-.78.8-2.07 0-2.86zM5.41 20L4 18.59l7.72-7.72 1.47 1.35L5.41 20z\"/>\n",
              "  </svg>\n",
              "      </button>\n",
              "      \n",
              "  <style>\n",
              "    .colab-df-container {\n",
              "      display:flex;\n",
              "      flex-wrap:wrap;\n",
              "      gap: 12px;\n",
              "    }\n",
              "\n",
              "    .colab-df-convert {\n",
              "      background-color: #E8F0FE;\n",
              "      border: none;\n",
              "      border-radius: 50%;\n",
              "      cursor: pointer;\n",
              "      display: none;\n",
              "      fill: #1967D2;\n",
              "      height: 32px;\n",
              "      padding: 0 0 0 0;\n",
              "      width: 32px;\n",
              "    }\n",
              "\n",
              "    .colab-df-convert:hover {\n",
              "      background-color: #E2EBFA;\n",
              "      box-shadow: 0px 1px 2px rgba(60, 64, 67, 0.3), 0px 1px 3px 1px rgba(60, 64, 67, 0.15);\n",
              "      fill: #174EA6;\n",
              "    }\n",
              "\n",
              "    [theme=dark] .colab-df-convert {\n",
              "      background-color: #3B4455;\n",
              "      fill: #D2E3FC;\n",
              "    }\n",
              "\n",
              "    [theme=dark] .colab-df-convert:hover {\n",
              "      background-color: #434B5C;\n",
              "      box-shadow: 0px 1px 3px 1px rgba(0, 0, 0, 0.15);\n",
              "      filter: drop-shadow(0px 1px 2px rgba(0, 0, 0, 0.3));\n",
              "      fill: #FFFFFF;\n",
              "    }\n",
              "  </style>\n",
              "\n",
              "      <script>\n",
              "        const buttonEl =\n",
              "          document.querySelector('#df-bd38d3b8-74c6-43b9-a609-fd08d00b8da1 button.colab-df-convert');\n",
              "        buttonEl.style.display =\n",
              "          google.colab.kernel.accessAllowed ? 'block' : 'none';\n",
              "\n",
              "        async function convertToInteractive(key) {\n",
              "          const element = document.querySelector('#df-bd38d3b8-74c6-43b9-a609-fd08d00b8da1');\n",
              "          const dataTable =\n",
              "            await google.colab.kernel.invokeFunction('convertToInteractive',\n",
              "                                                     [key], {});\n",
              "          if (!dataTable) return;\n",
              "\n",
              "          const docLinkHtml = 'Like what you see? Visit the ' +\n",
              "            '<a target=\"_blank\" href=https://colab.research.google.com/notebooks/data_table.ipynb>data table notebook</a>'\n",
              "            + ' to learn more about interactive tables.';\n",
              "          element.innerHTML = '';\n",
              "          dataTable['output_type'] = 'display_data';\n",
              "          await google.colab.output.renderOutput(dataTable, element);\n",
              "          const docLink = document.createElement('div');\n",
              "          docLink.innerHTML = docLinkHtml;\n",
              "          element.appendChild(docLink);\n",
              "        }\n",
              "      </script>\n",
              "    </div>\n",
              "  </div>\n",
              "  "
            ]
          },
          "metadata": {},
          "execution_count": 16
        }
      ],
      "source": [
        "#Python function that help us get the correlation\n",
        "df.cov()"
      ]
    },
    {
      "cell_type": "markdown",
      "source": [
        "**According to the previously calculated variance-covariance matrix, the following can be inferred (Based on the result of the main diagonal):**\n",
        "\n",
        " - **The variance of “operatingMargin” is ≈ 3.33**\n",
        " - **The variance of “bookToMarketRatio” is ≈ 0.36**\n",
        " - **The variance of “longFinancialLeverage” is ≈ 0.022**\n",
        " - **The variance of “EPSP” is ≈ 0.0034**\n",
        " - **The variance of “r” is ≈ 1.21**\n",
        "\n",
        "**The covariance between variables can be obtained from the result obtained outside the main diagonal. For example, the covariance between operatingMargin and bookToMarketRatio is ≈ 0.17.**\n",
        "\n",
        "**Finally, the result obtained by the formula implementation and the result of the variance-covariance matrix obtained using the method .cov() was compared having the exact same value.** \n"
      ],
      "metadata": {
        "id": "trUsfGfa56Uv"
      }
    },
    {
      "cell_type": "markdown",
      "source": [
        "###**Correlation Matrix**"
      ],
      "metadata": {
        "id": "Yhh_l9dx__OS"
      }
    },
    {
      "cell_type": "markdown",
      "source": [
        "**A correlation matrix is a table that help us to have a better understanding of our variables and their correlation coefficients with other variables and to identify patterns in the given data.** \n",
        "\n",
        "**Correlation coefficient values are between +/- 1.0. A really strong correlation can be considered with an absolute value over 0.6, and when doing the correlation matrix we can see 1s in the diagonal because of course one viarbe is completely correlated with its own**"
      ],
      "metadata": {
        "id": "TDvyoeZgMzWW"
      }
    },
    {
      "cell_type": "code",
      "source": [
        "#We obtain the varaince with the diagonal \n",
        "N, M = df[['operatingMargin','bookToMarketRatio','longFinancialLeverage','EPSP', 'r']].shape\n",
        "variance = np.diag(varCov).reshape(1, M)\n",
        "#Calculate the standar deviation\n",
        "std = np.sqrt(variance) * np.sqrt(variance.transpose()) \n",
        "#Get the correlation matrix\n",
        "correlationMatrix = varCov / std\n",
        "correlationMatrix"
      ],
      "metadata": {
        "colab": {
          "base_uri": "https://localhost:8080/",
          "height": 206
        },
        "id": "EYDSmGSj9kF7",
        "outputId": "9d3e81cf-3829-4714-b15c-b83ead13ca9d"
      },
      "execution_count": 17,
      "outputs": [
        {
          "output_type": "execute_result",
          "data": {
            "text/plain": [
              "                       operatingMargin  bookToMarketRatio  \\\n",
              "operatingMargin               1.000000           0.163603   \n",
              "bookToMarketRatio             0.163603           1.000000   \n",
              "longFinancialLeverage        -0.072122          -0.095601   \n",
              "EPSP                          0.010334           0.295916   \n",
              "r                             0.043892          -0.385765   \n",
              "\n",
              "                       longFinancialLeverage      EPSP         r  \n",
              "operatingMargin                    -0.072122  0.010334  0.043892  \n",
              "bookToMarketRatio                  -0.095601  0.295916 -0.385765  \n",
              "longFinancialLeverage               1.000000  0.015401  0.038844  \n",
              "EPSP                                0.015401  1.000000  0.061017  \n",
              "r                                   0.038844  0.061017  1.000000  "
            ],
            "text/html": [
              "\n",
              "  <div id=\"df-795bdee3-e0fa-4a03-a9ad-09e23f383cb0\">\n",
              "    <div class=\"colab-df-container\">\n",
              "      <div>\n",
              "<style scoped>\n",
              "    .dataframe tbody tr th:only-of-type {\n",
              "        vertical-align: middle;\n",
              "    }\n",
              "\n",
              "    .dataframe tbody tr th {\n",
              "        vertical-align: top;\n",
              "    }\n",
              "\n",
              "    .dataframe thead th {\n",
              "        text-align: right;\n",
              "    }\n",
              "</style>\n",
              "<table border=\"1\" class=\"dataframe\">\n",
              "  <thead>\n",
              "    <tr style=\"text-align: right;\">\n",
              "      <th></th>\n",
              "      <th>operatingMargin</th>\n",
              "      <th>bookToMarketRatio</th>\n",
              "      <th>longFinancialLeverage</th>\n",
              "      <th>EPSP</th>\n",
              "      <th>r</th>\n",
              "    </tr>\n",
              "  </thead>\n",
              "  <tbody>\n",
              "    <tr>\n",
              "      <th>operatingMargin</th>\n",
              "      <td>1.000000</td>\n",
              "      <td>0.163603</td>\n",
              "      <td>-0.072122</td>\n",
              "      <td>0.010334</td>\n",
              "      <td>0.043892</td>\n",
              "    </tr>\n",
              "    <tr>\n",
              "      <th>bookToMarketRatio</th>\n",
              "      <td>0.163603</td>\n",
              "      <td>1.000000</td>\n",
              "      <td>-0.095601</td>\n",
              "      <td>0.295916</td>\n",
              "      <td>-0.385765</td>\n",
              "    </tr>\n",
              "    <tr>\n",
              "      <th>longFinancialLeverage</th>\n",
              "      <td>-0.072122</td>\n",
              "      <td>-0.095601</td>\n",
              "      <td>1.000000</td>\n",
              "      <td>0.015401</td>\n",
              "      <td>0.038844</td>\n",
              "    </tr>\n",
              "    <tr>\n",
              "      <th>EPSP</th>\n",
              "      <td>0.010334</td>\n",
              "      <td>0.295916</td>\n",
              "      <td>0.015401</td>\n",
              "      <td>1.000000</td>\n",
              "      <td>0.061017</td>\n",
              "    </tr>\n",
              "    <tr>\n",
              "      <th>r</th>\n",
              "      <td>0.043892</td>\n",
              "      <td>-0.385765</td>\n",
              "      <td>0.038844</td>\n",
              "      <td>0.061017</td>\n",
              "      <td>1.000000</td>\n",
              "    </tr>\n",
              "  </tbody>\n",
              "</table>\n",
              "</div>\n",
              "      <button class=\"colab-df-convert\" onclick=\"convertToInteractive('df-795bdee3-e0fa-4a03-a9ad-09e23f383cb0')\"\n",
              "              title=\"Convert this dataframe to an interactive table.\"\n",
              "              style=\"display:none;\">\n",
              "        \n",
              "  <svg xmlns=\"http://www.w3.org/2000/svg\" height=\"24px\"viewBox=\"0 0 24 24\"\n",
              "       width=\"24px\">\n",
              "    <path d=\"M0 0h24v24H0V0z\" fill=\"none\"/>\n",
              "    <path d=\"M18.56 5.44l.94 2.06.94-2.06 2.06-.94-2.06-.94-.94-2.06-.94 2.06-2.06.94zm-11 1L8.5 8.5l.94-2.06 2.06-.94-2.06-.94L8.5 2.5l-.94 2.06-2.06.94zm10 10l.94 2.06.94-2.06 2.06-.94-2.06-.94-.94-2.06-.94 2.06-2.06.94z\"/><path d=\"M17.41 7.96l-1.37-1.37c-.4-.4-.92-.59-1.43-.59-.52 0-1.04.2-1.43.59L10.3 9.45l-7.72 7.72c-.78.78-.78 2.05 0 2.83L4 21.41c.39.39.9.59 1.41.59.51 0 1.02-.2 1.41-.59l7.78-7.78 2.81-2.81c.8-.78.8-2.07 0-2.86zM5.41 20L4 18.59l7.72-7.72 1.47 1.35L5.41 20z\"/>\n",
              "  </svg>\n",
              "      </button>\n",
              "      \n",
              "  <style>\n",
              "    .colab-df-container {\n",
              "      display:flex;\n",
              "      flex-wrap:wrap;\n",
              "      gap: 12px;\n",
              "    }\n",
              "\n",
              "    .colab-df-convert {\n",
              "      background-color: #E8F0FE;\n",
              "      border: none;\n",
              "      border-radius: 50%;\n",
              "      cursor: pointer;\n",
              "      display: none;\n",
              "      fill: #1967D2;\n",
              "      height: 32px;\n",
              "      padding: 0 0 0 0;\n",
              "      width: 32px;\n",
              "    }\n",
              "\n",
              "    .colab-df-convert:hover {\n",
              "      background-color: #E2EBFA;\n",
              "      box-shadow: 0px 1px 2px rgba(60, 64, 67, 0.3), 0px 1px 3px 1px rgba(60, 64, 67, 0.15);\n",
              "      fill: #174EA6;\n",
              "    }\n",
              "\n",
              "    [theme=dark] .colab-df-convert {\n",
              "      background-color: #3B4455;\n",
              "      fill: #D2E3FC;\n",
              "    }\n",
              "\n",
              "    [theme=dark] .colab-df-convert:hover {\n",
              "      background-color: #434B5C;\n",
              "      box-shadow: 0px 1px 3px 1px rgba(0, 0, 0, 0.15);\n",
              "      filter: drop-shadow(0px 1px 2px rgba(0, 0, 0, 0.3));\n",
              "      fill: #FFFFFF;\n",
              "    }\n",
              "  </style>\n",
              "\n",
              "      <script>\n",
              "        const buttonEl =\n",
              "          document.querySelector('#df-795bdee3-e0fa-4a03-a9ad-09e23f383cb0 button.colab-df-convert');\n",
              "        buttonEl.style.display =\n",
              "          google.colab.kernel.accessAllowed ? 'block' : 'none';\n",
              "\n",
              "        async function convertToInteractive(key) {\n",
              "          const element = document.querySelector('#df-795bdee3-e0fa-4a03-a9ad-09e23f383cb0');\n",
              "          const dataTable =\n",
              "            await google.colab.kernel.invokeFunction('convertToInteractive',\n",
              "                                                     [key], {});\n",
              "          if (!dataTable) return;\n",
              "\n",
              "          const docLinkHtml = 'Like what you see? Visit the ' +\n",
              "            '<a target=\"_blank\" href=https://colab.research.google.com/notebooks/data_table.ipynb>data table notebook</a>'\n",
              "            + ' to learn more about interactive tables.';\n",
              "          element.innerHTML = '';\n",
              "          dataTable['output_type'] = 'display_data';\n",
              "          await google.colab.output.renderOutput(dataTable, element);\n",
              "          const docLink = document.createElement('div');\n",
              "          docLink.innerHTML = docLinkHtml;\n",
              "          element.appendChild(docLink);\n",
              "        }\n",
              "      </script>\n",
              "    </div>\n",
              "  </div>\n",
              "  "
            ]
          },
          "metadata": {},
          "execution_count": 17
        }
      ]
    },
    {
      "cell_type": "code",
      "execution_count": 18,
      "metadata": {
        "id": "VqcbvHCrbhQL",
        "colab": {
          "base_uri": "https://localhost:8080/",
          "height": 206
        },
        "outputId": "8af10002-da6f-41b8-f4e1-9660c7570695"
      },
      "outputs": [
        {
          "output_type": "execute_result",
          "data": {
            "text/plain": [
              "<pandas.io.formats.style.Styler at 0x7f77c2d71e50>"
            ],
            "text/html": [
              "<style type=\"text/css\">\n",
              "#T_cb2df_row0_col0, #T_cb2df_row1_col1, #T_cb2df_row2_col2, #T_cb2df_row3_col3, #T_cb2df_row4_col4 {\n",
              "  background-color: #b40426;\n",
              "  color: #f1f1f1;\n",
              "}\n",
              "#T_cb2df_row0_col1 {\n",
              "  background-color: #bfd3f6;\n",
              "  color: #000000;\n",
              "}\n",
              "#T_cb2df_row0_col2 {\n",
              "  background-color: #4055c8;\n",
              "  color: #f1f1f1;\n",
              "}\n",
              "#T_cb2df_row0_col3, #T_cb2df_row1_col2, #T_cb2df_row1_col4, #T_cb2df_row2_col0, #T_cb2df_row4_col1 {\n",
              "  background-color: #3b4cc0;\n",
              "  color: #f1f1f1;\n",
              "}\n",
              "#T_cb2df_row0_col4 {\n",
              "  background-color: #a2c1ff;\n",
              "  color: #000000;\n",
              "}\n",
              "#T_cb2df_row1_col0 {\n",
              "  background-color: #82a6fb;\n",
              "  color: #f1f1f1;\n",
              "}\n",
              "#T_cb2df_row1_col3 {\n",
              "  background-color: #9abbff;\n",
              "  color: #000000;\n",
              "}\n",
              "#T_cb2df_row2_col1 {\n",
              "  background-color: #7ea1fa;\n",
              "  color: #f1f1f1;\n",
              "}\n",
              "#T_cb2df_row2_col3 {\n",
              "  background-color: #3c4ec2;\n",
              "  color: #f1f1f1;\n",
              "}\n",
              "#T_cb2df_row2_col4 {\n",
              "  background-color: #a1c0ff;\n",
              "  color: #000000;\n",
              "}\n",
              "#T_cb2df_row3_col0 {\n",
              "  background-color: #516ddb;\n",
              "  color: #f1f1f1;\n",
              "}\n",
              "#T_cb2df_row3_col1 {\n",
              "  background-color: #dadce0;\n",
              "  color: #000000;\n",
              "}\n",
              "#T_cb2df_row3_col2 {\n",
              "  background-color: #5977e3;\n",
              "  color: #f1f1f1;\n",
              "}\n",
              "#T_cb2df_row3_col4 {\n",
              "  background-color: #a6c4fe;\n",
              "  color: #000000;\n",
              "}\n",
              "#T_cb2df_row4_col0 {\n",
              "  background-color: #5b7ae5;\n",
              "  color: #f1f1f1;\n",
              "}\n",
              "#T_cb2df_row4_col2 {\n",
              "  background-color: #6180e9;\n",
              "  color: #f1f1f1;\n",
              "}\n",
              "#T_cb2df_row4_col3 {\n",
              "  background-color: #4a63d3;\n",
              "  color: #f1f1f1;\n",
              "}\n",
              "</style>\n",
              "<table id=\"T_cb2df_\" class=\"dataframe\">\n",
              "  <thead>\n",
              "    <tr>\n",
              "      <th class=\"blank level0\" >&nbsp;</th>\n",
              "      <th class=\"col_heading level0 col0\" >operatingMargin</th>\n",
              "      <th class=\"col_heading level0 col1\" >bookToMarketRatio</th>\n",
              "      <th class=\"col_heading level0 col2\" >longFinancialLeverage</th>\n",
              "      <th class=\"col_heading level0 col3\" >EPSP</th>\n",
              "      <th class=\"col_heading level0 col4\" >r</th>\n",
              "    </tr>\n",
              "  </thead>\n",
              "  <tbody>\n",
              "    <tr>\n",
              "      <th id=\"T_cb2df_level0_row0\" class=\"row_heading level0 row0\" >operatingMargin</th>\n",
              "      <td id=\"T_cb2df_row0_col0\" class=\"data row0 col0\" >1.000000</td>\n",
              "      <td id=\"T_cb2df_row0_col1\" class=\"data row0 col1\" >0.163603</td>\n",
              "      <td id=\"T_cb2df_row0_col2\" class=\"data row0 col2\" >-0.072122</td>\n",
              "      <td id=\"T_cb2df_row0_col3\" class=\"data row0 col3\" >0.010334</td>\n",
              "      <td id=\"T_cb2df_row0_col4\" class=\"data row0 col4\" >0.043892</td>\n",
              "    </tr>\n",
              "    <tr>\n",
              "      <th id=\"T_cb2df_level0_row1\" class=\"row_heading level0 row1\" >bookToMarketRatio</th>\n",
              "      <td id=\"T_cb2df_row1_col0\" class=\"data row1 col0\" >0.163603</td>\n",
              "      <td id=\"T_cb2df_row1_col1\" class=\"data row1 col1\" >1.000000</td>\n",
              "      <td id=\"T_cb2df_row1_col2\" class=\"data row1 col2\" >-0.095601</td>\n",
              "      <td id=\"T_cb2df_row1_col3\" class=\"data row1 col3\" >0.295916</td>\n",
              "      <td id=\"T_cb2df_row1_col4\" class=\"data row1 col4\" >-0.385765</td>\n",
              "    </tr>\n",
              "    <tr>\n",
              "      <th id=\"T_cb2df_level0_row2\" class=\"row_heading level0 row2\" >longFinancialLeverage</th>\n",
              "      <td id=\"T_cb2df_row2_col0\" class=\"data row2 col0\" >-0.072122</td>\n",
              "      <td id=\"T_cb2df_row2_col1\" class=\"data row2 col1\" >-0.095601</td>\n",
              "      <td id=\"T_cb2df_row2_col2\" class=\"data row2 col2\" >1.000000</td>\n",
              "      <td id=\"T_cb2df_row2_col3\" class=\"data row2 col3\" >0.015401</td>\n",
              "      <td id=\"T_cb2df_row2_col4\" class=\"data row2 col4\" >0.038844</td>\n",
              "    </tr>\n",
              "    <tr>\n",
              "      <th id=\"T_cb2df_level0_row3\" class=\"row_heading level0 row3\" >EPSP</th>\n",
              "      <td id=\"T_cb2df_row3_col0\" class=\"data row3 col0\" >0.010334</td>\n",
              "      <td id=\"T_cb2df_row3_col1\" class=\"data row3 col1\" >0.295916</td>\n",
              "      <td id=\"T_cb2df_row3_col2\" class=\"data row3 col2\" >0.015401</td>\n",
              "      <td id=\"T_cb2df_row3_col3\" class=\"data row3 col3\" >1.000000</td>\n",
              "      <td id=\"T_cb2df_row3_col4\" class=\"data row3 col4\" >0.061017</td>\n",
              "    </tr>\n",
              "    <tr>\n",
              "      <th id=\"T_cb2df_level0_row4\" class=\"row_heading level0 row4\" >r</th>\n",
              "      <td id=\"T_cb2df_row4_col0\" class=\"data row4 col0\" >0.043892</td>\n",
              "      <td id=\"T_cb2df_row4_col1\" class=\"data row4 col1\" >-0.385765</td>\n",
              "      <td id=\"T_cb2df_row4_col2\" class=\"data row4 col2\" >0.038844</td>\n",
              "      <td id=\"T_cb2df_row4_col3\" class=\"data row4 col3\" >0.061017</td>\n",
              "      <td id=\"T_cb2df_row4_col4\" class=\"data row4 col4\" >1.000000</td>\n",
              "    </tr>\n",
              "  </tbody>\n",
              "</table>\n"
            ]
          },
          "metadata": {},
          "execution_count": 18
        }
      ],
      "source": [
        "corr = df.corr()\n",
        "corr.style.background_gradient(cmap='coolwarm')"
      ]
    },
    {
      "cell_type": "markdown",
      "source": [
        "##**B - Run statistical tests to detect outliers and leverage points. You have to use matrix algebra for the tests and clearly explain how the tests work. You can use Python functions to check results.**"
      ],
      "metadata": {
        "id": "-5-JUy5CVIFr"
      }
    },
    {
      "cell_type": "markdown",
      "source": [
        "###Leverage points detection"
      ],
      "metadata": {
        "id": "3VF-xX9jpVuR"
      }
    },
    {
      "cell_type": "markdown",
      "source": [
        "**A leverage point is an observation that has an unusual predictor value that is very different from the the observations. If this leverage point is an influence point means that its removal from the data set would cause a large change in the estimated reggression model coefficients. Removing the high leverage points usually makes the prediction more accurate**\n",
        "\n",
        "**To be considered as an influence point it has to have extreme values. To help us identify them it exists a common rule to flag any observation whose leverage value, is more than 3 times larger than the mean leverage value:**\n",
        "\n",
        "- **3((k+1)/n)**\n",
        "\n",
        "**where:**\n",
        " - **k = number of x variables**\n",
        " - **n = number of values**\n",
        "\n",
        "**If our point is bigget than 3((k+1)/n) then we flag the observations as \"Unusual X\" because potentially is a large influence. What we want is not to have high leverage poins, so we can have better predictions**"
      ],
      "metadata": {
        "id": "EykB_7ZlBUPU"
      }
    },
    {
      "cell_type": "code",
      "source": [
        "#Define independant variables\n",
        "X = df[['operatingMargin','bookToMarketRatio','longFinancialLeverage','EPSP']]\n",
        "Xt = X.transpose()\n",
        "#Define dependant varible\n",
        "y = df['r']\n",
        "y = y.to_numpy().reshape(476,1) #Because it has to be of shape nx1\n",
        "# Obtain how many rows(N) and columns(M) we have\n",
        "N, M = X.shape\n",
        "# Create a ones matrix so I can do the (X'1) operations\n",
        "ones = np.ones((N,1))\n",
        "XtOnes = Xt.dot(ones)\n",
        "#Doing the operation that help us obtain the ŷ:\n",
        "#Formula ŷ = Hy\n",
        "#Formula H =X(X′X)−1X′\n",
        "H =  X.dot((matrix_power(Xt.dot(X),-1)).dot(Xt))\n",
        "yHat = H.dot(y)\n",
        "lpdf = pd.DataFrame(yHat) #Leverage Points Data Frame\n",
        "lpdf.columns = ['yHat']\n",
        "lpdf['y'] = y\n",
        "N, M = lpdf.shape\n",
        "#Obtainig high leverage points with the 3(k+1/n) formula\n",
        "#k are the number of parameters considered\n",
        "highLeveragePoints = 3 * (4+1/N)\n",
        "#prints only the ones that are over the high leverage formula\n",
        "lpdf[lpdf['yHat'].abs()>highLeveragePoints]"
      ],
      "metadata": {
        "colab": {
          "base_uri": "https://localhost:8080/",
          "height": 143
        },
        "id": "1PseCm2P9bZZ",
        "outputId": "f9dd4b18-9bc6-4a58-e42e-fc077ea861ae"
      },
      "execution_count": 19,
      "outputs": [
        {
          "output_type": "execute_result",
          "data": {
            "text/plain": [
              "          yHat         y\n",
              "113  13.898289  2.526965\n",
              "209  13.015073  2.037274\n",
              "213  16.077826  0.947803"
            ],
            "text/html": [
              "\n",
              "  <div id=\"df-e4e1b72b-1922-4aeb-b336-b54e1d396e12\">\n",
              "    <div class=\"colab-df-container\">\n",
              "      <div>\n",
              "<style scoped>\n",
              "    .dataframe tbody tr th:only-of-type {\n",
              "        vertical-align: middle;\n",
              "    }\n",
              "\n",
              "    .dataframe tbody tr th {\n",
              "        vertical-align: top;\n",
              "    }\n",
              "\n",
              "    .dataframe thead th {\n",
              "        text-align: right;\n",
              "    }\n",
              "</style>\n",
              "<table border=\"1\" class=\"dataframe\">\n",
              "  <thead>\n",
              "    <tr style=\"text-align: right;\">\n",
              "      <th></th>\n",
              "      <th>yHat</th>\n",
              "      <th>y</th>\n",
              "    </tr>\n",
              "  </thead>\n",
              "  <tbody>\n",
              "    <tr>\n",
              "      <th>113</th>\n",
              "      <td>13.898289</td>\n",
              "      <td>2.526965</td>\n",
              "    </tr>\n",
              "    <tr>\n",
              "      <th>209</th>\n",
              "      <td>13.015073</td>\n",
              "      <td>2.037274</td>\n",
              "    </tr>\n",
              "    <tr>\n",
              "      <th>213</th>\n",
              "      <td>16.077826</td>\n",
              "      <td>0.947803</td>\n",
              "    </tr>\n",
              "  </tbody>\n",
              "</table>\n",
              "</div>\n",
              "      <button class=\"colab-df-convert\" onclick=\"convertToInteractive('df-e4e1b72b-1922-4aeb-b336-b54e1d396e12')\"\n",
              "              title=\"Convert this dataframe to an interactive table.\"\n",
              "              style=\"display:none;\">\n",
              "        \n",
              "  <svg xmlns=\"http://www.w3.org/2000/svg\" height=\"24px\"viewBox=\"0 0 24 24\"\n",
              "       width=\"24px\">\n",
              "    <path d=\"M0 0h24v24H0V0z\" fill=\"none\"/>\n",
              "    <path d=\"M18.56 5.44l.94 2.06.94-2.06 2.06-.94-2.06-.94-.94-2.06-.94 2.06-2.06.94zm-11 1L8.5 8.5l.94-2.06 2.06-.94-2.06-.94L8.5 2.5l-.94 2.06-2.06.94zm10 10l.94 2.06.94-2.06 2.06-.94-2.06-.94-.94-2.06-.94 2.06-2.06.94z\"/><path d=\"M17.41 7.96l-1.37-1.37c-.4-.4-.92-.59-1.43-.59-.52 0-1.04.2-1.43.59L10.3 9.45l-7.72 7.72c-.78.78-.78 2.05 0 2.83L4 21.41c.39.39.9.59 1.41.59.51 0 1.02-.2 1.41-.59l7.78-7.78 2.81-2.81c.8-.78.8-2.07 0-2.86zM5.41 20L4 18.59l7.72-7.72 1.47 1.35L5.41 20z\"/>\n",
              "  </svg>\n",
              "      </button>\n",
              "      \n",
              "  <style>\n",
              "    .colab-df-container {\n",
              "      display:flex;\n",
              "      flex-wrap:wrap;\n",
              "      gap: 12px;\n",
              "    }\n",
              "\n",
              "    .colab-df-convert {\n",
              "      background-color: #E8F0FE;\n",
              "      border: none;\n",
              "      border-radius: 50%;\n",
              "      cursor: pointer;\n",
              "      display: none;\n",
              "      fill: #1967D2;\n",
              "      height: 32px;\n",
              "      padding: 0 0 0 0;\n",
              "      width: 32px;\n",
              "    }\n",
              "\n",
              "    .colab-df-convert:hover {\n",
              "      background-color: #E2EBFA;\n",
              "      box-shadow: 0px 1px 2px rgba(60, 64, 67, 0.3), 0px 1px 3px 1px rgba(60, 64, 67, 0.15);\n",
              "      fill: #174EA6;\n",
              "    }\n",
              "\n",
              "    [theme=dark] .colab-df-convert {\n",
              "      background-color: #3B4455;\n",
              "      fill: #D2E3FC;\n",
              "    }\n",
              "\n",
              "    [theme=dark] .colab-df-convert:hover {\n",
              "      background-color: #434B5C;\n",
              "      box-shadow: 0px 1px 3px 1px rgba(0, 0, 0, 0.15);\n",
              "      filter: drop-shadow(0px 1px 2px rgba(0, 0, 0, 0.3));\n",
              "      fill: #FFFFFF;\n",
              "    }\n",
              "  </style>\n",
              "\n",
              "      <script>\n",
              "        const buttonEl =\n",
              "          document.querySelector('#df-e4e1b72b-1922-4aeb-b336-b54e1d396e12 button.colab-df-convert');\n",
              "        buttonEl.style.display =\n",
              "          google.colab.kernel.accessAllowed ? 'block' : 'none';\n",
              "\n",
              "        async function convertToInteractive(key) {\n",
              "          const element = document.querySelector('#df-e4e1b72b-1922-4aeb-b336-b54e1d396e12');\n",
              "          const dataTable =\n",
              "            await google.colab.kernel.invokeFunction('convertToInteractive',\n",
              "                                                     [key], {});\n",
              "          if (!dataTable) return;\n",
              "\n",
              "          const docLinkHtml = 'Like what you see? Visit the ' +\n",
              "            '<a target=\"_blank\" href=https://colab.research.google.com/notebooks/data_table.ipynb>data table notebook</a>'\n",
              "            + ' to learn more about interactive tables.';\n",
              "          element.innerHTML = '';\n",
              "          dataTable['output_type'] = 'display_data';\n",
              "          await google.colab.output.renderOutput(dataTable, element);\n",
              "          const docLink = document.createElement('div');\n",
              "          docLink.innerHTML = docLinkHtml;\n",
              "          element.appendChild(docLink);\n",
              "        }\n",
              "      </script>\n",
              "    </div>\n",
              "  </div>\n",
              "  "
            ]
          },
          "metadata": {},
          "execution_count": 19
        }
      ]
    },
    {
      "cell_type": "markdown",
      "source": [
        "**I decided to run a Multivariate Linear Regression so we can see the improvement in the model when dropping the leverage points. First we see the Multivariate Linear Regression before droping the leverage points**"
      ],
      "metadata": {
        "id": "A5DmORvVHlap"
      }
    },
    {
      "cell_type": "code",
      "source": [
        "#Multivariate Linear Regression with leverage points\n",
        "#First we have to drop the Infinite values and Nas\n",
        "df.replace([np.inf, -np.inf], np.nan, inplace=True)\n",
        "dfML = df.reset_index().drop(columns=['firm','qdate']).dropna()\n",
        "#define dependant variable (response)\n",
        "y = dfML['r']\n",
        "#define independant variables (predictor)\n",
        "x = dfML[['operatingMargin','bookToMarketRatio','longFinancialLeverage','EPSP']]\n",
        "#add constant to predictor variables\n",
        "x = sm.add_constant(x)\n",
        "#fit linear regression model\n",
        "model = sm.OLS(y, x).fit()\n",
        "#view model summary\n",
        "print(model.summary())"
      ],
      "metadata": {
        "colab": {
          "base_uri": "https://localhost:8080/"
        },
        "id": "AxnaVYCoHkwq",
        "outputId": "8fa1b3c8-f697-426f-b370-90632ea46047"
      },
      "execution_count": 20,
      "outputs": [
        {
          "output_type": "stream",
          "name": "stdout",
          "text": [
            "                            OLS Regression Results                            \n",
            "==============================================================================\n",
            "Dep. Variable:                      r   R-squared:                       0.196\n",
            "Model:                            OLS   Adj. R-squared:                  0.189\n",
            "Method:                 Least Squares   F-statistic:                     28.69\n",
            "Date:                Fri, 14 Oct 2022   Prob (F-statistic):           2.37e-21\n",
            "Time:                        21:04:30   Log-Likelihood:                -669.37\n",
            "No. Observations:                 476   AIC:                             1349.\n",
            "Df Residuals:                     471   BIC:                             1370.\n",
            "Df Model:                           4                                         \n",
            "Covariance Type:            nonrobust                                         \n",
            "=========================================================================================\n",
            "                            coef    std err          t      P>|t|      [0.025      0.975]\n",
            "-----------------------------------------------------------------------------------------\n",
            "const                     4.0325      0.084     48.246      0.000       3.868       4.197\n",
            "operatingMargin           0.0710      0.025      2.802      0.005       0.021       0.121\n",
            "bookToMarketRatio        -0.8485      0.081    -10.511      0.000      -1.007      -0.690\n",
            "longFinancialLeverage  5.212e-05      0.304      0.000      1.000      -0.597       0.597\n",
            "EPSP                      3.6703      0.808      4.544      0.000       2.083       5.258\n",
            "==============================================================================\n",
            "Omnibus:                       35.999   Durbin-Watson:                   2.047\n",
            "Prob(Omnibus):                  0.000   Jarque-Bera (JB):               90.215\n",
            "Skew:                           0.369   Prob(JB):                     2.57e-20\n",
            "Kurtosis:                       5.001   Cond. No.                         36.3\n",
            "==============================================================================\n",
            "\n",
            "Notes:\n",
            "[1] Standard Errors assume that the covariance matrix of the errors is correctly specified.\n"
          ]
        }
      ]
    },
    {
      "cell_type": "markdown",
      "source": [
        "**Dropping the leverage poins**"
      ],
      "metadata": {
        "id": "kRuHuXNFH4s2"
      }
    },
    {
      "cell_type": "code",
      "source": [
        "#Droping rows that are leverage points on the main dataframe\n",
        "df = df.drop(labels=[113,209,213], axis=0)"
      ],
      "metadata": {
        "id": "YpVZSaeHF1fK"
      },
      "execution_count": 21,
      "outputs": []
    },
    {
      "cell_type": "markdown",
      "source": [
        "**Multivariate Linear Regression without leverage points**"
      ],
      "metadata": {
        "id": "sh6mEakWIFlT"
      }
    },
    {
      "cell_type": "code",
      "source": [
        "#Multivariate Linear Regression \n",
        "#First we have to drop the Infinite values and Nas\n",
        "df.replace([np.inf, -np.inf], np.nan, inplace=True)\n",
        "dfML = df.reset_index().drop(columns=['firm','qdate']).dropna()\n",
        "#define dependant variable (response)\n",
        "y = dfML['r']\n",
        "#define independant variables (predictor)\n",
        "x = dfML[['operatingMargin','bookToMarketRatio','longFinancialLeverage','EPSP']]\n",
        "#add constant to predictor variables\n",
        "x = sm.add_constant(x)\n",
        "#fit linear regression model\n",
        "model = sm.OLS(y, x).fit()\n",
        "#view model summary\n",
        "print(model.summary())"
      ],
      "metadata": {
        "colab": {
          "base_uri": "https://localhost:8080/"
        },
        "id": "GOVR2OaIHuNv",
        "outputId": "f7d4c1e2-2069-4236-e714-b5ad7abb9d78"
      },
      "execution_count": 22,
      "outputs": [
        {
          "output_type": "stream",
          "name": "stdout",
          "text": [
            "                            OLS Regression Results                            \n",
            "==============================================================================\n",
            "Dep. Variable:                      r   R-squared:                       0.234\n",
            "Model:                            OLS   Adj. R-squared:                  0.228\n",
            "Method:                 Least Squares   F-statistic:                     35.80\n",
            "Date:                Fri, 14 Oct 2022   Prob (F-statistic):           4.17e-26\n",
            "Time:                        21:04:30   Log-Likelihood:                -651.28\n",
            "No. Observations:                 473   AIC:                             1313.\n",
            "Df Residuals:                     468   BIC:                             1333.\n",
            "Df Model:                           4                                         \n",
            "Covariance Type:            nonrobust                                         \n",
            "=========================================================================================\n",
            "                            coef    std err          t      P>|t|      [0.025      0.975]\n",
            "-----------------------------------------------------------------------------------------\n",
            "const                     4.2770      0.103     41.645      0.000       4.075       4.479\n",
            "operatingMargin          -0.0271      0.039     -0.694      0.488      -0.104       0.050\n",
            "bookToMarketRatio        -1.1725      0.106    -11.054      0.000      -1.381      -0.964\n",
            "longFinancialLeverage    -0.1943      0.298     -0.653      0.514      -0.779       0.391\n",
            "EPSP                      8.0204      1.475      5.439      0.000       5.123      10.918\n",
            "==============================================================================\n",
            "Omnibus:                       44.304   Durbin-Watson:                   1.986\n",
            "Prob(Omnibus):                  0.000   Jarque-Bera (JB):              130.738\n",
            "Skew:                           0.415   Prob(JB):                     4.08e-29\n",
            "Kurtosis:                       5.438   Cond. No.                         53.9\n",
            "==============================================================================\n",
            "\n",
            "Notes:\n",
            "[1] Standard Errors assume that the covariance matrix of the errors is correctly specified.\n"
          ]
        }
      ]
    },
    {
      "cell_type": "markdown",
      "source": [
        "**As we can see, there are only 3 values that meet this condition, so we have to take them out of the dataset. Running the linear regression with the outliers it is an R-aquared of  0.196 while dropping the leverahe points it has an R-squared value of 0.234.Which means there was an improvement of around 4% in the R-squared**\n",
        "\n",
        "**The way I used to corroborate this result is applying the 3(k+1/n) formula and getting the poits out of the dataset. If the model gets better means it was a good job done**"
      ],
      "metadata": {
        "id": "jSeHuk1PEVAD"
      }
    },
    {
      "cell_type": "markdown",
      "source": [
        "###Outliers points detection"
      ],
      "metadata": {
        "id": "8sWLTic8pY4v"
      }
    },
    {
      "cell_type": "markdown",
      "source": [
        "**Jim Frost from Statistics Intuitive defines an outlier as an extremely high or extremely low data point relative to the nearest data point and the rest of the neighboring co-existing values in a data graph or dataset you're working with.**\n",
        "\n",
        "**Therefore we can interpret an outlier as a point that do not follow the general trend of the rest of the data, therefore if it is an ifluential point it can affect our linear regression results.**"
      ],
      "metadata": {
        "id": "c0ZF7QQDI1LM"
      }
    },
    {
      "cell_type": "code",
      "source": [
        "#Define independant variables\n",
        "X = df[['operatingMargin','bookToMarketRatio','longFinancialLeverage','EPSP']]\n",
        "Xt = X.transpose()\n",
        "#Define dependant varible\n",
        "Y = df['r']\n",
        "# Obtain how many rows(N) and columns(M) we have\n",
        "N, M = X.shape\n",
        "y = Y.to_numpy().reshape(N,1) #Because it has to be of shape nx1\n",
        "# Create a ones matrix so I can do the (X'1) operations\n",
        "ones = np.ones((N,1))\n",
        "XtOnes = Xt.dot(ones)\n",
        "#Doing the operation that help us obtain the ŷ:\n",
        "#Formula ŷ = Hy\n",
        "#To calculate H we use the followingv formula:\n",
        "#X(X′X)−1X′\n",
        "H =  X.dot((matrix_power(Xt.dot(X),-1)).dot(Xt))\n",
        "yHat = H.dot(y)\n",
        "odf = pd.DataFrame(yHat) #Outliers Data Frame\n",
        "odf.columns = ['yHat']\n",
        "odf['y'] = Y\n",
        "#Calculate ordinary residual errors (ei)\n",
        "#ei= yi − ŷi\n",
        "odf['h'] = np.diag(H)\n",
        "odf['ei'] = odf.y - odf.yHat\n",
        "#Getting the mean squared error used in the std residual error formula\n",
        "mse = mean_squared_error(odf['y'], odf['yHat'])\n",
        "#Apply the Standardized residuals formula (ri)\n",
        "# ri = ei / sqrt(mse(1-hii)) \n",
        "odf['stdresidualError'] = odf.ei / np.square(mse*(1-odf.h))\n",
        "#if a standardized residual is larger than 3 (in absolute value) is considered as an outlier\n",
        "odf[odf['stdresidualError'].abs()>3]"
      ],
      "metadata": {
        "colab": {
          "base_uri": "https://localhost:8080/",
          "height": 81
        },
        "id": "npqzuxvWqot5",
        "outputId": "e7621c1f-f0a4-4c93-ad86-96cc0b2eebd8"
      },
      "execution_count": 23,
      "outputs": [
        {
          "output_type": "execute_result",
          "data": {
            "text/plain": [
              "        yHat         y         h        ei  stdresidualError\n",
              "174 -6.81767  0.168588  0.843386  6.986258         15.216687"
            ],
            "text/html": [
              "\n",
              "  <div id=\"df-93c472fc-6c36-4a36-85d4-7be2d1cdf041\">\n",
              "    <div class=\"colab-df-container\">\n",
              "      <div>\n",
              "<style scoped>\n",
              "    .dataframe tbody tr th:only-of-type {\n",
              "        vertical-align: middle;\n",
              "    }\n",
              "\n",
              "    .dataframe tbody tr th {\n",
              "        vertical-align: top;\n",
              "    }\n",
              "\n",
              "    .dataframe thead th {\n",
              "        text-align: right;\n",
              "    }\n",
              "</style>\n",
              "<table border=\"1\" class=\"dataframe\">\n",
              "  <thead>\n",
              "    <tr style=\"text-align: right;\">\n",
              "      <th></th>\n",
              "      <th>yHat</th>\n",
              "      <th>y</th>\n",
              "      <th>h</th>\n",
              "      <th>ei</th>\n",
              "      <th>stdresidualError</th>\n",
              "    </tr>\n",
              "  </thead>\n",
              "  <tbody>\n",
              "    <tr>\n",
              "      <th>174</th>\n",
              "      <td>-6.81767</td>\n",
              "      <td>0.168588</td>\n",
              "      <td>0.843386</td>\n",
              "      <td>6.986258</td>\n",
              "      <td>15.216687</td>\n",
              "    </tr>\n",
              "  </tbody>\n",
              "</table>\n",
              "</div>\n",
              "      <button class=\"colab-df-convert\" onclick=\"convertToInteractive('df-93c472fc-6c36-4a36-85d4-7be2d1cdf041')\"\n",
              "              title=\"Convert this dataframe to an interactive table.\"\n",
              "              style=\"display:none;\">\n",
              "        \n",
              "  <svg xmlns=\"http://www.w3.org/2000/svg\" height=\"24px\"viewBox=\"0 0 24 24\"\n",
              "       width=\"24px\">\n",
              "    <path d=\"M0 0h24v24H0V0z\" fill=\"none\"/>\n",
              "    <path d=\"M18.56 5.44l.94 2.06.94-2.06 2.06-.94-2.06-.94-.94-2.06-.94 2.06-2.06.94zm-11 1L8.5 8.5l.94-2.06 2.06-.94-2.06-.94L8.5 2.5l-.94 2.06-2.06.94zm10 10l.94 2.06.94-2.06 2.06-.94-2.06-.94-.94-2.06-.94 2.06-2.06.94z\"/><path d=\"M17.41 7.96l-1.37-1.37c-.4-.4-.92-.59-1.43-.59-.52 0-1.04.2-1.43.59L10.3 9.45l-7.72 7.72c-.78.78-.78 2.05 0 2.83L4 21.41c.39.39.9.59 1.41.59.51 0 1.02-.2 1.41-.59l7.78-7.78 2.81-2.81c.8-.78.8-2.07 0-2.86zM5.41 20L4 18.59l7.72-7.72 1.47 1.35L5.41 20z\"/>\n",
              "  </svg>\n",
              "      </button>\n",
              "      \n",
              "  <style>\n",
              "    .colab-df-container {\n",
              "      display:flex;\n",
              "      flex-wrap:wrap;\n",
              "      gap: 12px;\n",
              "    }\n",
              "\n",
              "    .colab-df-convert {\n",
              "      background-color: #E8F0FE;\n",
              "      border: none;\n",
              "      border-radius: 50%;\n",
              "      cursor: pointer;\n",
              "      display: none;\n",
              "      fill: #1967D2;\n",
              "      height: 32px;\n",
              "      padding: 0 0 0 0;\n",
              "      width: 32px;\n",
              "    }\n",
              "\n",
              "    .colab-df-convert:hover {\n",
              "      background-color: #E2EBFA;\n",
              "      box-shadow: 0px 1px 2px rgba(60, 64, 67, 0.3), 0px 1px 3px 1px rgba(60, 64, 67, 0.15);\n",
              "      fill: #174EA6;\n",
              "    }\n",
              "\n",
              "    [theme=dark] .colab-df-convert {\n",
              "      background-color: #3B4455;\n",
              "      fill: #D2E3FC;\n",
              "    }\n",
              "\n",
              "    [theme=dark] .colab-df-convert:hover {\n",
              "      background-color: #434B5C;\n",
              "      box-shadow: 0px 1px 3px 1px rgba(0, 0, 0, 0.15);\n",
              "      filter: drop-shadow(0px 1px 2px rgba(0, 0, 0, 0.3));\n",
              "      fill: #FFFFFF;\n",
              "    }\n",
              "  </style>\n",
              "\n",
              "      <script>\n",
              "        const buttonEl =\n",
              "          document.querySelector('#df-93c472fc-6c36-4a36-85d4-7be2d1cdf041 button.colab-df-convert');\n",
              "        buttonEl.style.display =\n",
              "          google.colab.kernel.accessAllowed ? 'block' : 'none';\n",
              "\n",
              "        async function convertToInteractive(key) {\n",
              "          const element = document.querySelector('#df-93c472fc-6c36-4a36-85d4-7be2d1cdf041');\n",
              "          const dataTable =\n",
              "            await google.colab.kernel.invokeFunction('convertToInteractive',\n",
              "                                                     [key], {});\n",
              "          if (!dataTable) return;\n",
              "\n",
              "          const docLinkHtml = 'Like what you see? Visit the ' +\n",
              "            '<a target=\"_blank\" href=https://colab.research.google.com/notebooks/data_table.ipynb>data table notebook</a>'\n",
              "            + ' to learn more about interactive tables.';\n",
              "          element.innerHTML = '';\n",
              "          dataTable['output_type'] = 'display_data';\n",
              "          await google.colab.output.renderOutput(dataTable, element);\n",
              "          const docLink = document.createElement('div');\n",
              "          docLink.innerHTML = docLinkHtml;\n",
              "          element.appendChild(docLink);\n",
              "        }\n",
              "      </script>\n",
              "    </div>\n",
              "  </div>\n",
              "  "
            ]
          },
          "metadata": {},
          "execution_count": 23
        }
      ]
    },
    {
      "cell_type": "markdown",
      "source": [
        "**By this time we have a R-squared of 0.234 after dropping the leverage poins, now we will drop the outlier found and see how much improve our model**"
      ],
      "metadata": {
        "id": "WGEINJM87F3u"
      }
    },
    {
      "cell_type": "code",
      "source": [
        "#Droping rows that are leverage points on the main dataframe\n",
        "df = df.drop(labels=[174], axis=0)"
      ],
      "metadata": {
        "id": "bcuEyHF1L35c"
      },
      "execution_count": 24,
      "outputs": []
    },
    {
      "cell_type": "markdown",
      "source": [
        "**Multivariate Linear Regression without outliers**"
      ],
      "metadata": {
        "id": "rrcoutqYMT9x"
      }
    },
    {
      "cell_type": "code",
      "source": [
        "#Multivariate Linear Regression \n",
        "#First we have to drop the Infinite values and Nas\n",
        "df.replace([np.inf, -np.inf], np.nan, inplace=True)\n",
        "dfML = df.reset_index().drop(columns=['firm','qdate']).dropna()\n",
        "#define dependant variable (response)\n",
        "y = dfML['r']\n",
        "#define independant variables (predictor)\n",
        "x = dfML[['operatingMargin','bookToMarketRatio','longFinancialLeverage','EPSP']]\n",
        "#add constant to predictor variables\n",
        "x = sm.add_constant(x)\n",
        "#fit linear regression model\n",
        "model = sm.OLS(y, x).fit()\n",
        "#view model summary\n",
        "print(model.summary())"
      ],
      "metadata": {
        "colab": {
          "base_uri": "https://localhost:8080/"
        },
        "id": "yoxiksNCMNNQ",
        "outputId": "afe276d1-7336-44e3-8285-8800e55e282a"
      },
      "execution_count": 25,
      "outputs": [
        {
          "output_type": "stream",
          "name": "stdout",
          "text": [
            "                            OLS Regression Results                            \n",
            "==============================================================================\n",
            "Dep. Variable:                      r   R-squared:                       0.238\n",
            "Model:                            OLS   Adj. R-squared:                  0.231\n",
            "Method:                 Least Squares   F-statistic:                     36.45\n",
            "Date:                Fri, 14 Oct 2022   Prob (F-statistic):           1.59e-26\n",
            "Time:                        21:04:30   Log-Likelihood:                -644.70\n",
            "No. Observations:                 472   AIC:                             1299.\n",
            "Df Residuals:                     467   BIC:                             1320.\n",
            "Df Model:                           4                                         \n",
            "Covariance Type:            nonrobust                                         \n",
            "=========================================================================================\n",
            "                            coef    std err          t      P>|t|      [0.025      0.975]\n",
            "-----------------------------------------------------------------------------------------\n",
            "const                     4.4798      0.118     37.967      0.000       4.248       4.712\n",
            "operatingMargin          -0.3626      0.107     -3.402      0.001      -0.572      -0.153\n",
            "bookToMarketRatio        -1.1489      0.105    -10.927      0.000      -1.355      -0.942\n",
            "longFinancialLeverage    -0.5129      0.309     -1.659      0.098      -1.120       0.095\n",
            "EPSP                      9.5350      1.526      6.249      0.000       6.537      12.533\n",
            "==============================================================================\n",
            "Omnibus:                       35.066   Durbin-Watson:                   1.992\n",
            "Prob(Omnibus):                  0.000   Jarque-Bera (JB):              126.224\n",
            "Skew:                           0.191   Prob(JB):                     3.90e-28\n",
            "Kurtosis:                       5.504   Cond. No.                         51.4\n",
            "==============================================================================\n",
            "\n",
            "Notes:\n",
            "[1] Standard Errors assume that the covariance matrix of the errors is correctly specified.\n"
          ]
        }
      ]
    },
    {
      "cell_type": "markdown",
      "source": [
        "**As we can see, it is not a realy big improvement, but it did improved from 0.234 to 0.238 so in this case the outlier seems not to be influential. By deleting this point, the mean square error is not substantially deinflated, as this help us increase our confidence and prediction intervals just a few. However the predicted responses are not affected by the exclusion of the outlier.**"
      ],
      "metadata": {
        "id": "-JW0tOakNOvY"
      }
    },
    {
      "cell_type": "markdown",
      "source": [
        "#**2 - Multicollinearity analysis explaining the test and implications in the model.**"
      ],
      "metadata": {
        "id": "UrZ7yoNJR9BA"
      }
    },
    {
      "cell_type": "markdown",
      "source": [
        "**To calculate the multicollinearity I used a VIF function that will help us know the variance inflation factor, in statistics is used to know the severity of multicollinearity in the ordinary least square (OLS) regression analysis. Multicollinearity inflates the variance and type II error. It makes the coefficient of a variable consistent but unreliable**"
      ],
      "metadata": {
        "id": "MRa8Ntr4QqD5"
      }
    },
    {
      "cell_type": "code",
      "source": [
        "def calculate_vif(df, features):    \n",
        "    vif, tolerance = {}, {}    #features\n",
        "    for feature in features:\n",
        "        # extract all the other features to regress against\n",
        "        X = [f for f in features if f != feature]        \n",
        "        X, y = df[X], df[feature]        # extract r-squared \n",
        "        r2 = LinearRegression().fit(X, y).score(X, y)                \n",
        "        \n",
        "        # calculate tolerance\n",
        "        tolerance[feature] = 1 - r2        # calculate VIF\n",
        "        vif[feature] = 1/(tolerance[feature])    # return VIF DataFrame\n",
        "    return pd.DataFrame({'VIF': vif, 'Tolerance': tolerance})/5"
      ],
      "metadata": {
        "id": "oPkmhDEbSMTK"
      },
      "execution_count": 26,
      "outputs": []
    },
    {
      "cell_type": "code",
      "source": [
        "dfMultiCol = df[['operatingMargin','bookToMarketRatio','longFinancialLeverage','EPSP', 'r']].dropna()\n",
        "calculate_vif(df=dfMultiCol, features=['operatingMargin','bookToMarketRatio','longFinancialLeverage','EPSP'])"
      ],
      "metadata": {
        "colab": {
          "base_uri": "https://localhost:8080/",
          "height": 175
        },
        "id": "V1nil5lcSNaR",
        "outputId": "7a392be2-5956-4069-d731-e90e05f86bfd"
      },
      "execution_count": 27,
      "outputs": [
        {
          "output_type": "execute_result",
          "data": {
            "text/plain": [
              "                            VIF  Tolerance\n",
              "operatingMargin        0.269281   0.148544\n",
              "bookToMarketRatio      0.207257   0.192997\n",
              "longFinancialLeverage  0.227557   0.175780\n",
              "EPSP                   0.252780   0.158240"
            ],
            "text/html": [
              "\n",
              "  <div id=\"df-7cd69e90-f7fb-46a9-9f9e-2430121128db\">\n",
              "    <div class=\"colab-df-container\">\n",
              "      <div>\n",
              "<style scoped>\n",
              "    .dataframe tbody tr th:only-of-type {\n",
              "        vertical-align: middle;\n",
              "    }\n",
              "\n",
              "    .dataframe tbody tr th {\n",
              "        vertical-align: top;\n",
              "    }\n",
              "\n",
              "    .dataframe thead th {\n",
              "        text-align: right;\n",
              "    }\n",
              "</style>\n",
              "<table border=\"1\" class=\"dataframe\">\n",
              "  <thead>\n",
              "    <tr style=\"text-align: right;\">\n",
              "      <th></th>\n",
              "      <th>VIF</th>\n",
              "      <th>Tolerance</th>\n",
              "    </tr>\n",
              "  </thead>\n",
              "  <tbody>\n",
              "    <tr>\n",
              "      <th>operatingMargin</th>\n",
              "      <td>0.269281</td>\n",
              "      <td>0.148544</td>\n",
              "    </tr>\n",
              "    <tr>\n",
              "      <th>bookToMarketRatio</th>\n",
              "      <td>0.207257</td>\n",
              "      <td>0.192997</td>\n",
              "    </tr>\n",
              "    <tr>\n",
              "      <th>longFinancialLeverage</th>\n",
              "      <td>0.227557</td>\n",
              "      <td>0.175780</td>\n",
              "    </tr>\n",
              "    <tr>\n",
              "      <th>EPSP</th>\n",
              "      <td>0.252780</td>\n",
              "      <td>0.158240</td>\n",
              "    </tr>\n",
              "  </tbody>\n",
              "</table>\n",
              "</div>\n",
              "      <button class=\"colab-df-convert\" onclick=\"convertToInteractive('df-7cd69e90-f7fb-46a9-9f9e-2430121128db')\"\n",
              "              title=\"Convert this dataframe to an interactive table.\"\n",
              "              style=\"display:none;\">\n",
              "        \n",
              "  <svg xmlns=\"http://www.w3.org/2000/svg\" height=\"24px\"viewBox=\"0 0 24 24\"\n",
              "       width=\"24px\">\n",
              "    <path d=\"M0 0h24v24H0V0z\" fill=\"none\"/>\n",
              "    <path d=\"M18.56 5.44l.94 2.06.94-2.06 2.06-.94-2.06-.94-.94-2.06-.94 2.06-2.06.94zm-11 1L8.5 8.5l.94-2.06 2.06-.94-2.06-.94L8.5 2.5l-.94 2.06-2.06.94zm10 10l.94 2.06.94-2.06 2.06-.94-2.06-.94-.94-2.06-.94 2.06-2.06.94z\"/><path d=\"M17.41 7.96l-1.37-1.37c-.4-.4-.92-.59-1.43-.59-.52 0-1.04.2-1.43.59L10.3 9.45l-7.72 7.72c-.78.78-.78 2.05 0 2.83L4 21.41c.39.39.9.59 1.41.59.51 0 1.02-.2 1.41-.59l7.78-7.78 2.81-2.81c.8-.78.8-2.07 0-2.86zM5.41 20L4 18.59l7.72-7.72 1.47 1.35L5.41 20z\"/>\n",
              "  </svg>\n",
              "      </button>\n",
              "      \n",
              "  <style>\n",
              "    .colab-df-container {\n",
              "      display:flex;\n",
              "      flex-wrap:wrap;\n",
              "      gap: 12px;\n",
              "    }\n",
              "\n",
              "    .colab-df-convert {\n",
              "      background-color: #E8F0FE;\n",
              "      border: none;\n",
              "      border-radius: 50%;\n",
              "      cursor: pointer;\n",
              "      display: none;\n",
              "      fill: #1967D2;\n",
              "      height: 32px;\n",
              "      padding: 0 0 0 0;\n",
              "      width: 32px;\n",
              "    }\n",
              "\n",
              "    .colab-df-convert:hover {\n",
              "      background-color: #E2EBFA;\n",
              "      box-shadow: 0px 1px 2px rgba(60, 64, 67, 0.3), 0px 1px 3px 1px rgba(60, 64, 67, 0.15);\n",
              "      fill: #174EA6;\n",
              "    }\n",
              "\n",
              "    [theme=dark] .colab-df-convert {\n",
              "      background-color: #3B4455;\n",
              "      fill: #D2E3FC;\n",
              "    }\n",
              "\n",
              "    [theme=dark] .colab-df-convert:hover {\n",
              "      background-color: #434B5C;\n",
              "      box-shadow: 0px 1px 3px 1px rgba(0, 0, 0, 0.15);\n",
              "      filter: drop-shadow(0px 1px 2px rgba(0, 0, 0, 0.3));\n",
              "      fill: #FFFFFF;\n",
              "    }\n",
              "  </style>\n",
              "\n",
              "      <script>\n",
              "        const buttonEl =\n",
              "          document.querySelector('#df-7cd69e90-f7fb-46a9-9f9e-2430121128db button.colab-df-convert');\n",
              "        buttonEl.style.display =\n",
              "          google.colab.kernel.accessAllowed ? 'block' : 'none';\n",
              "\n",
              "        async function convertToInteractive(key) {\n",
              "          const element = document.querySelector('#df-7cd69e90-f7fb-46a9-9f9e-2430121128db');\n",
              "          const dataTable =\n",
              "            await google.colab.kernel.invokeFunction('convertToInteractive',\n",
              "                                                     [key], {});\n",
              "          if (!dataTable) return;\n",
              "\n",
              "          const docLinkHtml = 'Like what you see? Visit the ' +\n",
              "            '<a target=\"_blank\" href=https://colab.research.google.com/notebooks/data_table.ipynb>data table notebook</a>'\n",
              "            + ' to learn more about interactive tables.';\n",
              "          element.innerHTML = '';\n",
              "          dataTable['output_type'] = 'display_data';\n",
              "          await google.colab.output.renderOutput(dataTable, element);\n",
              "          const docLink = document.createElement('div');\n",
              "          docLink.innerHTML = docLinkHtml;\n",
              "          element.appendChild(docLink);\n",
              "        }\n",
              "      </script>\n",
              "    </div>\n",
              "  </div>\n",
              "  "
            ]
          },
          "metadata": {},
          "execution_count": 27
        }
      ]
    },
    {
      "cell_type": "markdown",
      "source": [
        "**Two variables are considered to be perfectly collinear if their correlation coefficient is +/- 1.0. As we can see in the heat map and in the VIF, there are not variable with strong correlation.**"
      ],
      "metadata": {
        "id": "dDAN7lC9TXp2"
      }
    },
    {
      "cell_type": "markdown",
      "source": [
        "#3 - **Proposes and implements solutions to the problems of the previous points so that the model is the most appropriate.**"
      ],
      "metadata": {
        "id": "bJoh6vx7RB7X"
      }
    },
    {
      "cell_type": "markdown",
      "source": [
        "**This decisions can be observed when droping the high leverage points and the outliers. Also when the shortFinancialLeverage column was dropped because of the large number of NaN.**\n",
        "\n",
        "**Therefore the model calculated below is the most accurate possible**"
      ],
      "metadata": {
        "id": "T4TGPmGLRK6f"
      }
    },
    {
      "cell_type": "markdown",
      "source": [
        "#**4 - Estimate and interpret a Multiple Regression Model after attending the previous problems. You have to use matrix algebra to estimate beta coefficients and standard errors of the regression model. Use Python functions to check results.**"
      ],
      "metadata": {
        "id": "NSldnURPXxnp"
      }
    },
    {
      "cell_type": "markdown",
      "source": [
        "###**Estimate coefficients**"
      ],
      "metadata": {
        "id": "hFHBNCdqGR_y"
      }
    },
    {
      "cell_type": "markdown",
      "source": [
        "**The betas for a Multiple Linear Regression using matrix algebra can be estimated using the following formula:**\n",
        "- **(X' X)^−1 X'Y**\n"
      ],
      "metadata": {
        "id": "-SKOHFsuPpdR"
      }
    },
    {
      "cell_type": "code",
      "source": [
        "#Define independant variables\n",
        "X = df[['operatingMargin','bookToMarketRatio','longFinancialLeverage','EPSP']]\n",
        "#Creating a column of ones\n",
        "N, M = X.shape\n",
        "ones = np.ones((N,1))\n",
        "X['ones'] = ones\n",
        "#Reindex the dataframe so the column of ones appear first\n",
        "X = X.reindex(columns=['ones','operatingMargin','bookToMarketRatio','longFinancialLeverage','EPSP'])\n",
        "Xt = X.transpose()\n",
        "#Define the dependant variable\n",
        "Y = df['r']\n",
        "#Using the Linear Algebra formula to estimate the betas \n",
        "#b = (X' X)^−1 X'Y\n",
        "betas = matrix_power(Xt.dot(X), -1).dot(Xt.dot(Y))\n",
        "betas"
      ],
      "metadata": {
        "colab": {
          "base_uri": "https://localhost:8080/"
        },
        "id": "dIMJhEzzAyQU",
        "outputId": "ba8076fc-6736-4e0f-a70b-3dceea437664"
      },
      "execution_count": 28,
      "outputs": [
        {
          "output_type": "execute_result",
          "data": {
            "text/plain": [
              "array([ 4.47979436, -0.362649  , -1.1488571 , -0.51288365,  9.53498419])"
            ]
          },
          "metadata": {},
          "execution_count": 28
        }
      ]
    },
    {
      "cell_type": "markdown",
      "source": [
        "**Now, we will run an OLS model to validate our results**"
      ],
      "metadata": {
        "id": "HXI_3WhJP-gt"
      }
    },
    {
      "cell_type": "code",
      "source": [
        "#Multivariate Linear Regression \n",
        "#First we have to drop the Infinite values and Nas\n",
        "df.replace([np.inf, -np.inf], np.nan, inplace=True)\n",
        "dfML = df.reset_index().drop(columns=['firm','qdate']).dropna()\n",
        "#define dependant variable (response)\n",
        "y = dfML['r']\n",
        "#define independant variables (predictor)\n",
        "x = dfML[['operatingMargin','bookToMarketRatio','longFinancialLeverage','EPSP']]\n",
        "#add constant to predictor variables\n",
        "x = sm.add_constant(x)\n",
        "#fit linear regression model\n",
        "model = sm.OLS(y, x).fit()\n",
        "#view model summary\n",
        "print(model.summary())"
      ],
      "metadata": {
        "colab": {
          "base_uri": "https://localhost:8080/"
        },
        "id": "gJYf9yivssy1",
        "outputId": "f0c2e789-2b12-480b-aeb7-efcc7e67e986"
      },
      "execution_count": 29,
      "outputs": [
        {
          "output_type": "stream",
          "name": "stdout",
          "text": [
            "                            OLS Regression Results                            \n",
            "==============================================================================\n",
            "Dep. Variable:                      r   R-squared:                       0.238\n",
            "Model:                            OLS   Adj. R-squared:                  0.231\n",
            "Method:                 Least Squares   F-statistic:                     36.45\n",
            "Date:                Fri, 14 Oct 2022   Prob (F-statistic):           1.59e-26\n",
            "Time:                        21:04:30   Log-Likelihood:                -644.70\n",
            "No. Observations:                 472   AIC:                             1299.\n",
            "Df Residuals:                     467   BIC:                             1320.\n",
            "Df Model:                           4                                         \n",
            "Covariance Type:            nonrobust                                         \n",
            "=========================================================================================\n",
            "                            coef    std err          t      P>|t|      [0.025      0.975]\n",
            "-----------------------------------------------------------------------------------------\n",
            "const                     4.4798      0.118     37.967      0.000       4.248       4.712\n",
            "operatingMargin          -0.3626      0.107     -3.402      0.001      -0.572      -0.153\n",
            "bookToMarketRatio        -1.1489      0.105    -10.927      0.000      -1.355      -0.942\n",
            "longFinancialLeverage    -0.5129      0.309     -1.659      0.098      -1.120       0.095\n",
            "EPSP                      9.5350      1.526      6.249      0.000       6.537      12.533\n",
            "==============================================================================\n",
            "Omnibus:                       35.066   Durbin-Watson:                   1.992\n",
            "Prob(Omnibus):                  0.000   Jarque-Bera (JB):              126.224\n",
            "Skew:                           0.191   Prob(JB):                     3.90e-28\n",
            "Kurtosis:                       5.504   Cond. No.                         51.4\n",
            "==============================================================================\n",
            "\n",
            "Notes:\n",
            "[1] Standard Errors assume that the covariance matrix of the errors is correctly specified.\n"
          ]
        }
      ]
    },
    {
      "cell_type": "markdown",
      "source": [
        "**As we can see, all the coefitiens are the same, proving that there are more ways to estimate betas when doing linear regression, and one of them is using Matrix Algebra**\n",
        "\n",
        "**If we would like to estimate prediction we could also use matrix algebra, now that we have the beta values, we could simply use the YH = Xb and we would obtain the predictions for our model. With an accruracy of 23%**\n",
        "\n",
        "**Now, focusing a little bit on the analysis of the model, we can infer that The t-test assesses whether the beta coefficient is significantly different from zero.  If the beta coefficient is not statistically significant, the variable does not significantly predict the outcome.**\n",
        "\n",
        "**If the beta coefficient is positive, the interpretation is that for every 1-unit increase in the predictor variable, the outcome variable will increase by the beta coefficient value.  If the beta coefficient is negative, the interpretation is that for every 1-unit increase in the predictor variable, the outcome variable will decrease by the beta coefficient value.**\n",
        "\n",
        "**The betas we got are:**\n",
        "- b0 = 4.4798\n",
        "- b1 = -0.362\n",
        "- b2 = -1.148\n",
        "- b3 = -0.512\n",
        "- b4 = 9.5350\n",
        "\n",
        "**Which means that if the beta 4 that is EPSP with a coeficient of  9.53 and a statistically significant t of 6.24, then for each 1-unit increase in the predictor variable, the outcome variable will increase by 9.53 units.The beta coefficient is the degree of change in the outcome variable for every 1-unit of change in the predictor variable****"
      ],
      "metadata": {
        "id": "bzXSTDVRQEVP"
      }
    },
    {
      "cell_type": "markdown",
      "source": [
        "###**Standard errors of the regression model**"
      ],
      "metadata": {
        "id": "GsjLG9BsGbrm"
      }
    },
    {
      "cell_type": "markdown",
      "source": [
        "**Now that we have te betas, we can calculate the standard error of the beta coeficients, also known as  its standard deviation. This will help us know if each beta coecientis signicantly dierent from zero**\n",
        "\n",
        "**Then I will calulate the variance of each beta coecient to get their standard deviations, or standard error. Then, let's work with the\n",
        "variance-covariance matrix of the betas. The variance-covariance matrix can be\n",
        "expressed as the expected value of the squared dierences between the sample\n",
        "betas and their respective population betas:**\n",
        "\n",
        "- **E[(b − ε)(b − β)'] = σ2ε(X'X)^−1**\n",
        "\n"
      ],
      "metadata": {
        "id": "XP93tO7pAH5X"
      }
    },
    {
      "cell_type": "code",
      "source": [
        "#Define variables we are going to use, stroring them in the X dataframe\n",
        "#Define independant variables\n",
        "X = df[['operatingMargin','bookToMarketRatio','longFinancialLeverage','EPSP']]\n",
        "#Creating a column of ones\n",
        "X['ones'] = ones\n",
        "#Reindex the dataframe so the column of ones appear first\n",
        "X = X.reindex(columns=['ones','operatingMargin','bookToMarketRatio','longFinancialLeverage','EPSP'])\n",
        "Xt = X.transpose()\n",
        "# Obtain how many rows(N) and columns(M) we have\n",
        "N, M = X.shape\n",
        "#Defining independant variable\n",
        "y = df['r']\n",
        "y = y.to_numpy().reshape(N,1) #Because it has to be of shape nx1\n",
        "# Create a ones matrix so I can do the (X'1) operations\n",
        "ones = np.ones((N,1))\n",
        "XtOnes = Xt.dot(ones)\n",
        "#Doing the operation that help us obtain the errors matrix:\n",
        "# E[(b − ε)(b − β)'] = σ2ε(X'X)^−1\n",
        "#First we have to get the yHat (predictions) to obtsin thre mse\n",
        "H =  X.dot((matrix_power(Xt.dot(X),-1)).dot(Xt))\n",
        "yHat = H.dot(y)\n",
        "#Calculating the σ2ε that is the mean squared error\n",
        "mse = mean_squared_error(y, yHat)\n",
        "#Calculating the error matrix\n",
        "error = mse * (matrix_power(Xt.dot(X), -1))\n",
        "error\n",
        "\n"
      ],
      "metadata": {
        "colab": {
          "base_uri": "https://localhost:8080/"
        },
        "id": "t6RgIMUiGbHJ",
        "outputId": "6d3a87e2-874e-4761-91a3-c62183912f88"
      },
      "execution_count": 30,
      "outputs": [
        {
          "output_type": "execute_result",
          "data": {
            "text/plain": [
              "array([[ 0.01377478, -0.00685109, -0.00833989, -0.01562251,  0.0272513 ],\n",
              "       [-0.00685109,  0.01124504, -0.00018586,  0.01075697, -0.06944446],\n",
              "       [-0.00833989, -0.00018586,  0.01093681,  0.00306008, -0.02168417],\n",
              "       [-0.01562251,  0.01075697,  0.00306008,  0.09454855, -0.09233869],\n",
              "       [ 0.0272513 , -0.06944446, -0.02168417, -0.09233869,  2.30334745]])"
            ]
          },
          "metadata": {},
          "execution_count": 30
        }
      ]
    },
    {
      "cell_type": "markdown",
      "source": [
        "**We obtained a matrix, its diagonal will have the variances of the betas. And\n",
        "the non-diagonal will have the paired covariances of the betas.**"
      ],
      "metadata": {
        "id": "xnsdE42xDCkr"
      }
    },
    {
      "cell_type": "code",
      "source": [
        "#obtainig the diagonal of the error matrix\n",
        "error = np.diag(error)\n",
        "error"
      ],
      "metadata": {
        "colab": {
          "base_uri": "https://localhost:8080/"
        },
        "id": "yIUvfsnV-UXI",
        "outputId": "103c3c92-85dd-4309-e00c-6609f194b236"
      },
      "execution_count": 31,
      "outputs": [
        {
          "output_type": "execute_result",
          "data": {
            "text/plain": [
              "array([0.01377478, 0.01124504, 0.01093681, 0.09454855, 2.30334745])"
            ]
          },
          "metadata": {},
          "execution_count": 31
        }
      ]
    },
    {
      "cell_type": "markdown",
      "source": [
        "**When calculating the standard errors, each library processes the data with different precisions. Using different precisions can lead to small differences in result but not something that can impact the result or interpretation of the results.**\n"
      ],
      "metadata": {
        "id": "SiXArfjZDr7B"
      }
    },
    {
      "cell_type": "markdown",
      "source": [
        "**The standard error of the operatingMargin, bookToMarketRatio and longFinancialLeverage coefficients are smaller than EPSP. Therefore, this model was able to estimate the coefficient for this 3 variables with greater precision than the EPSP beta. EPSP and bookToMarketRatio have a big t-value whick means that have more statistical significance than the operating margin and longFinancialLeverage.**\n",
        "\n",
        "**Now, we can reject the null hypothesis, that states that the regression coefficient beta is equal to zero, because by the results obtained we can see that the independent variables are related to the dependent variable.**"
      ],
      "metadata": {
        "id": "V-rSEBAaELSm"
      }
    },
    {
      "cell_type": "markdown",
      "source": [
        "#References:\n",
        "\n",
        "- **Dorantes Dosamantes, C. A. (Aug 27, 2019). Basics of Linear Regression Models in the  context of Finance.**\n",
        "- **Dorantes Dosamantes, C. A. (Oct 30, 2014). Basics of Portfolio Theory - Part II.**\n",
        "- **Using Leverages to Help Identify Extreme X Values | STAT 462. Accesed Oct 14, 2022, from https://online.stat.psu.edu/stat462/node/171/**\n",
        "\n",
        "- **Identifying Outliers (Unusual Y Values) | STAT 462.  Accesed Oct 14, 2022, from  https://online.stat.psu.edu/stat462/node/172/**"
      ],
      "metadata": {
        "id": "IN3zdwKuU2au"
      }
    }
  ],
  "metadata": {
    "colab": {
      "collapsed_sections": [
        "UrZ7yoNJR9BA"
      ],
      "provenance": []
    },
    "kernelspec": {
      "display_name": "Python 3",
      "name": "python3"
    },
    "language_info": {
      "name": "python"
    }
  },
  "nbformat": 4,
  "nbformat_minor": 0
}