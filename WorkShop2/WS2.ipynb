{
  "nbformat": 4,
  "nbformat_minor": 0,
  "metadata": {
    "colab": {
      "name": "WS2.ipynb",
      "provenance": []
    },
    "kernelspec": {
      "name": "python3",
      "display_name": "Python 3"
    },
    "language_info": {
      "name": "python"
    }
  },
  "cells": [
    {
      "cell_type": "code",
      "execution_count": 1,
      "metadata": {
        "id": "TrSB_WHggtBE",
        "colab": {
          "base_uri": "https://localhost:8080/"
        },
        "outputId": "d7dc5d75-7cb1-43c8-ff4a-a4ddc3fc3f83"
      },
      "outputs": [
        {
          "output_type": "stream",
          "name": "stdout",
          "text": [
            "Looking in indexes: https://pypi.org/simple, https://us-python.pkg.dev/colab-wheels/public/simple/\n",
            "Requirement already satisfied: symbulate in /usr/local/lib/python3.7/dist-packages (0.5.7)\n",
            "Requirement already satisfied: matplotlib in /usr/local/lib/python3.7/dist-packages (from symbulate) (3.2.2)\n",
            "Requirement already satisfied: numpy in /usr/local/lib/python3.7/dist-packages (from symbulate) (1.21.6)\n",
            "Requirement already satisfied: scipy in /usr/local/lib/python3.7/dist-packages (from symbulate) (1.7.3)\n",
            "Requirement already satisfied: kiwisolver>=1.0.1 in /usr/local/lib/python3.7/dist-packages (from matplotlib->symbulate) (1.4.4)\n",
            "Requirement already satisfied: pyparsing!=2.0.4,!=2.1.2,!=2.1.6,>=2.0.1 in /usr/local/lib/python3.7/dist-packages (from matplotlib->symbulate) (3.0.9)\n",
            "Requirement already satisfied: cycler>=0.10 in /usr/local/lib/python3.7/dist-packages (from matplotlib->symbulate) (0.11.0)\n",
            "Requirement already satisfied: python-dateutil>=2.1 in /usr/local/lib/python3.7/dist-packages (from matplotlib->symbulate) (2.8.2)\n",
            "Requirement already satisfied: typing-extensions in /usr/local/lib/python3.7/dist-packages (from kiwisolver>=1.0.1->matplotlib->symbulate) (4.1.1)\n",
            "Requirement already satisfied: six>=1.5 in /usr/local/lib/python3.7/dist-packages (from python-dateutil>=2.1->matplotlib->symbulate) (1.15.0)\n"
          ]
        }
      ],
      "source": [
        "!pip install symbulate"
      ]
    },
    {
      "cell_type": "code",
      "source": [
        "from symbulate import *\n",
        "#'exec(%matplotlib inline)' \n",
        "import matplotlib\n",
        "\n",
        "import matplotlib.pyplot as plt"
      ],
      "metadata": {
        "id": "aOSvKyyihATO"
      },
      "execution_count": 2,
      "outputs": []
    },
    {
      "cell_type": "code",
      "source": [
        "# clear the plot space:\n",
        "plt.clf()\n",
        "# Define the probability type of function as uniform (probability space)\n",
        "P = Uniform(0,40)\n",
        "# Define X as a random variable of the type P (uniform)\n",
        "X =RV(P)\n",
        "# Simulate the values of X and save the in the x array: \n",
        "x=X.sim(10000)\n",
        "x.plot()\n",
        "plt.show()"
      ],
      "metadata": {
        "id": "KCI6ijThhKDK",
        "colab": {
          "base_uri": "https://localhost:8080/",
          "height": 265
        },
        "outputId": "13e76061-78fd-4b7f-b516-9256675328a4"
      },
      "execution_count": 3,
      "outputs": [
        {
          "output_type": "display_data",
          "data": {
            "text/plain": [
              "<Figure size 432x288 with 1 Axes>"
            ],
            "image/png": "[encoded data removed]"
          },
          "metadata": {
            "needs_background": "light"
          }
        }
      ]
    },
    {
      "cell_type": "markdown",
      "source": [
        "2.2.2 CHALLENGE"
      ],
      "metadata": {
        "id": "wA1r7MWtOnrk"
      }
    },
    {
      "cell_type": "code",
      "source": [
        "print(x.std())\n",
        "print(x.mean())"
      ],
      "metadata": {
        "id": "rY7obEsFhY5i",
        "colab": {
          "base_uri": "https://localhost:8080/"
        },
        "outputId": "4a269ee3-4c6a-4405-e844-20d8c70a1232"
      },
      "execution_count": 4,
      "outputs": [
        {
          "output_type": "stream",
          "name": "stdout",
          "text": [
            "11.573927943152585\n",
            "19.930683396414206\n"
          ]
        }
      ]
    },
    {
      "cell_type": "markdown",
      "source": [
        "BY THE CHART I CAN SEE THATH THE RANDOM VALUES THAT GIVE US GENERATE 10000 NUMBERS BETWEEN 0 AND 40 ARE ALMOST EQUALY DISTRIBUTED BETWEEN THE NUMBERS"
      ],
      "metadata": {
        "id": "56H8DOEgOtQw"
      }
    },
    {
      "cell_type": "code",
      "source": [
        "print(sqrt(133.33))"
      ],
      "metadata": {
        "id": "I1iH4wqKiRcO",
        "colab": {
          "base_uri": "https://localhost:8080/"
        },
        "outputId": "86d26e77-5412-4b68-e52d-c85248a4898a"
      },
      "execution_count": 5,
      "outputs": [
        {
          "output_type": "stream",
          "name": "stdout",
          "text": [
            "11.546861045323098\n"
          ]
        }
      ]
    },
    {
      "cell_type": "code",
      "source": [
        "# Define the probability space as a vector of 25 uniform random numbers:\n",
        "P = Uniform(0,40) ** 25\n",
        "# Define XVECTOR as a vector of random variables with 25 random values \n",
        "XVECTOR =RV(P)\n",
        "# Simulate 10,000 vectors to get a matrix  \n",
        "xmatrix=XVECTOR.sim(10000)\n",
        "xmatrix"
      ],
      "metadata": {
        "id": "Gjn-wjgAjHlZ",
        "colab": {
          "base_uri": "https://localhost:8080/",
          "height": 275
        },
        "outputId": "9496295a-fe3b-4f28-b2e6-018e11bacd6a"
      },
      "execution_count": 6,
      "outputs": [
        {
          "output_type": "execute_result",
          "data": {
            "text/plain": [
              "Index Result\n",
              "0     (27.862996716355827, 38.790225092608544, 1.4138217025628341, 15.549566208094937, 22.948829501855382, ..., 9.957187707605556)\n",
              "1     (32.78995288188134, 21.977015027032742, 18.800660188626885, 31.111420961726214, 26.163718353015753, ..., 3.3981494216738684)\n",
              "2     (0.8714606818765347, 36.13024847177596, 16.11572261123571, 15.341933674543409, 5.617472599556446, ..., 33.037709509045776)\n",
              "3     (6.841340703024827, 12.116003370911459, 25.50986999547401, 33.95906163397357, 33.50909272751998, ..., 35.88748163712131)\n",
              "4     (39.64409284973132, 38.1462237343427, 20.023370490588384, 28.70272891271128, 5.777727916665056, ..., 38.1010059446225)\n",
              "5     (12.789860391551425, 13.7174098439198, 22.873067333916154, 37.35336849556473, 39.275804319060505, ..., 10.733281622043958)\n",
              "6     (27.45967752226924, 18.52734850604424, 22.65441194494223, 1.1067511400021024, 13.291802147123208, ..., 30.40628795970763)\n",
              "7     (14.702277052068201, 34.506175491602406, 1.011095277351668, 10.85816971768164, 17.96909324184318, ..., 31.51911172879902)\n",
              "8     (19.332664264372006, 14.835601132699523, 10.069827136761486, 6.804885263456879, 17.23577887670082, ..., 2.668704413559677)\n",
              "....  .........................................................................................................................\n",
              "9999  (11.844087508161007, 37.88684519847215, 6.072103657555905, 6.314016821902473, 6.714401082548722, ..., 3.3662017157572333)"
            ],
            "text/html": [
              "\n",
              "    <table>\n",
              "      <thead>\n",
              "        <th width=\"10%\">Index</th>\n",
              "        <th width=\"90%\">Result</th>\n",
              "      </thead>\n",
              "      <tbody>\n",
              "        \n",
              "        <tr>\n",
              "          <td>0</td><td>(27.862996716355827, 38.790225092608544, 1.4138217025628341, 15.549566208094937, 22.948829501855382,...</td>\n",
              "        </tr>\n",
              "        \n",
              "        <tr>\n",
              "          <td>1</td><td>(32.78995288188134, 21.977015027032742, 18.800660188626885, 31.111420961726214, 26.163718353015753, ...</td>\n",
              "        </tr>\n",
              "        \n",
              "        <tr>\n",
              "          <td>2</td><td>(0.8714606818765347, 36.13024847177596, 16.11572261123571, 15.341933674543409, 5.617472599556446, .....</td>\n",
              "        </tr>\n",
              "        \n",
              "        <tr>\n",
              "          <td>3</td><td>(6.841340703024827, 12.116003370911459, 25.50986999547401, 33.95906163397357, 33.50909272751998, ......</td>\n",
              "        </tr>\n",
              "        \n",
              "        <tr>\n",
              "          <td>4</td><td>(39.64409284973132, 38.1462237343427, 20.023370490588384, 28.70272891271128, 5.777727916665056, ...,...</td>\n",
              "        </tr>\n",
              "        \n",
              "        <tr>\n",
              "          <td>5</td><td>(12.789860391551425, 13.7174098439198, 22.873067333916154, 37.35336849556473, 39.275804319060505, .....</td>\n",
              "        </tr>\n",
              "        \n",
              "        <tr>\n",
              "          <td>6</td><td>(27.45967752226924, 18.52734850604424, 22.65441194494223, 1.1067511400021024, 13.291802147123208, .....</td>\n",
              "        </tr>\n",
              "        \n",
              "        <tr>\n",
              "          <td>7</td><td>(14.702277052068201, 34.506175491602406, 1.011095277351668, 10.85816971768164, 17.96909324184318, .....</td>\n",
              "        </tr>\n",
              "        \n",
              "        <tr>\n",
              "          <td>8</td><td>(19.332664264372006, 14.835601132699523, 10.069827136761486, 6.804885263456879, 17.23577887670082, ....</td>\n",
              "        </tr>\n",
              "        <tr><td>...</td><td>...</td></tr>\n",
              "        <tr>\n",
              "          <td>9999</td><td>(11.844087508161007, 37.88684519847215, 6.072103657555905, 6.314016821902473, 6.714401082548722, ......</td>\n",
              "        </tr>\n",
              "        \n",
              "      </tbody>\n",
              "    </table>\n",
              "        "
            ]
          },
          "metadata": {},
          "execution_count": 6
        }
      ]
    },
    {
      "cell_type": "code",
      "source": [
        "# The 2nd parameter is the mathematical operation applied to each row of the random vector\n",
        "# Simulate 10,000 means of each random vector of 25 uniform distributed numbers: \n",
        "xmean = RV(P,mean).sim(10000)\n",
        "xmean"
      ],
      "metadata": {
        "id": "ekPq3fAsjZZ1",
        "colab": {
          "base_uri": "https://localhost:8080/",
          "height": 275
        },
        "outputId": "725033f9-3884-4be8-83dc-4cb56c3b86b4"
      },
      "execution_count": 7,
      "outputs": [
        {
          "output_type": "execute_result",
          "data": {
            "text/plain": [
              "Index Result\n",
              "0     23.33887396024665\n",
              "1     14.21444663164572\n",
              "2     13.310799756907068\n",
              "3     20.794789162524577\n",
              "4     15.167151818932187\n",
              "5     18.120328605186288\n",
              "6     18.38912588809133\n",
              "7     18.53368372567112\n",
              "8     22.109130466210942\n",
              "....  .................\n",
              "9999  20.54076563638356"
            ],
            "text/html": [
              "\n",
              "    <table>\n",
              "      <thead>\n",
              "        <th width=\"10%\">Index</th>\n",
              "        <th width=\"90%\">Result</th>\n",
              "      </thead>\n",
              "      <tbody>\n",
              "        \n",
              "        <tr>\n",
              "          <td>0</td><td>23.33887396024665</td>\n",
              "        </tr>\n",
              "        \n",
              "        <tr>\n",
              "          <td>1</td><td>14.21444663164572</td>\n",
              "        </tr>\n",
              "        \n",
              "        <tr>\n",
              "          <td>2</td><td>13.310799756907068</td>\n",
              "        </tr>\n",
              "        \n",
              "        <tr>\n",
              "          <td>3</td><td>20.794789162524577</td>\n",
              "        </tr>\n",
              "        \n",
              "        <tr>\n",
              "          <td>4</td><td>15.167151818932187</td>\n",
              "        </tr>\n",
              "        \n",
              "        <tr>\n",
              "          <td>5</td><td>18.120328605186288</td>\n",
              "        </tr>\n",
              "        \n",
              "        <tr>\n",
              "          <td>6</td><td>18.38912588809133</td>\n",
              "        </tr>\n",
              "        \n",
              "        <tr>\n",
              "          <td>7</td><td>18.53368372567112</td>\n",
              "        </tr>\n",
              "        \n",
              "        <tr>\n",
              "          <td>8</td><td>22.109130466210942</td>\n",
              "        </tr>\n",
              "        <tr><td>...</td><td>...</td></tr>\n",
              "        <tr>\n",
              "          <td>9999</td><td>20.54076563638356</td>\n",
              "        </tr>\n",
              "        \n",
              "      </tbody>\n",
              "    </table>\n",
              "        "
            ]
          },
          "metadata": {},
          "execution_count": 7
        }
      ]
    },
    {
      "cell_type": "code",
      "source": [
        "plt.clf()\n",
        "xmean.plot()\n",
        "plt.show()"
      ],
      "metadata": {
        "colab": {
          "base_uri": "https://localhost:8080/",
          "height": 265
        },
        "id": "5hfQc_T_kCtM",
        "outputId": "fe0cc3de-467d-458c-a1c9-cf95dfcc15c8"
      },
      "execution_count": 8,
      "outputs": [
        {
          "output_type": "display_data",
          "data": {
            "text/plain": [
              "<Figure size 432x288 with 1 Axes>"
            ],
            "image/png": "[encoded data removed]"
          },
          "metadata": {
            "needs_background": "light"
          }
        }
      ]
    },
    {
      "cell_type": "markdown",
      "source": [
        "2.2.3 CHALLENGE\n",
        "\n",
        "CALCULATE THE MEAN AND STANDARD DEVIATION OF THE xmean VARIABLE. HOW SIMILAR OR DIFFERENT ARE THESE VALUES FROM THE MEAN AND STANDARD DEVIATION OF x?\n",
        "\n",
        "\n"
      ],
      "metadata": {
        "id": "qK0XJwl0R4Oy"
      }
    },
    {
      "cell_type": "code",
      "source": [
        "print(xmean.std())\n",
        "print(xmean.mean())\n"
      ],
      "metadata": {
        "colab": {
          "base_uri": "https://localhost:8080/"
        },
        "id": "VojpkPLhoBNS",
        "outputId": "190953a7-9181-47da-d5ac-9ac251088f77"
      },
      "execution_count": 9,
      "outputs": [
        {
          "output_type": "stream",
          "name": "stdout",
          "text": [
            "2.2939529539176267\n",
            "20.02547890252967\n"
          ]
        }
      ]
    },
    {
      "cell_type": "markdown",
      "source": [
        "WHAT DO YOU SEE IN THE ABOVE HISTOGRAM? \n",
        "\n",
        "I CAN SEE THAT THE VALUES AT THE END ARE NO THAT RANDOM, AS THEY SEEM TO BE DISTRIBUTED AS A GAUSSIAN BELL, WHICH MEANS THATH MOST OF THE MEDIAS GENERATED ARE LOCATED IN THE MIDDLE. THIS IS AMAZING, BECAUSE WE ARE TALKING ABOUT 10,000 MEASURES WITH A GENERATION OF 25 VALUES EACH.\n",
        "\n",
        "DOES THE HISTOGRAM OF SAMPLE MEANS OF UNIFORM RANDOM VARIABLE LOOK LIKE A UNIFORM DISTRIBUTED VARIABLE? DO YOU SEE A LOGIC? BRIEFLY EXPLAIN WHAT YOU THINK.\n",
        "\n",
        "IT DOES NOT SEEM LIKE A UNIFORM DISTRIBUTED VARIABLE, THAT MIGH BE BECAUSE WE ARE TALKING NOW ABOUT THE MEAN, NOT ABOUT EACH INDIVIDUAL VALUE, THEREFORE, EVERY MEAN OF THE 10,000 TENDS TO BE AROUND THE MEAN +- A BIT. SO THAT'S WHY I THINK IT MAKES SENSE THAT THE VALUES ARE LOCATED THIS WAY."
      ],
      "metadata": {
        "id": "hNKx9vZCR-8W"
      }
    },
    {
      "cell_type": "code",
      "source": [
        "plt.clf()\n",
        "xmean.plot()\n",
        "x.plot()\n",
        "plt.show()"
      ],
      "metadata": {
        "colab": {
          "base_uri": "https://localhost:8080/",
          "height": 265
        },
        "id": "_oqA4pX0oTj-",
        "outputId": "de6331d7-7ee3-4bda-b5fc-877eb95777bb"
      },
      "execution_count": 10,
      "outputs": [
        {
          "output_type": "display_data",
          "data": {
            "text/plain": [
              "<Figure size 432x288 with 1 Axes>"
            ],
            "image/png": "[encoded data removed]"
          },
          "metadata": {
            "needs_background": "light"
          }
        }
      ]
    },
    {
      "cell_type": "markdown",
      "source": [
        "WHAT DO YOU SEE? HOW THE HISTOGRAM OF X DIFFERS FROM THE HISTOGRAM OF THE SAMPLES OF X?\n",
        "\n",
        "THE DIFFERENCE IS THAT FOR X WE HAVE A UNIFORM DISTRIBUTED VARIABLE, AS WE ARE TALKING ABOUT INDIVIDUALS, BUT WHEN WE CREATE ARRAYS OF INDIVIDUAL RANDOM NUMBERS AND GET THE MEAN, IT SEEMS TO SHRINK INTO JUST A FEW VALUES, THAT IS BECAUSE BIG NUMBERS \"ELIMINATE\" LOW NUMBERS AND THEREFORE MOST OF THE MEANS ENDS IN THE MIDDLE"
      ],
      "metadata": {
        "id": "5Xf3SagaUACX"
      }
    },
    {
      "cell_type": "code",
      "source": [
        "# clear the plot space:\n",
        "plt.clf()\n",
        "# Define the probability type of function as uniform (probability space)\n",
        "P = Normal(mean=20, sd=10)\n",
        "# Define Y as a random variable of the type P (normal)\n",
        "Y =RV(P)\n",
        "# Simulate 10,000 values of Y and save the in the x array: \n",
        "y=Y.sim(10000)\n",
        "y.plot()\n",
        "plt.show()"
      ],
      "metadata": {
        "colab": {
          "base_uri": "https://localhost:8080/",
          "height": 265
        },
        "id": "8KMFBh5rpBfR",
        "outputId": "64474ac9-139a-4320-fbad-3b11231b5f19"
      },
      "execution_count": 11,
      "outputs": [
        {
          "output_type": "display_data",
          "data": {
            "text/plain": [
              "<Figure size 432x288 with 1 Axes>"
            ],
            "image/png": "[encoded data removed]"
          },
          "metadata": {
            "needs_background": "light"
          }
        }
      ]
    },
    {
      "cell_type": "markdown",
      "source": [
        "CHALLENGE 2.2.5"
      ],
      "metadata": {
        "id": "0kdZBnyqWjE4"
      }
    },
    {
      "cell_type": "markdown",
      "source": [
        "CALCULATE THE MEAN AND STANDARD DEVIATION OF THIS RANDOM y VARIABLE. HOW SIMILAR OR DIFFERENT ARE THESE VALUES FROM THE MEAN AND STANDARD DEVIATION OF THE THEORETICAL MEAN (20) AND THE THEORETICAL STANDARD DEVIATION (10)?\n"
      ],
      "metadata": {
        "id": "uvSRKQ8yVQH6"
      }
    },
    {
      "cell_type": "code",
      "source": [
        "print(y.std())\n",
        "print(y.mean())"
      ],
      "metadata": {
        "colab": {
          "base_uri": "https://localhost:8080/"
        },
        "id": "I87-ztDTpHQo",
        "outputId": "c2f719a7-81a5-40bf-f4af-e17cba6438a5"
      },
      "execution_count": 12,
      "outputs": [
        {
          "output_type": "stream",
          "name": "stdout",
          "text": [
            "10.072613614466944\n",
            "20.019425530352155\n"
          ]
        }
      ]
    },
    {
      "cell_type": "markdown",
      "source": [
        "THEY ARE SO CLOSE TO THE MEAN AND THE STANDAR DEVIATION, THEY ONLY DIFFER FOR A BIT"
      ],
      "metadata": {
        "id": "bA7yNldTVYix"
      }
    },
    {
      "cell_type": "markdown",
      "source": [
        "B)WHAT DO YOU SEE? INTERPRET THE HISTOGRAM WITH YOUR WORDS.\n",
        "\n",
        "THE VALUES SEEM TO KEEP MOST OF THEIR MEAN IN THE MIDDLE, WE WERE EXPECTING THIS, BECAUSE EVEN WHEN WE TRY TO GET A NORMAL DISTRIBUTION, WE ARE ALREADY GIVING PARAMETERS THAT \"FORCE\" VALUES TO KEEP AROUND THE MEAN WITH A SD OF 10."
      ],
      "metadata": {
        "id": "mj2rPSoHVV69"
      }
    },
    {
      "cell_type": "markdown",
      "source": [
        ""
      ],
      "metadata": {
        "id": "XlK31yTWVS3O"
      }
    },
    {
      "cell_type": "code",
      "source": [
        "# Define the probability space P as a vector of 25 normal random numbers:\n",
        "P = Normal(mean=20, sd=10) ** 25\n",
        "# Define RANDOMVECTOR as a vector of 25 random variables in the Probability space P \n",
        "RANDOMVECTOR = RV(P)\n",
        "# Simulate 10,000 random vectors with this distribution and save the in ymatrix: \n",
        "ymatrix=RANDOMVECTOR.sim(10000)"
      ],
      "metadata": {
        "id": "FCt-IhzTp_TC"
      },
      "execution_count": 13,
      "outputs": []
    },
    {
      "cell_type": "code",
      "source": [
        "ymatrix"
      ],
      "metadata": {
        "colab": {
          "base_uri": "https://localhost:8080/",
          "height": 275
        },
        "id": "HzW-sQx_qBlH",
        "outputId": "983db94f-89b9-44ab-d0e5-8b309995f4fa"
      },
      "execution_count": 14,
      "outputs": [
        {
          "output_type": "execute_result",
          "data": {
            "text/plain": [
              "Index Result\n",
              "0     (33.6616431676334, 30.89600505992525, 28.258573531516028, 17.08331323962109, 33.45668654646515, ..., 34.034466254761114)\n",
              "1     (27.28276304145011, 14.570097912883368, 2.9192629615625876, 38.1457702538204, 20.406772598466233, ..., 20.3822083039879)\n",
              "2     (14.921187337880376, 26.16525502348319, 23.635924580172002, 32.901175414189176, 18.39220868382473, ..., 10.107261648710162)\n",
              "3     (17.03026992733222, 14.471894778170435, 19.369694586585307, 9.337239194403303, 39.07990025350347, ..., 24.43287826606723)\n",
              "4     (9.642395245398914, 20.493056975192918, 14.822761961580037, 16.581595959770052, 17.585412705863888, ..., 30.24220413784069)\n",
              "5     (-1.6751908062877092, 16.056376296712113, 17.895025054913564, 29.26205150024991, 10.312860188276252, ..., 16.34372396481663)\n",
              "6     (19.422133750512153, 16.4560404935453, 24.227615895222513, -4.974642356687685, 14.064679337286211, ..., 10.396224451249568)\n",
              "7     (14.943248350497306, 29.50166211423234, 10.32913910588102, 21.90590598646934, 12.790651620392278, ..., 18.852279304246)\n",
              "8     (22.90146533067682, 18.73722640106022, 15.56662748766271, 37.05393801160521, 20.23679181376643, ..., 33.5877481509435)\n",
              "....  ...........................................................................................................................\n",
              "9999  (14.607584970639643, 46.37802103747076, 11.823246371426858, 19.516207692367292, 6.210367103109853, ..., 16.221011098757753)"
            ],
            "text/html": [
              "\n",
              "    <table>\n",
              "      <thead>\n",
              "        <th width=\"10%\">Index</th>\n",
              "        <th width=\"90%\">Result</th>\n",
              "      </thead>\n",
              "      <tbody>\n",
              "        \n",
              "        <tr>\n",
              "          <td>0</td><td>(33.6616431676334, 30.89600505992525, 28.258573531516028, 17.08331323962109, 33.45668654646515, ...,...</td>\n",
              "        </tr>\n",
              "        \n",
              "        <tr>\n",
              "          <td>1</td><td>(27.28276304145011, 14.570097912883368, 2.9192629615625876, 38.1457702538204, 20.406772598466233, .....</td>\n",
              "        </tr>\n",
              "        \n",
              "        <tr>\n",
              "          <td>2</td><td>(14.921187337880376, 26.16525502348319, 23.635924580172002, 32.901175414189176, 18.39220868382473, ....</td>\n",
              "        </tr>\n",
              "        \n",
              "        <tr>\n",
              "          <td>3</td><td>(17.03026992733222, 14.471894778170435, 19.369694586585307, 9.337239194403303, 39.07990025350347, .....</td>\n",
              "        </tr>\n",
              "        \n",
              "        <tr>\n",
              "          <td>4</td><td>(9.642395245398914, 20.493056975192918, 14.822761961580037, 16.581595959770052, 17.585412705863888, ...</td>\n",
              "        </tr>\n",
              "        \n",
              "        <tr>\n",
              "          <td>5</td><td>(-1.6751908062877092, 16.056376296712113, 17.895025054913564, 29.26205150024991, 10.312860188276252,...</td>\n",
              "        </tr>\n",
              "        \n",
              "        <tr>\n",
              "          <td>6</td><td>(19.422133750512153, 16.4560404935453, 24.227615895222513, -4.974642356687685, 14.064679337286211, ....</td>\n",
              "        </tr>\n",
              "        \n",
              "        <tr>\n",
              "          <td>7</td><td>(14.943248350497306, 29.50166211423234, 10.32913910588102, 21.90590598646934, 12.790651620392278, .....</td>\n",
              "        </tr>\n",
              "        \n",
              "        <tr>\n",
              "          <td>8</td><td>(22.90146533067682, 18.73722640106022, 15.56662748766271, 37.05393801160521, 20.23679181376643, ...,...</td>\n",
              "        </tr>\n",
              "        <tr><td>...</td><td>...</td></tr>\n",
              "        <tr>\n",
              "          <td>9999</td><td>(14.607584970639643, 46.37802103747076, 11.823246371426858, 19.516207692367292, 6.210367103109853, ....</td>\n",
              "        </tr>\n",
              "        \n",
              "      </tbody>\n",
              "    </table>\n",
              "        "
            ]
          },
          "metadata": {},
          "execution_count": 14
        }
      ]
    },
    {
      "cell_type": "code",
      "source": [
        "# The 2nd parameter is the mathematical operation applied to each row of the random vector\n",
        "# Simulate 10,000 means of each random vector of 25 uniform distributed numbers: \n",
        "ymean = RV(P,mean).sim(10000)\n",
        "ymean"
      ],
      "metadata": {
        "colab": {
          "base_uri": "https://localhost:8080/",
          "height": 275
        },
        "id": "ElwC50PoqEgz",
        "outputId": "fc74a265-26c0-4a10-b606-ec4217c181dd"
      },
      "execution_count": 15,
      "outputs": [
        {
          "output_type": "execute_result",
          "data": {
            "text/plain": [
              "Index Result\n",
              "0     20.277398023726327\n",
              "1     24.039832723731884\n",
              "2     19.03003723528533\n",
              "3     17.36459102314817\n",
              "4     21.917662746761348\n",
              "5     21.464673555764946\n",
              "6     19.910350227294447\n",
              "7     19.89729492070545\n",
              "8     18.227263466857003\n",
              "....  .................\n",
              "9999  18.70800940187983"
            ],
            "text/html": [
              "\n",
              "    <table>\n",
              "      <thead>\n",
              "        <th width=\"10%\">Index</th>\n",
              "        <th width=\"90%\">Result</th>\n",
              "      </thead>\n",
              "      <tbody>\n",
              "        \n",
              "        <tr>\n",
              "          <td>0</td><td>20.277398023726327</td>\n",
              "        </tr>\n",
              "        \n",
              "        <tr>\n",
              "          <td>1</td><td>24.039832723731884</td>\n",
              "        </tr>\n",
              "        \n",
              "        <tr>\n",
              "          <td>2</td><td>19.03003723528533</td>\n",
              "        </tr>\n",
              "        \n",
              "        <tr>\n",
              "          <td>3</td><td>17.36459102314817</td>\n",
              "        </tr>\n",
              "        \n",
              "        <tr>\n",
              "          <td>4</td><td>21.917662746761348</td>\n",
              "        </tr>\n",
              "        \n",
              "        <tr>\n",
              "          <td>5</td><td>21.464673555764946</td>\n",
              "        </tr>\n",
              "        \n",
              "        <tr>\n",
              "          <td>6</td><td>19.910350227294447</td>\n",
              "        </tr>\n",
              "        \n",
              "        <tr>\n",
              "          <td>7</td><td>19.89729492070545</td>\n",
              "        </tr>\n",
              "        \n",
              "        <tr>\n",
              "          <td>8</td><td>18.227263466857003</td>\n",
              "        </tr>\n",
              "        <tr><td>...</td><td>...</td></tr>\n",
              "        <tr>\n",
              "          <td>9999</td><td>18.70800940187983</td>\n",
              "        </tr>\n",
              "        \n",
              "      </tbody>\n",
              "    </table>\n",
              "        "
            ]
          },
          "metadata": {},
          "execution_count": 15
        }
      ]
    },
    {
      "cell_type": "code",
      "source": [
        "plt.clf()\n",
        "ymean.plot()\n",
        "plt.show()"
      ],
      "metadata": {
        "colab": {
          "base_uri": "https://localhost:8080/",
          "height": 265
        },
        "id": "RVA1xLRjqKQ5",
        "outputId": "4427eaf5-2771-4b78-c251-4ddc830d4fe1"
      },
      "execution_count": 16,
      "outputs": [
        {
          "output_type": "display_data",
          "data": {
            "text/plain": [
              "<Figure size 432x288 with 1 Axes>"
            ],
            "image/png": "[encoded data removed]"
          },
          "metadata": {
            "needs_background": "light"
          }
        }
      ]
    },
    {
      "cell_type": "markdown",
      "source": [
        "2.2.6 CHALLENGE\n",
        "CALCULATE THE MEAN AND STANDARD DEVIATION OF THE ymean VARIABLE. HOW SIMILAR OR DIFFERENT ARE THESE VALUES FROM THE MEAN AND STANDARD DEVIATION OF y?\n",
        "INTERPRET THE ABOVE HISTOGRAM OF THE SAMPLES OF y."
      ],
      "metadata": {
        "id": "Wxe8YTFTWtVG"
      }
    },
    {
      "cell_type": "code",
      "source": [
        "print(ymean.mean())\n",
        "print(ymean.std())\n",
        "print(y.mean())\n",
        "print(y.std())"
      ],
      "metadata": {
        "colab": {
          "base_uri": "https://localhost:8080/"
        },
        "id": "l_977jZ1W2ro",
        "outputId": "5e005d2d-fd80-4f94-ae38-7acf4b1a4447"
      },
      "execution_count": 17,
      "outputs": [
        {
          "output_type": "stream",
          "name": "stdout",
          "text": [
            "20.00031511215657\n",
            "2.024685725094937\n",
            "20.019425530352155\n",
            "10.072613614466944\n"
          ]
        }
      ]
    },
    {
      "cell_type": "markdown",
      "source": [
        "THE MEAN IS SO ALIKE, AS WE CAN SEE, BOTH VALUES ARE 20.SOMETHING BUT THE STANDAR DEVIATION IS SO DIFFERENT, AS WE CAN SEE FOT ymean WE HAVE 2 AND FOR y WE HAVE 9. I WOULD SAY THESE VALUES ARE SO DIFFERENT BECAUSE OF THE CUANTITY OF DATA. IF WE HAVE MORE DATA THE STANDARD DISTRIBUTION WILL BE FEWER THAN WITH LESS DATA. BUT IT WILL STILL KEEP MOST OF THE VALUES IN THE MIDDLE"
      ],
      "metadata": {
        "id": "3eFoqhOYXLF4"
      }
    },
    {
      "cell_type": "code",
      "source": [
        "plt.clf()\n",
        "ymean.plot()\n",
        "y.plot()\n",
        "plt.show()"
      ],
      "metadata": {
        "colab": {
          "base_uri": "https://localhost:8080/",
          "height": 265
        },
        "id": "zEchczU6qNVr",
        "outputId": "631831fb-a7ed-4f62-a3ba-22d740dde35b"
      },
      "execution_count": 18,
      "outputs": [
        {
          "output_type": "display_data",
          "data": {
            "text/plain": [
              "<Figure size 432x288 with 1 Axes>"
            ],
            "image/png": "[encoded data removed]"
          },
          "metadata": {
            "needs_background": "light"
          }
        }
      ]
    },
    {
      "cell_type": "markdown",
      "source": [
        "WHAT DO YOU SEE? COMPARE BOTH HISTOGRAMS. BRIEFLY EXPLAIN WHAT YOU THINK THAT HAPPEND.\n",
        "\n",
        "AS WE HAVE FEWER DATA FOR THE ORANGE CHART, BECAUSE IS JUST ONE RANDOM VALUE THAT FITS THE FORMULA SEEM TO DISTRIBUTE AND HAVE MORE DEVIATION TO THE SIDES, KEEPING MOST OF THE DATA IN THE MIDDLE BUT STILL SO \"LONG\". IN THE OTHER HAND, THE BLUE CHART THAT HAS 10,000 VALUES X 25 AND GETTING THE MEDIA OF THOSE RANDOM NUMBERS WE SEE THAT THE VALUES SHINK AND HAVE LESS DISTRIBUTION, BECAUSE THE HIGH NUMBERS, CANCEL WIT THE LOW ONES, SO WE GET A BETTER CHART WITH NUMBERS THAT NOT ONLY KEEP MOST OF THE VALUE IN THE MEAN, BUT KEEP THE OTHER VALUES CLOSE TOO."
      ],
      "metadata": {
        "id": "sZVqbEaMYXak"
      }
    },
    {
      "cell_type": "code",
      "source": [
        "print(ymean.std())\n",
        "print(ymean.mean())"
      ],
      "metadata": {
        "colab": {
          "base_uri": "https://localhost:8080/"
        },
        "id": "TwWoTIWmqP9K",
        "outputId": "892261c6-be10-46f3-956d-a227c58d29ef"
      },
      "execution_count": 19,
      "outputs": [
        {
          "output_type": "stream",
          "name": "stdout",
          "text": [
            "2.024685725094937\n",
            "20.00031511215657\n"
          ]
        }
      ]
    },
    {
      "cell_type": "markdown",
      "source": [
        "CHALLENGE 4.1\n"
      ],
      "metadata": {
        "id": "h6nrayL2c-2z"
      }
    },
    {
      "cell_type": "code",
      "source": [
        "!pip install --upgrade pandas-datareader"
      ],
      "metadata": {
        "colab": {
          "base_uri": "https://localhost:8080/"
        },
        "id": "iWHuzrr4dDPh",
        "outputId": "c27e2b19-d742-476d-a713-33e5237b8605"
      },
      "execution_count": 20,
      "outputs": [
        {
          "output_type": "stream",
          "name": "stdout",
          "text": [
            "Looking in indexes: https://pypi.org/simple, https://us-python.pkg.dev/colab-wheels/public/simple/\n",
            "Requirement already satisfied: pandas-datareader in /usr/local/lib/python3.7/dist-packages (0.10.0)\n",
            "Requirement already satisfied: requests>=2.19.0 in /usr/local/lib/python3.7/dist-packages (from pandas-datareader) (2.23.0)\n",
            "Requirement already satisfied: pandas>=0.23 in /usr/local/lib/python3.7/dist-packages (from pandas-datareader) (1.3.5)\n",
            "Requirement already satisfied: lxml in /usr/local/lib/python3.7/dist-packages (from pandas-datareader) (4.9.1)\n",
            "Requirement already satisfied: numpy>=1.17.3 in /usr/local/lib/python3.7/dist-packages (from pandas>=0.23->pandas-datareader) (1.21.6)\n",
            "Requirement already satisfied: python-dateutil>=2.7.3 in /usr/local/lib/python3.7/dist-packages (from pandas>=0.23->pandas-datareader) (2.8.2)\n",
            "Requirement already satisfied: pytz>=2017.3 in /usr/local/lib/python3.7/dist-packages (from pandas>=0.23->pandas-datareader) (2022.1)\n",
            "Requirement already satisfied: six>=1.5 in /usr/local/lib/python3.7/dist-packages (from python-dateutil>=2.7.3->pandas>=0.23->pandas-datareader) (1.15.0)\n",
            "Requirement already satisfied: certifi>=2017.4.17 in /usr/local/lib/python3.7/dist-packages (from requests>=2.19.0->pandas-datareader) (2022.6.15)\n",
            "Requirement already satisfied: idna<3,>=2.5 in /usr/local/lib/python3.7/dist-packages (from requests>=2.19.0->pandas-datareader) (2.10)\n",
            "Requirement already satisfied: urllib3!=1.25.0,!=1.25.1,<1.26,>=1.21.1 in /usr/local/lib/python3.7/dist-packages (from requests>=2.19.0->pandas-datareader) (1.24.3)\n",
            "Requirement already satisfied: chardet<4,>=3.0.2 in /usr/local/lib/python3.7/dist-packages (from requests>=2.19.0->pandas-datareader) (3.0.4)\n"
          ]
        }
      ]
    },
    {
      "cell_type": "code",
      "source": [
        "from cProfile import label\n",
        "import numpy as np\n",
        "import pandas as pd\n",
        "import pandas_datareader as pdr\n",
        "from matplotlib import pyplot\n",
        "from matplotlib.pyplot import*"
      ],
      "metadata": {
        "id": "XI_dwUZbed69"
      },
      "execution_count": 21,
      "outputs": []
    },
    {
      "cell_type": "markdown",
      "source": [
        "GETTING MICROSOFT DATA"
      ],
      "metadata": {
        "id": "POGvXV5Nj12N"
      }
    },
    {
      "cell_type": "code",
      "source": [
        "MSFTD = pdr.get_data_yahoo('MSFT', start=\"01/01/2015\", interval=\"m\") \n",
        "MSFTD"
      ],
      "metadata": {
        "colab": {
          "base_uri": "https://localhost:8080/",
          "height": 455
        },
        "id": "0XgIduiEtP91",
        "outputId": "ab7f430f-1590-437c-994c-489f55e401dd"
      },
      "execution_count": 29,
      "outputs": [
        {
          "output_type": "execute_result",
          "data": {
            "text/plain": [
              "                  High         Low        Open       Close       Volume  \\\n",
              "Date                                                                      \n",
              "2015-01-01   47.910000   40.349998   46.660000   40.400002  918966800.0   \n",
              "2015-02-01   44.299999   40.230000   40.590000   43.849998  656509700.0   \n",
              "2015-03-01   44.189999   40.540001   43.669998   40.660000  824335300.0   \n",
              "2015-04-01   49.540001   40.119999   40.599998   48.639999  874535300.0   \n",
              "2015-05-01   48.910000   46.020000   48.580002   46.860001  633072800.0   \n",
              "...                ...         ...         ...         ...          ...   \n",
              "2022-05-01  290.880005  246.440002  277.709991  271.869995  742902000.0   \n",
              "2022-06-01  277.690002  241.509995  275.200012  256.829987  621372300.0   \n",
              "2022-07-01  282.000000  245.940002  256.390015  280.739990  534868400.0   \n",
              "2022-08-01  291.910004  272.380005  277.820007  291.910004  212179300.0   \n",
              "2022-08-12  291.910004  286.940002  288.480011  291.910004   22619675.0   \n",
              "\n",
              "             Adj Close  \n",
              "Date                    \n",
              "2015-01-01   35.434937  \n",
              "2015-02-01   38.460949  \n",
              "2015-03-01   35.916790  \n",
              "2015-04-01   42.965885  \n",
              "2015-05-01   41.393520  \n",
              "...                ...  \n",
              "2022-05-01  271.238251  \n",
              "2022-06-01  256.829987  \n",
              "2022-07-01  280.739990  \n",
              "2022-08-01  291.910004  \n",
              "2022-08-12  291.910004  \n",
              "\n",
              "[93 rows x 6 columns]"
            ],
            "text/html": [
              "\n",
              "  <div id=\"df-db995f72-a17e-4f3a-9920-1697072df3e8\">\n",
              "    <div class=\"colab-df-container\">\n",
              "      <div>\n",
              "<style scoped>\n",
              "    .dataframe tbody tr th:only-of-type {\n",
              "        vertical-align: middle;\n",
              "    }\n",
              "\n",
              "    .dataframe tbody tr th {\n",
              "        vertical-align: top;\n",
              "    }\n",
              "\n",
              "    .dataframe thead th {\n",
              "        text-align: right;\n",
              "    }\n",
              "</style>\n",
              "<table border=\"1\" class=\"dataframe\">\n",
              "  <thead>\n",
              "    <tr style=\"text-align: right;\">\n",
              "      <th></th>\n",
              "      <th>High</th>\n",
              "      <th>Low</th>\n",
              "      <th>Open</th>\n",
              "      <th>Close</th>\n",
              "      <th>Volume</th>\n",
              "      <th>Adj Close</th>\n",
              "    </tr>\n",
              "    <tr>\n",
              "      <th>Date</th>\n",
              "      <th></th>\n",
              "      <th></th>\n",
              "      <th></th>\n",
              "      <th></th>\n",
              "      <th></th>\n",
              "      <th></th>\n",
              "    </tr>\n",
              "  </thead>\n",
              "  <tbody>\n",
              "    <tr>\n",
              "      <th>2015-01-01</th>\n",
              "      <td>47.910000</td>\n",
              "      <td>40.349998</td>\n",
              "      <td>46.660000</td>\n",
              "      <td>40.400002</td>\n",
              "      <td>918966800.0</td>\n",
              "      <td>35.434937</td>\n",
              "    </tr>\n",
              "    <tr>\n",
              "      <th>2015-02-01</th>\n",
              "      <td>44.299999</td>\n",
              "      <td>40.230000</td>\n",
              "      <td>40.590000</td>\n",
              "      <td>43.849998</td>\n",
              "      <td>656509700.0</td>\n",
              "      <td>38.460949</td>\n",
              "    </tr>\n",
              "    <tr>\n",
              "      <th>2015-03-01</th>\n",
              "      <td>44.189999</td>\n",
              "      <td>40.540001</td>\n",
              "      <td>43.669998</td>\n",
              "      <td>40.660000</td>\n",
              "      <td>824335300.0</td>\n",
              "      <td>35.916790</td>\n",
              "    </tr>\n",
              "    <tr>\n",
              "      <th>2015-04-01</th>\n",
              "      <td>49.540001</td>\n",
              "      <td>40.119999</td>\n",
              "      <td>40.599998</td>\n",
              "      <td>48.639999</td>\n",
              "      <td>874535300.0</td>\n",
              "      <td>42.965885</td>\n",
              "    </tr>\n",
              "    <tr>\n",
              "      <th>2015-05-01</th>\n",
              "      <td>48.910000</td>\n",
              "      <td>46.020000</td>\n",
              "      <td>48.580002</td>\n",
              "      <td>46.860001</td>\n",
              "      <td>633072800.0</td>\n",
              "      <td>41.393520</td>\n",
              "    </tr>\n",
              "    <tr>\n",
              "      <th>...</th>\n",
              "      <td>...</td>\n",
              "      <td>...</td>\n",
              "      <td>...</td>\n",
              "      <td>...</td>\n",
              "      <td>...</td>\n",
              "      <td>...</td>\n",
              "    </tr>\n",
              "    <tr>\n",
              "      <th>2022-05-01</th>\n",
              "      <td>290.880005</td>\n",
              "      <td>246.440002</td>\n",
              "      <td>277.709991</td>\n",
              "      <td>271.869995</td>\n",
              "      <td>742902000.0</td>\n",
              "      <td>271.238251</td>\n",
              "    </tr>\n",
              "    <tr>\n",
              "      <th>2022-06-01</th>\n",
              "      <td>277.690002</td>\n",
              "      <td>241.509995</td>\n",
              "      <td>275.200012</td>\n",
              "      <td>256.829987</td>\n",
              "      <td>621372300.0</td>\n",
              "      <td>256.829987</td>\n",
              "    </tr>\n",
              "    <tr>\n",
              "      <th>2022-07-01</th>\n",
              "      <td>282.000000</td>\n",
              "      <td>245.940002</td>\n",
              "      <td>256.390015</td>\n",
              "      <td>280.739990</td>\n",
              "      <td>534868400.0</td>\n",
              "      <td>280.739990</td>\n",
              "    </tr>\n",
              "    <tr>\n",
              "      <th>2022-08-01</th>\n",
              "      <td>291.910004</td>\n",
              "      <td>272.380005</td>\n",
              "      <td>277.820007</td>\n",
              "      <td>291.910004</td>\n",
              "      <td>212179300.0</td>\n",
              "      <td>291.910004</td>\n",
              "    </tr>\n",
              "    <tr>\n",
              "      <th>2022-08-12</th>\n",
              "      <td>291.910004</td>\n",
              "      <td>286.940002</td>\n",
              "      <td>288.480011</td>\n",
              "      <td>291.910004</td>\n",
              "      <td>22619675.0</td>\n",
              "      <td>291.910004</td>\n",
              "    </tr>\n",
              "  </tbody>\n",
              "</table>\n",
              "<p>93 rows × 6 columns</p>\n",
              "</div>\n",
              "      <button class=\"colab-df-convert\" onclick=\"convertToInteractive('df-db995f72-a17e-4f3a-9920-1697072df3e8')\"\n",
              "              title=\"Convert this dataframe to an interactive table.\"\n",
              "              style=\"display:none;\">\n",
              "        \n",
              "  <svg xmlns=\"http://www.w3.org/2000/svg\" height=\"24px\"viewBox=\"0 0 24 24\"\n",
              "       width=\"24px\">\n",
              "    <path d=\"M0 0h24v24H0V0z\" fill=\"none\"/>\n",
              "    <path d=\"M18.56 5.44l.94 2.06.94-2.06 2.06-.94-2.06-.94-.94-2.06-.94 2.06-2.06.94zm-11 1L8.5 8.5l.94-2.06 2.06-.94-2.06-.94L8.5 2.5l-.94 2.06-2.06.94zm10 10l.94 2.06.94-2.06 2.06-.94-2.06-.94-.94-2.06-.94 2.06-2.06.94z\"/><path d=\"M17.41 7.96l-1.37-1.37c-.4-.4-.92-.59-1.43-.59-.52 0-1.04.2-1.43.59L10.3 9.45l-7.72 7.72c-.78.78-.78 2.05 0 2.83L4 21.41c.39.39.9.59 1.41.59.51 0 1.02-.2 1.41-.59l7.78-7.78 2.81-2.81c.8-.78.8-2.07 0-2.86zM5.41 20L4 18.59l7.72-7.72 1.47 1.35L5.41 20z\"/>\n",
              "  </svg>\n",
              "      </button>\n",
              "      \n",
              "  <style>\n",
              "    .colab-df-container {\n",
              "      display:flex;\n",
              "      flex-wrap:wrap;\n",
              "      gap: 12px;\n",
              "    }\n",
              "\n",
              "    .colab-df-convert {\n",
              "      background-color: #E8F0FE;\n",
              "      border: none;\n",
              "      border-radius: 50%;\n",
              "      cursor: pointer;\n",
              "      display: none;\n",
              "      fill: #1967D2;\n",
              "      height: 32px;\n",
              "      padding: 0 0 0 0;\n",
              "      width: 32px;\n",
              "    }\n",
              "\n",
              "    .colab-df-convert:hover {\n",
              "      background-color: #E2EBFA;\n",
              "      box-shadow: 0px 1px 2px rgba(60, 64, 67, 0.3), 0px 1px 3px 1px rgba(60, 64, 67, 0.15);\n",
              "      fill: #174EA6;\n",
              "    }\n",
              "\n",
              "    [theme=dark] .colab-df-convert {\n",
              "      background-color: #3B4455;\n",
              "      fill: #D2E3FC;\n",
              "    }\n",
              "\n",
              "    [theme=dark] .colab-df-convert:hover {\n",
              "      background-color: #434B5C;\n",
              "      box-shadow: 0px 1px 3px 1px rgba(0, 0, 0, 0.15);\n",
              "      filter: drop-shadow(0px 1px 2px rgba(0, 0, 0, 0.3));\n",
              "      fill: #FFFFFF;\n",
              "    }\n",
              "  </style>\n",
              "\n",
              "      <script>\n",
              "        const buttonEl =\n",
              "          document.querySelector('#df-db995f72-a17e-4f3a-9920-1697072df3e8 button.colab-df-convert');\n",
              "        buttonEl.style.display =\n",
              "          google.colab.kernel.accessAllowed ? 'block' : 'none';\n",
              "\n",
              "        async function convertToInteractive(key) {\n",
              "          const element = document.querySelector('#df-db995f72-a17e-4f3a-9920-1697072df3e8');\n",
              "          const dataTable =\n",
              "            await google.colab.kernel.invokeFunction('convertToInteractive',\n",
              "                                                     [key], {});\n",
              "          if (!dataTable) return;\n",
              "\n",
              "          const docLinkHtml = 'Like what you see? Visit the ' +\n",
              "            '<a target=\"_blank\" href=https://colab.research.google.com/notebooks/data_table.ipynb>data table notebook</a>'\n",
              "            + ' to learn more about interactive tables.';\n",
              "          element.innerHTML = '';\n",
              "          dataTable['output_type'] = 'display_data';\n",
              "          await google.colab.output.renderOutput(dataTable, element);\n",
              "          const docLink = document.createElement('div');\n",
              "          docLink.innerHTML = docLinkHtml;\n",
              "          element.appendChild(docLink);\n",
              "        }\n",
              "      </script>\n",
              "    </div>\n",
              "  </div>\n",
              "  "
            ]
          },
          "metadata": {},
          "execution_count": 29
        }
      ]
    },
    {
      "cell_type": "code",
      "source": [
        "MSFTD.info()"
      ],
      "metadata": {
        "colab": {
          "base_uri": "https://localhost:8080/"
        },
        "id": "aO3uy-t7fo0i",
        "outputId": "619d9ff0-edd6-4516-b797-d8870d568a6d"
      },
      "execution_count": 30,
      "outputs": [
        {
          "output_type": "stream",
          "name": "stdout",
          "text": [
            "<class 'pandas.core.frame.DataFrame'>\n",
            "DatetimeIndex: 93 entries, 2015-01-01 to 2022-08-12\n",
            "Data columns (total 6 columns):\n",
            " #   Column     Non-Null Count  Dtype  \n",
            "---  ------     --------------  -----  \n",
            " 0   High       93 non-null     float64\n",
            " 1   Low        93 non-null     float64\n",
            " 2   Open       93 non-null     float64\n",
            " 3   Close      93 non-null     float64\n",
            " 4   Volume     93 non-null     float64\n",
            " 5   Adj Close  93 non-null     float64\n",
            "dtypes: float64(6)\n",
            "memory usage: 5.1 KB\n"
          ]
        }
      ]
    },
    {
      "cell_type": "markdown",
      "source": [
        "A - DEFINE THE VARIABLE OF STUDY. In this case it will be the mean of MSFT cc returns"
      ],
      "metadata": {
        "id": "c5B0L4xBj5jg"
      }
    },
    {
      "cell_type": "code",
      "source": [
        "print('*****- Microsoft Continously Compunded Returns-*****')\n",
        "MSFTD = MSFTD.dropna()\n",
        "MSFTR = MSFTD[\"r\"] = np.log(MSFTD['Adj Close']) - np.log(MSFTD['Adj Close'].shift(1))\n",
        "MSFTR "
      ],
      "metadata": {
        "colab": {
          "base_uri": "https://localhost:8080/"
        },
        "id": "j7EiMnKzhMyy",
        "outputId": "59a655fb-cfb9-4d4d-f235-0f9e06a83f05"
      },
      "execution_count": 34,
      "outputs": [
        {
          "output_type": "stream",
          "name": "stdout",
          "text": [
            "*****- Microsoft Continously Compunded Returns-*****\n"
          ]
        },
        {
          "output_type": "stream",
          "name": "stderr",
          "text": [
            "/usr/local/lib/python3.7/dist-packages/ipykernel_launcher.py:3: SettingWithCopyWarning: \n",
            "A value is trying to be set on a copy of a slice from a DataFrame.\n",
            "Try using .loc[row_indexer,col_indexer] = value instead\n",
            "\n",
            "See the caveats in the documentation: https://pandas.pydata.org/pandas-docs/stable/user_guide/indexing.html#returning-a-view-versus-a-copy\n",
            "  This is separate from the ipykernel package so we can avoid doing imports until\n"
          ]
        },
        {
          "output_type": "execute_result",
          "data": {
            "text/plain": [
              "Date\n",
              "2015-03-01         NaN\n",
              "2015-04-01    0.179202\n",
              "2015-05-01   -0.037282\n",
              "2015-06-01   -0.053093\n",
              "2015-07-01    0.056151\n",
              "                ...   \n",
              "2022-05-01   -0.020569\n",
              "2022-06-01   -0.054583\n",
              "2022-07-01    0.089015\n",
              "2022-08-01    0.039017\n",
              "2022-08-12    0.000000\n",
              "Name: Adj Close, Length: 91, dtype: float64"
            ]
          },
          "metadata": {},
          "execution_count": 34
        }
      ]
    },
    {
      "cell_type": "markdown",
      "source": [
        "B - WRITE THE NULL AND THE ALTERNATIVE HYPOTHESIS.\n",
        "\n",
        "H0: The mean of a variable X is equal to zero.\n",
        "\n",
        "Ha: The mean of a variable X is greater than zero."
      ],
      "metadata": {
        "id": "iH3K3_UJj_Hu"
      }
    },
    {
      "cell_type": "code",
      "source": [
        "H0 = (MSFTD[MSFTD[\"r\"] == 0])\n",
        "HA = (MSFTD[MSFTD[\"r\"] > 0])"
      ],
      "metadata": {
        "id": "2f4zNth-kOCr"
      },
      "execution_count": 35,
      "outputs": []
    },
    {
      "cell_type": "markdown",
      "source": [
        "C - CALCULATE THE STANDARD ERROR, WHICH IS THE STANDARD DEVIATION OF THE VARIABLE OF STUDY."
      ],
      "metadata": {
        "id": "N-IT7q2Xk2P2"
      }
    },
    {
      "cell_type": "code",
      "source": [
        "print('*****- Standard Error -*****')\n",
        "SErr = MSFTR.std()\n",
        "SErr\n"
      ],
      "metadata": {
        "colab": {
          "base_uri": "https://localhost:8080/"
        },
        "id": "52yItE0Diisa",
        "outputId": "cb6cf41e-39b9-47b3-ac87-654c187fe9d9"
      },
      "execution_count": 36,
      "outputs": [
        {
          "output_type": "stream",
          "name": "stdout",
          "text": [
            "*****- Standard Error -*****\n"
          ]
        },
        {
          "output_type": "execute_result",
          "data": {
            "text/plain": [
              "0.05864191498211951"
            ]
          },
          "metadata": {},
          "execution_count": 36
        }
      ]
    },
    {
      "cell_type": "markdown",
      "source": [
        "D - CALCULATE THE t-statistic (t-value). EXPLAIN/INTERPRET THE t-statistic."
      ],
      "metadata": {
        "id": "QWoaMub4tppp"
      }
    },
    {
      "cell_type": "code",
      "source": [
        "from numpy.lib.function_base import msort\n",
        "MSFTM = MSFTR.mean()\n",
        "MSFTM "
      ],
      "metadata": {
        "id": "JsUTXdesmLhp",
        "colab": {
          "base_uri": "https://localhost:8080/"
        },
        "outputId": "a3607804-fdeb-47ee-877e-8cfadda13434"
      },
      "execution_count": 45,
      "outputs": [
        {
          "output_type": "execute_result",
          "data": {
            "text/plain": [
              "0.02328045193004192"
            ]
          },
          "metadata": {},
          "execution_count": 45
        }
      ]
    },
    {
      "cell_type": "code",
      "source": [
        "T = (MSFTR-0) / ((SErr*(MSFTR))/sqrt(91))\n",
        "T"
      ],
      "metadata": {
        "colab": {
          "base_uri": "https://localhost:8080/"
        },
        "id": "zrpHdUlKuzdl",
        "outputId": "ba50525d-6f6e-44ae-9d98-94ff24112132"
      },
      "execution_count": 54,
      "outputs": [
        {
          "output_type": "execute_result",
          "data": {
            "text/plain": [
              "Date\n",
              "2015-03-01           NaN\n",
              "2015-04-01    162.671905\n",
              "2015-05-01    162.671905\n",
              "2015-06-01    162.671905\n",
              "2015-07-01    162.671905\n",
              "                 ...    \n",
              "2022-05-01    162.671905\n",
              "2022-06-01    162.671905\n",
              "2022-07-01    162.671905\n",
              "2022-08-01    162.671905\n",
              "2022-08-12           NaN\n",
              "Name: Adj Close, Length: 91, dtype: float64"
            ]
          },
          "metadata": {},
          "execution_count": 54
        }
      ]
    },
    {
      "cell_type": "markdown",
      "source": [
        "IT SEEMS TO BE SUPER HIGH, IM NOT SURE IF THE ANSWER IS CORRECT, BUT IF IS, IT MEANSS THAT FROM PEAK TO PEAK WE HAVE A DIFFERENCE OF 162. THEREFORE IT MEANS THAT THERE IS A HIGH PROBABILITY OF HAVING MORE THAN 0 95% OF THE TIME. \n",
        "I HOPE NEXT CLASS I CAN CLARIFY IF MY RESULT WAS CORRECT. "
      ],
      "metadata": {
        "id": "IAB6YyM7t8LF"
      }
    }
  ]
}