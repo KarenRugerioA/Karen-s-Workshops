{
  "nbformat": 4,
  "nbformat_minor": 0,
  "metadata": {
    "colab": {
      "name": "WS1.ipynb",
      "provenance": []
    },
    "kernelspec": {
      "name": "python3",
      "display_name": "Python 3"
    },
    "language_info": {
      "name": "python"
    }
  },
  "cells": [
    {
      "cell_type": "code",
      "source": [
        "!pip install --upgrade pandas-datareader"
      ],
      "metadata": {
        "colab": {
          "base_uri": "https://localhost:8080/"
        },
        "id": "f0ws5fwjNp9B",
        "outputId": "2b12b18c-4848-4be3-82ed-536a2774df06"
      },
      "execution_count": 1,
      "outputs": [
        {
          "output_type": "stream",
          "name": "stdout",
          "text": [
            "Looking in indexes: https://pypi.org/simple, https://us-python.pkg.dev/colab-wheels/public/simple/\n",
            "Requirement already satisfied: pandas-datareader in /usr/local/lib/python3.7/dist-packages (0.10.0)\n",
            "Requirement already satisfied: pandas>=0.23 in /usr/local/lib/python3.7/dist-packages (from pandas-datareader) (1.3.5)\n",
            "Requirement already satisfied: requests>=2.19.0 in /usr/local/lib/python3.7/dist-packages (from pandas-datareader) (2.23.0)\n",
            "Requirement already satisfied: lxml in /usr/local/lib/python3.7/dist-packages (from pandas-datareader) (4.9.1)\n",
            "Requirement already satisfied: pytz>=2017.3 in /usr/local/lib/python3.7/dist-packages (from pandas>=0.23->pandas-datareader) (2022.1)\n",
            "Requirement already satisfied: python-dateutil>=2.7.3 in /usr/local/lib/python3.7/dist-packages (from pandas>=0.23->pandas-datareader) (2.8.2)\n",
            "Requirement already satisfied: numpy>=1.17.3 in /usr/local/lib/python3.7/dist-packages (from pandas>=0.23->pandas-datareader) (1.21.6)\n",
            "Requirement already satisfied: six>=1.5 in /usr/local/lib/python3.7/dist-packages (from python-dateutil>=2.7.3->pandas>=0.23->pandas-datareader) (1.15.0)\n",
            "Requirement already satisfied: certifi>=2017.4.17 in /usr/local/lib/python3.7/dist-packages (from requests>=2.19.0->pandas-datareader) (2022.6.15)\n",
            "Requirement already satisfied: chardet<4,>=3.0.2 in /usr/local/lib/python3.7/dist-packages (from requests>=2.19.0->pandas-datareader) (3.0.4)\n",
            "Requirement already satisfied: idna<3,>=2.5 in /usr/local/lib/python3.7/dist-packages (from requests>=2.19.0->pandas-datareader) (2.10)\n",
            "Requirement already satisfied: urllib3!=1.25.0,!=1.25.1,<1.26,>=1.21.1 in /usr/local/lib/python3.7/dist-packages (from requests>=2.19.0->pandas-datareader) (1.24.3)\n"
          ]
        }
      ]
    },
    {
      "cell_type": "code",
      "execution_count": 2,
      "metadata": {
        "id": "pOwlwqfBMMzr"
      },
      "outputs": [],
      "source": [
        "from cProfile import label\n",
        "import numpy as np\n",
        "import pandas as pd\n",
        "import pandas_datareader as pdr\n",
        "from matplotlib import pyplot\n",
        "from matplotlib.pyplot import*"
      ]
    },
    {
      "cell_type": "code",
      "source": [
        "print(\"*****- Daily prices for Bitcoin from 2017 -*****\")\n",
        "BTC = pdr.get_data_yahoo('BTC-USD', start=\"01/01/2017\", interval=\"d\")\n",
        "BTC\n"
      ],
      "metadata": {
        "colab": {
          "base_uri": "https://localhost:8080/",
          "height": 473
        },
        "id": "1M6EbUKAMvzO",
        "outputId": "8ce6214d-80e9-48a5-fa23-81303c5aa111"
      },
      "execution_count": 3,
      "outputs": [
        {
          "output_type": "stream",
          "name": "stdout",
          "text": [
            "*****- Daily prices for Bitcoin from 2017 -*****\n"
          ]
        },
        {
          "output_type": "execute_result",
          "data": {
            "text/plain": [
              "                    High           Low          Open         Close  \\\n",
              "Date                                                                 \n",
              "2017-01-01   1003.080017    958.698975    963.658020    998.325012   \n",
              "2017-01-02   1031.390015    996.702026    998.617004   1021.750000   \n",
              "2017-01-03   1044.079956   1021.599976   1021.599976   1043.839966   \n",
              "2017-01-04   1159.420044   1044.400024   1044.400024   1154.729980   \n",
              "2017-01-05   1191.099976    910.416992   1156.729980   1013.380005   \n",
              "...                  ...           ...           ...           ...   \n",
              "2022-08-09  23898.615234  22982.000000  23811.484375  23164.318359   \n",
              "2022-08-10  24127.414062  22771.519531  23162.898438  23947.642578   \n",
              "2022-08-11  24822.628906  23900.996094  23948.345703  23957.529297   \n",
              "2022-08-12  24412.566406  23657.265625  23957.203125  24402.818359   \n",
              "2022-08-13  24673.767578  24350.863281  24384.033203  24659.173828   \n",
              "\n",
              "                 Volume     Adj Close  \n",
              "Date                                   \n",
              "2017-01-01    147775008    998.325012  \n",
              "2017-01-02    222184992   1021.750000  \n",
              "2017-01-03    185168000   1043.839966  \n",
              "2017-01-04    344945984   1154.729980  \n",
              "2017-01-05    510199008   1013.380005  \n",
              "...                 ...           ...  \n",
              "2022-08-09  23555719219  23164.318359  \n",
              "2022-08-10  32837431722  23947.642578  \n",
              "2022-08-11  37127036580  23957.529297  \n",
              "2022-08-12  27265804688  24402.818359  \n",
              "2022-08-13  27409885184  24659.173828  \n",
              "\n",
              "[2051 rows x 6 columns]"
            ],
            "text/html": [
              "\n",
              "  <div id=\"df-1e39d6d0-626f-4704-8ee1-6a7048d6a8a4\">\n",
              "    <div class=\"colab-df-container\">\n",
              "      <div>\n",
              "<style scoped>\n",
              "    .dataframe tbody tr th:only-of-type {\n",
              "        vertical-align: middle;\n",
              "    }\n",
              "\n",
              "    .dataframe tbody tr th {\n",
              "        vertical-align: top;\n",
              "    }\n",
              "\n",
              "    .dataframe thead th {\n",
              "        text-align: right;\n",
              "    }\n",
              "</style>\n",
              "<table border=\"1\" class=\"dataframe\">\n",
              "  <thead>\n",
              "    <tr style=\"text-align: right;\">\n",
              "      <th></th>\n",
              "      <th>High</th>\n",
              "      <th>Low</th>\n",
              "      <th>Open</th>\n",
              "      <th>Close</th>\n",
              "      <th>Volume</th>\n",
              "      <th>Adj Close</th>\n",
              "    </tr>\n",
              "    <tr>\n",
              "      <th>Date</th>\n",
              "      <th></th>\n",
              "      <th></th>\n",
              "      <th></th>\n",
              "      <th></th>\n",
              "      <th></th>\n",
              "      <th></th>\n",
              "    </tr>\n",
              "  </thead>\n",
              "  <tbody>\n",
              "    <tr>\n",
              "      <th>2017-01-01</th>\n",
              "      <td>1003.080017</td>\n",
              "      <td>958.698975</td>\n",
              "      <td>963.658020</td>\n",
              "      <td>998.325012</td>\n",
              "      <td>147775008</td>\n",
              "      <td>998.325012</td>\n",
              "    </tr>\n",
              "    <tr>\n",
              "      <th>2017-01-02</th>\n",
              "      <td>1031.390015</td>\n",
              "      <td>996.702026</td>\n",
              "      <td>998.617004</td>\n",
              "      <td>1021.750000</td>\n",
              "      <td>222184992</td>\n",
              "      <td>1021.750000</td>\n",
              "    </tr>\n",
              "    <tr>\n",
              "      <th>2017-01-03</th>\n",
              "      <td>1044.079956</td>\n",
              "      <td>1021.599976</td>\n",
              "      <td>1021.599976</td>\n",
              "      <td>1043.839966</td>\n",
              "      <td>185168000</td>\n",
              "      <td>1043.839966</td>\n",
              "    </tr>\n",
              "    <tr>\n",
              "      <th>2017-01-04</th>\n",
              "      <td>1159.420044</td>\n",
              "      <td>1044.400024</td>\n",
              "      <td>1044.400024</td>\n",
              "      <td>1154.729980</td>\n",
              "      <td>344945984</td>\n",
              "      <td>1154.729980</td>\n",
              "    </tr>\n",
              "    <tr>\n",
              "      <th>2017-01-05</th>\n",
              "      <td>1191.099976</td>\n",
              "      <td>910.416992</td>\n",
              "      <td>1156.729980</td>\n",
              "      <td>1013.380005</td>\n",
              "      <td>510199008</td>\n",
              "      <td>1013.380005</td>\n",
              "    </tr>\n",
              "    <tr>\n",
              "      <th>...</th>\n",
              "      <td>...</td>\n",
              "      <td>...</td>\n",
              "      <td>...</td>\n",
              "      <td>...</td>\n",
              "      <td>...</td>\n",
              "      <td>...</td>\n",
              "    </tr>\n",
              "    <tr>\n",
              "      <th>2022-08-09</th>\n",
              "      <td>23898.615234</td>\n",
              "      <td>22982.000000</td>\n",
              "      <td>23811.484375</td>\n",
              "      <td>23164.318359</td>\n",
              "      <td>23555719219</td>\n",
              "      <td>23164.318359</td>\n",
              "    </tr>\n",
              "    <tr>\n",
              "      <th>2022-08-10</th>\n",
              "      <td>24127.414062</td>\n",
              "      <td>22771.519531</td>\n",
              "      <td>23162.898438</td>\n",
              "      <td>23947.642578</td>\n",
              "      <td>32837431722</td>\n",
              "      <td>23947.642578</td>\n",
              "    </tr>\n",
              "    <tr>\n",
              "      <th>2022-08-11</th>\n",
              "      <td>24822.628906</td>\n",
              "      <td>23900.996094</td>\n",
              "      <td>23948.345703</td>\n",
              "      <td>23957.529297</td>\n",
              "      <td>37127036580</td>\n",
              "      <td>23957.529297</td>\n",
              "    </tr>\n",
              "    <tr>\n",
              "      <th>2022-08-12</th>\n",
              "      <td>24412.566406</td>\n",
              "      <td>23657.265625</td>\n",
              "      <td>23957.203125</td>\n",
              "      <td>24402.818359</td>\n",
              "      <td>27265804688</td>\n",
              "      <td>24402.818359</td>\n",
              "    </tr>\n",
              "    <tr>\n",
              "      <th>2022-08-13</th>\n",
              "      <td>24673.767578</td>\n",
              "      <td>24350.863281</td>\n",
              "      <td>24384.033203</td>\n",
              "      <td>24659.173828</td>\n",
              "      <td>27409885184</td>\n",
              "      <td>24659.173828</td>\n",
              "    </tr>\n",
              "  </tbody>\n",
              "</table>\n",
              "<p>2051 rows × 6 columns</p>\n",
              "</div>\n",
              "      <button class=\"colab-df-convert\" onclick=\"convertToInteractive('df-1e39d6d0-626f-4704-8ee1-6a7048d6a8a4')\"\n",
              "              title=\"Convert this dataframe to an interactive table.\"\n",
              "              style=\"display:none;\">\n",
              "        \n",
              "  <svg xmlns=\"http://www.w3.org/2000/svg\" height=\"24px\"viewBox=\"0 0 24 24\"\n",
              "       width=\"24px\">\n",
              "    <path d=\"M0 0h24v24H0V0z\" fill=\"none\"/>\n",
              "    <path d=\"M18.56 5.44l.94 2.06.94-2.06 2.06-.94-2.06-.94-.94-2.06-.94 2.06-2.06.94zm-11 1L8.5 8.5l.94-2.06 2.06-.94-2.06-.94L8.5 2.5l-.94 2.06-2.06.94zm10 10l.94 2.06.94-2.06 2.06-.94-2.06-.94-.94-2.06-.94 2.06-2.06.94z\"/><path d=\"M17.41 7.96l-1.37-1.37c-.4-.4-.92-.59-1.43-.59-.52 0-1.04.2-1.43.59L10.3 9.45l-7.72 7.72c-.78.78-.78 2.05 0 2.83L4 21.41c.39.39.9.59 1.41.59.51 0 1.02-.2 1.41-.59l7.78-7.78 2.81-2.81c.8-.78.8-2.07 0-2.86zM5.41 20L4 18.59l7.72-7.72 1.47 1.35L5.41 20z\"/>\n",
              "  </svg>\n",
              "      </button>\n",
              "      \n",
              "  <style>\n",
              "    .colab-df-container {\n",
              "      display:flex;\n",
              "      flex-wrap:wrap;\n",
              "      gap: 12px;\n",
              "    }\n",
              "\n",
              "    .colab-df-convert {\n",
              "      background-color: #E8F0FE;\n",
              "      border: none;\n",
              "      border-radius: 50%;\n",
              "      cursor: pointer;\n",
              "      display: none;\n",
              "      fill: #1967D2;\n",
              "      height: 32px;\n",
              "      padding: 0 0 0 0;\n",
              "      width: 32px;\n",
              "    }\n",
              "\n",
              "    .colab-df-convert:hover {\n",
              "      background-color: #E2EBFA;\n",
              "      box-shadow: 0px 1px 2px rgba(60, 64, 67, 0.3), 0px 1px 3px 1px rgba(60, 64, 67, 0.15);\n",
              "      fill: #174EA6;\n",
              "    }\n",
              "\n",
              "    [theme=dark] .colab-df-convert {\n",
              "      background-color: #3B4455;\n",
              "      fill: #D2E3FC;\n",
              "    }\n",
              "\n",
              "    [theme=dark] .colab-df-convert:hover {\n",
              "      background-color: #434B5C;\n",
              "      box-shadow: 0px 1px 3px 1px rgba(0, 0, 0, 0.15);\n",
              "      filter: drop-shadow(0px 1px 2px rgba(0, 0, 0, 0.3));\n",
              "      fill: #FFFFFF;\n",
              "    }\n",
              "  </style>\n",
              "\n",
              "      <script>\n",
              "        const buttonEl =\n",
              "          document.querySelector('#df-1e39d6d0-626f-4704-8ee1-6a7048d6a8a4 button.colab-df-convert');\n",
              "        buttonEl.style.display =\n",
              "          google.colab.kernel.accessAllowed ? 'block' : 'none';\n",
              "\n",
              "        async function convertToInteractive(key) {\n",
              "          const element = document.querySelector('#df-1e39d6d0-626f-4704-8ee1-6a7048d6a8a4');\n",
              "          const dataTable =\n",
              "            await google.colab.kernel.invokeFunction('convertToInteractive',\n",
              "                                                     [key], {});\n",
              "          if (!dataTable) return;\n",
              "\n",
              "          const docLinkHtml = 'Like what you see? Visit the ' +\n",
              "            '<a target=\"_blank\" href=https://colab.research.google.com/notebooks/data_table.ipynb>data table notebook</a>'\n",
              "            + ' to learn more about interactive tables.';\n",
              "          element.innerHTML = '';\n",
              "          dataTable['output_type'] = 'display_data';\n",
              "          await google.colab.output.renderOutput(dataTable, element);\n",
              "          const docLink = document.createElement('div');\n",
              "          docLink.innerHTML = docLinkHtml;\n",
              "          element.appendChild(docLink);\n",
              "        }\n",
              "      </script>\n",
              "    </div>\n",
              "  </div>\n",
              "  "
            ]
          },
          "metadata": {},
          "execution_count": 3
        }
      ]
    },
    {
      "cell_type": "code",
      "source": [
        "print(\"*****- Last quotations -***** \")\n",
        "print(BTC.tail())"
      ],
      "metadata": {
        "colab": {
          "base_uri": "https://localhost:8080/"
        },
        "id": "AJ6fdf6CPCXA",
        "outputId": "ddb618f5-1a30-47c6-c6f1-54dbf704d8fe"
      },
      "execution_count": 4,
      "outputs": [
        {
          "output_type": "stream",
          "name": "stdout",
          "text": [
            "*****- Last quotations -***** \n",
            "                    High           Low          Open         Close  \\\n",
            "Date                                                                 \n",
            "2022-08-09  23898.615234  22982.000000  23811.484375  23164.318359   \n",
            "2022-08-10  24127.414062  22771.519531  23162.898438  23947.642578   \n",
            "2022-08-11  24822.628906  23900.996094  23948.345703  23957.529297   \n",
            "2022-08-12  24412.566406  23657.265625  23957.203125  24402.818359   \n",
            "2022-08-13  24673.767578  24350.863281  24384.033203  24659.173828   \n",
            "\n",
            "                 Volume     Adj Close  \n",
            "Date                                   \n",
            "2022-08-09  23555719219  23164.318359  \n",
            "2022-08-10  32837431722  23947.642578  \n",
            "2022-08-11  37127036580  23957.529297  \n",
            "2022-08-12  27265804688  24402.818359  \n",
            "2022-08-13  27409885184  24659.173828  \n"
          ]
        }
      ]
    },
    {
      "cell_type": "code",
      "source": [
        "print('*****- Bitcoin closing prices -*****')\n",
        "plot(BTC[\"Close\"])\n",
        "show()"
      ],
      "metadata": {
        "colab": {
          "base_uri": "https://localhost:8080/",
          "height": 285
        },
        "id": "2qGZ1o5jPHsL",
        "outputId": "1b165035-68d9-48c4-ea75-57ba87ff8fc2"
      },
      "execution_count": 5,
      "outputs": [
        {
          "output_type": "stream",
          "name": "stdout",
          "text": [
            "*****- Bitcoin closing prices -*****\n"
          ]
        },
        {
          "output_type": "display_data",
          "data": {
            "text/plain": [
              "<Figure size 432x288 with 1 Axes>"
            ],
            "image/png": "[encoded data removed]"
          },
          "metadata": {
            "needs_background": "light"
          }
        }
      ]
    },
    {
      "cell_type": "code",
      "source": [
        "print('*****- Data types of each variable -*****')\n",
        "BTC.info()"
      ],
      "metadata": {
        "colab": {
          "base_uri": "https://localhost:8080/"
        },
        "id": "FF6fe7ygPKNt",
        "outputId": "909d4aee-da6d-46cb-eaf6-c714e6b74bf3"
      },
      "execution_count": 6,
      "outputs": [
        {
          "output_type": "stream",
          "name": "stdout",
          "text": [
            "*****- Data types of each variable -*****\n",
            "<class 'pandas.core.frame.DataFrame'>\n",
            "DatetimeIndex: 2051 entries, 2017-01-01 to 2022-08-13\n",
            "Data columns (total 6 columns):\n",
            " #   Column     Non-Null Count  Dtype  \n",
            "---  ------     --------------  -----  \n",
            " 0   High       2051 non-null   float64\n",
            " 1   Low        2051 non-null   float64\n",
            " 2   Open       2051 non-null   float64\n",
            " 3   Close      2051 non-null   float64\n",
            " 4   Volume     2051 non-null   int64  \n",
            " 5   Adj Close  2051 non-null   float64\n",
            "dtypes: float64(5), int64(1)\n",
            "memory usage: 112.2 KB\n"
          ]
        }
      ]
    },
    {
      "cell_type": "code",
      "source": [
        "print('*****- Simple returns of Bitcoin (R) -*****')\n",
        "# .shift is used to get the previous value of a variable\n",
        "BTC[\"R\"] = (BTC[\"Close\"] / BTC[\"Close\"].shift(1)) - 1\n",
        "print(BTC[\"R\"])"
      ],
      "metadata": {
        "colab": {
          "base_uri": "https://localhost:8080/"
        },
        "id": "JWLbg4HFPS08",
        "outputId": "1e053401-3558-469c-b6c8-c8770b43f62f"
      },
      "execution_count": 7,
      "outputs": [
        {
          "output_type": "stream",
          "name": "stdout",
          "text": [
            "*****- Simple returns of Bitcoin (R) -*****\n",
            "Date\n",
            "2017-01-01         NaN\n",
            "2017-01-02    0.023464\n",
            "2017-01-03    0.021620\n",
            "2017-01-04    0.106233\n",
            "2017-01-05   -0.122410\n",
            "                ...   \n",
            "2022-08-09   -0.027097\n",
            "2022-08-10    0.033816\n",
            "2022-08-11    0.000413\n",
            "2022-08-12    0.018587\n",
            "2022-08-13    0.010505\n",
            "Name: R, Length: 2051, dtype: float64\n"
          ]
        }
      ]
    },
    {
      "cell_type": "code",
      "source": [
        "print('*****- Continously Compounded Returns (r) -*****')\n",
        "BTC[\"r\"] = np.log(BTC['Adj Close']) - np.log(BTC['Adj Close'].shift(1))\n",
        "BTCR = BTC[['R', 'r']].copy()"
      ],
      "metadata": {
        "colab": {
          "base_uri": "https://localhost:8080/"
        },
        "id": "XsxUcQrkPUJ-",
        "outputId": "9910f6d7-d874-4760-e9b0-293d6283029b"
      },
      "execution_count": 8,
      "outputs": [
        {
          "output_type": "stream",
          "name": "stdout",
          "text": [
            "*****- Continously Compounded Returns (r) -*****\n"
          ]
        }
      ]
    },
    {
      "cell_type": "code",
      "source": [
        "# drop the first row as it doesn't count\n",
        "BTC = BTC.dropna()"
      ],
      "metadata": {
        "id": "v-czHwJSPYZr"
      },
      "execution_count": 9,
      "outputs": []
    },
    {
      "cell_type": "code",
      "source": [
        "print('*****- Description of the function -*****')\n",
        "sumret = BTC[\"R\"].describe()\n",
        "print(sumret)\n"
      ],
      "metadata": {
        "colab": {
          "base_uri": "https://localhost:8080/"
        },
        "id": "4C3jppDfPa2g",
        "outputId": "78afe054-b291-4e0a-b7ed-48ce2f1511e1"
      },
      "execution_count": 10,
      "outputs": [
        {
          "output_type": "stream",
          "name": "stdout",
          "text": [
            "*****- Description of the function -*****\n",
            "count    2050.000000\n",
            "mean        0.002427\n",
            "std         0.041351\n",
            "min        -0.371695\n",
            "25%        -0.015875\n",
            "50%         0.002220\n",
            "75%         0.020911\n",
            "max         0.252472\n",
            "Name: R, dtype: float64\n"
          ]
        }
      ]
    },
    {
      "cell_type": "code",
      "source": [
        "print('*****- Worse Bitcoin Days -*****')\n",
        "print(BTC[BTC[\"R\"] < -0.15])"
      ],
      "metadata": {
        "colab": {
          "base_uri": "https://localhost:8080/"
        },
        "id": "twpNQLwwPdXu",
        "outputId": "262c1bd6-0885-43ff-d7e6-a68312de9b90"
      },
      "execution_count": 11,
      "outputs": [
        {
          "output_type": "stream",
          "name": "stdout",
          "text": [
            "*****- Worse Bitcoin Days -*****\n",
            "                    High           Low          Open         Close  \\\n",
            "Date                                                                 \n",
            "2017-09-14   3920.600098   3153.860107   3875.370117   3154.949951   \n",
            "2018-01-16  13843.099609  10194.900391  13836.099609  11490.500000   \n",
            "2018-02-05   8364.839844   6756.680176   8270.540039   6955.270020   \n",
            "2020-03-12   7929.116211   4860.354004   7913.616211   4970.788086   \n",
            "2022-06-13  26795.589844  22141.257812  26737.578125  22487.388672   \n",
            "\n",
            "                 Volume     Adj Close         R         r  \n",
            "Date                                                       \n",
            "2017-09-14   2716310016   3154.949951 -0.187411 -0.207530  \n",
            "2018-01-16  18853799936  11490.500000 -0.168548 -0.184582  \n",
            "2018-02-05   9285289984   6955.270020 -0.159688 -0.173982  \n",
            "2020-03-12  53980357243   4970.788086 -0.371695 -0.464730  \n",
            "2022-06-13  68204556440  22487.388672 -0.159747 -0.174053  \n"
          ]
        }
      ]
    },
    {
      "cell_type": "code",
      "source": [
        "print('*****- Best Bitcoin Days -*****')\n",
        "print(BTC[BTC[\"R\"] > 0.15].sort_values(by=['R'], ascending=False))"
      ],
      "metadata": {
        "colab": {
          "base_uri": "https://localhost:8080/"
        },
        "id": "_7zqZmETPiB4",
        "outputId": "7d5672f1-0312-4b36-a3b6-271433504a0c"
      },
      "execution_count": 12,
      "outputs": [
        {
          "output_type": "stream",
          "name": "stdout",
          "text": [
            "*****- Best Bitcoin Days -*****\n",
            "                    High           Low          Open         Close  \\\n",
            "Date                                                                 \n",
            "2017-12-07  17899.699219  14057.299805  14266.099609  17899.699219   \n",
            "2017-07-20   2900.699951   2269.889893   2269.889893   2817.600098   \n",
            "2017-12-06  14369.099609  11923.400391  11923.400391  14291.500000   \n",
            "2021-02-08  46203.929688  38076.324219  38886.828125  46196.464844   \n",
            "2020-03-19   6329.735840   5236.968750   5245.416504   6191.192871   \n",
            "2019-04-02   4905.954590   4155.316895   4156.919434   4879.877930   \n",
            "2019-10-25   8691.540039   7479.984375   7490.703125   8660.700195   \n",
            "2017-07-17   2230.489990   1932.619995   1932.619995   2228.409912   \n",
            "2017-09-15   3733.449951   2946.620117   3166.300049   3637.520020   \n",
            "\n",
            "                  Volume     Adj Close         R         r  \n",
            "Date                                                        \n",
            "2017-12-07   17950699520  17899.699219  0.252472  0.225119  \n",
            "2017-07-20    2249260032   2817.600098  0.239361  0.214596  \n",
            "2017-12-06   12656300032  14291.500000  0.199283  0.181724  \n",
            "2021-02-08  101467222687  46196.464844  0.187465  0.171821  \n",
            "2020-03-19   51000731797   6191.192871  0.181878  0.167104  \n",
            "2019-04-02   21315047816   4879.877930  0.173560  0.160042  \n",
            "2019-10-25   28705065488   8660.700195  0.155763  0.144761  \n",
            "2017-07-17    1201760000   2228.409912  0.154724  0.143862  \n",
            "2017-09-15    4148069888   3637.520020  0.152956  0.142330  \n"
          ]
        }
      ]
    },
    {
      "cell_type": "code",
      "source": [
        "print('*****- Main descriptive statistics -*****')\n",
        "print(\"The daily average return of Bitcoin is \", BTC[\"r\"].mean())\n",
        "print(\"The daily variance of Bitcoin is \", BTC[\"r\"].var())\n",
        "print(\"The daily standard deviation (volatility) of Bitcoin return is \",\n",
        "      BTC[\"r\"].std())\n",
        "print(\"The daily median return of Bitcoin is \", BTC[\"r\"].median())"
      ],
      "metadata": {
        "colab": {
          "base_uri": "https://localhost:8080/"
        },
        "id": "vvG9YVCAPjQU",
        "outputId": "0e50afeb-e30a-4f37-a0f0-41c7453a8111"
      },
      "execution_count": 13,
      "outputs": [
        {
          "output_type": "stream",
          "name": "stdout",
          "text": [
            "*****- Main descriptive statistics -*****\n",
            "The daily average return of Bitcoin is  0.0015643050667411148\n",
            "The daily variance of Bitcoin is  0.0017357310742239069\n",
            "The daily standard deviation (volatility) of Bitcoin return is  0.04166210597442125\n",
            "The daily median return of Bitcoin is  0.0022173493980961467\n"
          ]
        }
      ]
    },
    {
      "cell_type": "code",
      "source": [
        "print('*****- Histogram for daily Bitcoin CCReturns -*****')\n",
        "r_bitcoin = pd.DataFrame(BTC[[\"r\"]])\n",
        "hist = r_bitcoin.plot.hist(\n",
        "    bins=12, alpha=0.5, title=\"Histogram for daily Bitcoin CCReturns\")"
      ],
      "metadata": {
        "colab": {
          "base_uri": "https://localhost:8080/",
          "height": 299
        },
        "id": "k0r2_ZARPnPJ",
        "outputId": "a12b894a-3110-4995-faf2-77108d23cf46"
      },
      "execution_count": 14,
      "outputs": [
        {
          "output_type": "stream",
          "name": "stdout",
          "text": [
            "*****- Histogram for daily Bitcoin CCReturns -*****\n"
          ]
        },
        {
          "output_type": "display_data",
          "data": {
            "text/plain": [
              "<Figure size 432x288 with 1 Axes>"
            ],
            "image/png": "[encoded data removed]"
          },
          "metadata": {
            "needs_background": "light"
          }
        }
      ]
    },
    {
      "cell_type": "markdown",
      "source": [
        "CHALLENGE: THE HISTOGRAM SHOWS THE SIMPLE RETURNS OF BITCOIN ALONG TIME, \n",
        "HAVING THE MOST FREQUENCY AROUND -0.05 AND 0.05. THESE VALUES MAKE SENSE \n",
        "BECAUSE AS IT WAS SHOWN IN THE PREVIOUS CALCULATION THE STANDAR DEVIATION WAS\n",
        "0.041369 AND ALSO, AS IT WAS PRACTICED WITH TE MAXIMUM AND THE MINIMUM\n",
        "THERE ARE FEWER DAYS WITH THESE EXTREAME RATE CHANGES, THERFORE, MOST OF\n",
        "THE DAYS THERE IS A RETUN BETWEEN -0.05 AND 0.05 "
      ],
      "metadata": {
        "id": "LYw5LVOvPrtV"
      }
    },
    {
      "cell_type": "code",
      "source": [
        "r_bitcoin = pd.DataFrame(BTC[[\"r\"]])\n",
        "hist = r_bitcoin.plot.hist(\n",
        "    bins=12, alpha=0.5, title=\"Histogram of predictions and real data\")\n",
        "x = np.random.normal(loc=BTC[\"r\"].mean(), scale=BTC[\"r\"].std(), size=2050)\n",
        "pyplot.hist(x, bins=12, alpha=0.5,)\n",
        "#pyplot.hist(r_bitcoin, bins=12, alpha=0.5, label=\"real\")\n",
        "show()"
      ],
      "metadata": {
        "colab": {
          "base_uri": "https://localhost:8080/",
          "height": 281
        },
        "id": "hq7Rh4m2QCVQ",
        "outputId": "894db1f0-a359-480a-a6d9-4cd7838416cb"
      },
      "execution_count": 25,
      "outputs": [
        {
          "output_type": "display_data",
          "data": {
            "text/plain": [
              "<Figure size 432x288 with 1 Axes>"
            ],
            "image/png": "[encoded data removed]"
          },
          "metadata": {
            "needs_background": "light"
          }
        }
      ]
    },
    {
      "cell_type": "markdown",
      "source": [
        "DO YOU SEE A DIFFERENCE BEWEEN THE REAL VS THE SIMULATED RETURNS? \n",
        "\n",
        "THERE IS A BIG DIFFERENCE BETWEEN THE REAL DATA (BLUE CHART) AND THE PREDICTIONS (ORANGE CHART). MAINLY WE CAN OBSERVE THAT THE REAL DATA GIVE US MORE FREQUENCY. ALSO, THE REAL CHART SEEMS TO DISTRIBUTE THE DATA IN FEWER NUMBERS, WHILE THE PREDICTED CHART HAS MORE BARS (WHICH MEANS IT IS DISTRIBUTED IN MORE NUMBERS)"
      ],
      "metadata": {
        "id": "rKgxNDbNSvjR"
      }
    },
    {
      "cell_type": "markdown",
      "source": [
        "**Notes**"
      ],
      "metadata": {
        "id": "mVF_Z0HoT99P"
      }
    },
    {
      "cell_type": "markdown",
      "source": [
        "\n",
        "\n",
        "1) Descriptive Statistics (history data)\n",
        "Descriptive Statcis son usadas para resumir información que involucra raw data. The most important descriptive statistics are:\n",
        "a. Measures of central tendency\n",
        "Measures of dispersion"
      ],
      "metadata": {
        "id": "cbcd6oUUMPYC"
      }
    },
    {
      "cell_type": "markdown",
      "source": [
        "El propósito es resumir la raw data con algo que representa a todas las observaciones\n",
        "\n",
        "Central tendency measures\n",
        "\n",
        "Arithmetic mean - Promedio de la suma de todos los datos, divididos entre el número de datos. Sin embargo no es la mejor forma de representar los datos,especialmente si es información sesgada. Es como la paradoja de que si tu tienes 2 coches y y tu amigo ninguno, el promedio es que cada quien tiene 1 y definitivamente no es una buena forma de representarlo.\n",
        "\n",
        "Mediana - La mediana es realmente el punto medio más representativo cuando existe información sesgada, o bueno, realmente es la mejor forma de representar datos en general. La mediana también es conocido como el 50 percentil, que significa que es el MIDDLE POINT AFTER SORTING\n",
        "\n",
        "Moda - Es el valor que más se repite en los datos obtenidos. Mode can be calculated only for discrete variables, not for continuous variables\n",
        "\n",
        "NOTA: \n",
        "The arithmetic mean is very sensible to extreme values, while the median is not.\n",
        "\n",
        "Dispersion Measures\n",
        "\n",
        "\ta. Varianza y desviación estándar\n",
        "\tAmbos son utilizados para medir cuánto en promedio, los valores individuales difieren del promedio\n",
        "\t\n",
        "\tVarianza\n",
        "\tSi se divide entre n-1 se dice que se está calculando la varianza muestra (sample variance) \n",
        "\tSi se divide entre n se dice que se está calculando la population variance\n",
        "\tAmbas fórmulas proporcionan resultados parecidos, pero el sample variance será un poco mayor, por lo tanto es un valor más conservativo.\n",
        "\tb. Percentiles\n",
        "\tc. Value at risk\n"
      ],
      "metadata": {
        "id": "_UyEucT-Mou8"
      }
    },
    {
      "cell_type": "markdown",
      "source": [
        "La invención del histograma\n",
        "\n",
        "\n",
        "El histograma es un breakthrough y representa una base importante para toda la estadística. Fue inventado para ilustrar cómo los valores de una variable random se distribuyen en un rango de valores. The histogram is a frequency plot. And was first invented to decipher encrypted messages.\n",
        "\n",
        "The most important foundations/pilars of both, Statistics and the theory of Probability are:\n",
        "\t• The invention of the Histogram\n",
        "\t• The discovery of the Central Limit Theorem\n",
        "\n",
        "\n",
        "Probability Density Function\n",
        "\n",
        "The Probability Density Function (PDF) of a discrete random variable X is the probability of X to be equal to a specific value xi:\n"
      ],
      "metadata": {
        "id": "FEjZyFQgU8ob"
      }
    },
    {
      "cell_type": "markdown",
      "source": [
        "The CDF of a discrete random variable is defined as the sum of the probabilities of the independent outcomes. However, when using a continuous random variable the CDF will be defined as the integration of the function f(x) (f(x) is the PDF).\n",
        "\n",
        "\n",
        "\n",
        "The Normal Distribution Function\n",
        "\n",
        "In statistics, the most popular continuous PDF is the well-known “bell-shaped” normal distribution, which PDF is defined as:\n"
      ],
      "metadata": {
        "id": "m9f54bjbVO1l"
      }
    }
  ]
}