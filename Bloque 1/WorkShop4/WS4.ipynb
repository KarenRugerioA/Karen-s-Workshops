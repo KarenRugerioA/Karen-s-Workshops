{
  "cells": [
    {
      "cell_type": "markdown",
      "metadata": {
        "id": "9Bh5MiM8hRRW"
      },
      "source": [
        "3.4 CHALLENGE: Run and interpret a market regression model"
      ]
    },
    {
      "cell_type": "code",
      "execution_count": 7,
      "metadata": {
        "colab": {
          "base_uri": "https://localhost:8080/"
        },
        "id": "Yvd_2Vylct1P",
        "outputId": "e5f7fd4d-49ac-488a-fe88-9db4ed7cf3e6"
      },
      "outputs": [
        {
          "name": "stdout",
          "output_type": "stream",
          "text": [
            "Requirement already satisfied: pandas in /opt/anaconda3/lib/python3.9/site-packages (1.4.3)\n",
            "Requirement already satisfied: python-dateutil>=2.8.1 in /opt/anaconda3/lib/python3.9/site-packages (from pandas) (2.8.2)\n",
            "Requirement already satisfied: pytz>=2020.1 in /opt/anaconda3/lib/python3.9/site-packages (from pandas) (2021.3)\n",
            "Requirement already satisfied: numpy>=1.18.5 in /opt/anaconda3/lib/python3.9/site-packages (from pandas) (1.20.3)\n",
            "Requirement already satisfied: six>=1.5 in /opt/anaconda3/lib/python3.9/site-packages (from python-dateutil>=2.8.1->pandas) (1.16.0)\n",
            "Requirement already satisfied: pandas_datareader in /opt/anaconda3/lib/python3.9/site-packages (0.10.0)\n",
            "Requirement already satisfied: requests>=2.19.0 in /opt/anaconda3/lib/python3.9/site-packages (from pandas_datareader) (2.26.0)\n",
            "Requirement already satisfied: pandas>=0.23 in /opt/anaconda3/lib/python3.9/site-packages (from pandas_datareader) (1.4.3)\n",
            "Requirement already satisfied: lxml in /opt/anaconda3/lib/python3.9/site-packages (from pandas_datareader) (4.6.3)\n",
            "Requirement already satisfied: python-dateutil>=2.8.1 in /opt/anaconda3/lib/python3.9/site-packages (from pandas>=0.23->pandas_datareader) (2.8.2)\n",
            "Requirement already satisfied: numpy>=1.18.5 in /opt/anaconda3/lib/python3.9/site-packages (from pandas>=0.23->pandas_datareader) (1.20.3)\n",
            "Requirement already satisfied: pytz>=2020.1 in /opt/anaconda3/lib/python3.9/site-packages (from pandas>=0.23->pandas_datareader) (2021.3)\n",
            "Requirement already satisfied: six>=1.5 in /opt/anaconda3/lib/python3.9/site-packages (from python-dateutil>=2.8.1->pandas>=0.23->pandas_datareader) (1.16.0)\n",
            "Requirement already satisfied: idna<4,>=2.5 in /opt/anaconda3/lib/python3.9/site-packages (from requests>=2.19.0->pandas_datareader) (3.2)\n",
            "Requirement already satisfied: charset-normalizer~=2.0.0 in /opt/anaconda3/lib/python3.9/site-packages (from requests>=2.19.0->pandas_datareader) (2.0.4)\n",
            "Requirement already satisfied: urllib3<1.27,>=1.21.1 in /opt/anaconda3/lib/python3.9/site-packages (from requests>=2.19.0->pandas_datareader) (1.26.7)\n",
            "Requirement already satisfied: certifi>=2017.4.17 in /opt/anaconda3/lib/python3.9/site-packages (from requests>=2.19.0->pandas_datareader) (2021.10.8)\n",
            "Requirement already satisfied: matplotlib in /opt/anaconda3/lib/python3.9/site-packages (3.4.3)\n",
            "Requirement already satisfied: pyparsing>=2.2.1 in /opt/anaconda3/lib/python3.9/site-packages (from matplotlib) (3.0.4)\n",
            "Requirement already satisfied: pillow>=6.2.0 in /opt/anaconda3/lib/python3.9/site-packages (from matplotlib) (8.4.0)\n",
            "Requirement already satisfied: numpy>=1.16 in /opt/anaconda3/lib/python3.9/site-packages (from matplotlib) (1.20.3)\n",
            "Requirement already satisfied: python-dateutil>=2.7 in /opt/anaconda3/lib/python3.9/site-packages (from matplotlib) (2.8.2)\n",
            "Requirement already satisfied: cycler>=0.10 in /opt/anaconda3/lib/python3.9/site-packages (from matplotlib) (0.10.0)\n",
            "Requirement already satisfied: kiwisolver>=1.0.1 in /opt/anaconda3/lib/python3.9/site-packages (from matplotlib) (1.3.1)\n",
            "Requirement already satisfied: six in /opt/anaconda3/lib/python3.9/site-packages (from cycler>=0.10->matplotlib) (1.16.0)\n"
          ]
        }
      ],
      "source": [
        "!pip install --upgrade pandas\n",
        "!pip install --upgrade pandas_datareader\n",
        "!pip install matplotlib"
      ]
    },
    {
      "cell_type": "markdown",
      "metadata": {
        "id": "ajQATiWImN_t"
      },
      "source": [
        "Calculate CC returns of both stocks and drop NA values"
      ]
    },
    {
      "cell_type": "code",
      "execution_count": 8,
      "metadata": {
        "id": "-hxgShdRaeUg"
      },
      "outputs": [],
      "source": [
        "import pandas_datareader as pdr\n",
        "import pandas as pd\n",
        "import numpy as np\n",
        "import matplotlib\n",
        "import matplotlib.pyplot as plt\n",
        "\n",
        "# Getting price data and selecting adjusted price columns:\n",
        "sprices = pdr.get_data_yahoo(['ALFAA.MX','^MXX'],start=\"01/01/2018\", end=\"07/31/2022\",interval=\"m\")\n",
        "sprices = sprices['Adj Close']\n",
        "\n",
        "# Calculating returns:\n",
        "sr = np.log(sprices) - np.log(sprices.shift(1))\n",
        "# Deleting the first month with NAs:\n",
        "sr=sr.dropna()\n",
        "sr.columns=['ALFAA','MXX']"
      ]
    },
    {
      "cell_type": "markdown",
      "metadata": {
        "id": "KNbQsuBFmdCz"
      },
      "source": [
        "Do a scatter plot including the regression line and interpret the plot"
      ]
    },
    {
      "cell_type": "code",
      "execution_count": 9,
      "metadata": {
        "colab": {
          "base_uri": "https://localhost:8080/",
          "height": 279
        },
        "id": "_Qix6DrtdAmQ",
        "outputId": "fce1976f-612a-458d-d436-0f9bcc9d0596"
      },
      "outputs": [
        {
          "data": {
            "image/png": "[encoded data removed]",
            "text/plain": [
              "<Figure size 432x288 with 1 Axes>"
            ]
          },
          "metadata": {
            "needs_background": "light"
          },
          "output_type": "display_data"
        }
      ],
      "source": [
        "sr.plot.scatter(x='MXX', y='ALFAA',c='DarkBlue')\n",
        "plt.show()"
      ]
    },
    {
      "cell_type": "code",
      "execution_count": 10,
      "metadata": {
        "colab": {
          "base_uri": "https://localhost:8080/",
          "height": 279
        },
        "id": "nl3xgf_MdMyt",
        "outputId": "85cb77c2-4de8-4e3d-d840-e841d826fff7"
      },
      "outputs": [
        {
          "data": {
            "image/png": "[encoded data removed]",
            "text/plain": [
              "<Figure size 432x288 with 1 Axes>"
            ]
          },
          "metadata": {
            "needs_background": "light"
          },
          "output_type": "display_data"
        }
      ],
      "source": [
        "# Scatter plots can be misleading when ranges of X and Y are very different.\n",
        "# In this case, Alfa had a very bad month in the COVID crisis with more than 60% loss!! \n",
        "# Then, we can re-do the scatter plot trying to make the X and Y axis using the same range of values \n",
        "plt.clf()\n",
        "x=sr['MXX']\n",
        "y = sr['ALFAA']\n",
        "plt.scatter(x, y)\n",
        "# Now I add the regression line:\n",
        "b1,b0 = np.polyfit(x,y,1)\n",
        "yfit = b0+b1*x\n",
        "\n",
        "plt.plot(x, yfit,c=\"orange\")\n",
        "\n",
        "plt.xticks(np.arange(-0.50,0.5,0.1))\n",
        "plt.xlabel(\"Market returns\")\n",
        "plt.ylabel(\"Alfa returns\")\n",
        "\n",
        "plt.show()"
      ]
    },
    {
      "cell_type": "code",
      "execution_count": 11,
      "metadata": {
        "colab": {
          "base_uri": "https://localhost:8080/",
          "height": 335
        },
        "id": "mp0rkWnZdT9S",
        "outputId": "d3e197f8-24f2-4519-d18f-8c3e77f5f601"
      },
      "outputs": [
        {
          "name": "stderr",
          "output_type": "stream",
          "text": [
            "/opt/anaconda3/lib/python3.9/site-packages/seaborn/_decorators.py:36: FutureWarning: Pass the following variables as keyword args: x, y. From version 0.12, the only valid positional argument will be `data`, and passing other arguments without an explicit keyword will result in an error or misinterpretation.\n",
            "  warnings.warn(\n"
          ]
        },
        {
          "data": {
            "image/png": "[encoded data removed]",
            "text/plain": [
              "<Figure size 432x288 with 1 Axes>"
            ]
          },
          "metadata": {
            "needs_background": "light"
          },
          "output_type": "display_data"
        }
      ],
      "source": [
        "# Another faster way to plot a scatter and the regression line:\n",
        "# I use the seaborn library:\n",
        "import seaborn as sns\n",
        "plt.clf()\n",
        "\n",
        "sns.regplot(x, y)\n",
        "plt.xticks(np.arange(-0.50,0.5,0.1))\n",
        "plt.xlabel(\"Market returns\")\n",
        "plt.ylabel(\"Alfa returns\")\n",
        "\n",
        "plt.show()"
      ]
    },
    {
      "cell_type": "markdown",
      "metadata": {
        "id": "jQ6wFMoLm7kn"
      },
      "source": [
        "Run the market regression model (the Y = stock return, the X = market return). You can use the function OLS from the statsmodels.api library"
      ]
    },
    {
      "cell_type": "code",
      "execution_count": 6,
      "metadata": {
        "colab": {
          "base_uri": "https://localhost:8080/"
        },
        "id": "md1HkqJbdWlB",
        "outputId": "71055982-b577-4759-aa72-4b4bd64fac01"
      },
      "outputs": [
        {
          "name": "stderr",
          "output_type": "stream",
          "text": [
            "/opt/anaconda3/lib/python3.9/site-packages/statsmodels/tsa/base/tsa_model.py:7: FutureWarning: pandas.Int64Index is deprecated and will be removed from pandas in a future version. Use pandas.Index with the appropriate dtype instead.\n",
            "  from pandas import (to_datetime, Int64Index, DatetimeIndex, Period,\n",
            "/opt/anaconda3/lib/python3.9/site-packages/statsmodels/tsa/base/tsa_model.py:7: FutureWarning: pandas.Float64Index is deprecated and will be removed from pandas in a future version. Use pandas.Index with the appropriate dtype instead.\n",
            "  from pandas import (to_datetime, Int64Index, DatetimeIndex, Period,\n"
          ]
        },
        {
          "name": "stdout",
          "output_type": "stream",
          "text": [
            "                            OLS Regression Results                            \n",
            "==============================================================================\n",
            "Dep. Variable:                  ALFAA   R-squared:                       0.351\n",
            "Model:                            OLS   Adj. R-squared:                  0.339\n",
            "Method:                 Least Squares   F-statistic:                     28.66\n",
            "Date:                Mon, 29 Aug 2022   Prob (F-statistic):           1.89e-06\n",
            "Time:                        00:32:41   Log-Likelihood:                 43.918\n",
            "No. Observations:                  55   AIC:                            -83.84\n",
            "Df Residuals:                      53   BIC:                            -79.82\n",
            "Df Model:                           1                                         \n",
            "Covariance Type:            nonrobust                                         \n",
            "==============================================================================\n",
            "                 coef    std err          t      P>|t|      [0.025      0.975]\n",
            "------------------------------------------------------------------------------\n",
            "const         -0.0077      0.015     -0.513      0.610      -0.038       0.022\n",
            "MXX            1.5370      0.287      5.353      0.000       0.961       2.113\n",
            "==============================================================================\n",
            "Omnibus:                        9.500   Durbin-Watson:                   2.206\n",
            "Prob(Omnibus):                  0.009   Jarque-Bera (JB):               22.571\n",
            "Skew:                          -0.144   Prob(JB):                     1.26e-05\n",
            "Kurtosis:                       6.125   Cond. No.                         19.2\n",
            "==============================================================================\n",
            "\n",
            "Notes:\n",
            "[1] Standard Errors assume that the covariance matrix of the errors is correctly specified.\n"
          ]
        },
        {
          "name": "stderr",
          "output_type": "stream",
          "text": [
            "/opt/anaconda3/lib/python3.9/site-packages/statsmodels/tsa/tsatools.py:142: FutureWarning: In a future version of pandas all arguments of concat except for the argument 'objs' will be keyword-only.\n",
            "  x = pd.concat(x[::order], 1)\n"
          ]
        }
      ],
      "source": [
        "import statsmodels.api as sm\n",
        "X = sm.add_constant(x)\n",
        "\n",
        "mkmodel = sm.OLS(y,X).fit()\n",
        " \n",
        "print(mkmodel.summary())"
      ]
    },
    {
      "cell_type": "code",
      "execution_count": 12,
      "metadata": {
        "colab": {
          "base_uri": "https://localhost:8080/"
        },
        "id": "SI0IH1T0dagp",
        "outputId": "7bc0ced4-af6c-40ac-9d30-3f1f44c707a8"
      },
      "outputs": [
        {
          "name": "stdout",
          "output_type": "stream",
          "text": [
            "                            OLS Regression Results                            \n",
            "==============================================================================\n",
            "Dep. Variable:                  ALFAA   R-squared:                       0.351\n",
            "Model:                            OLS   Adj. R-squared:                  0.339\n",
            "Method:                 Least Squares   F-statistic:                     28.66\n",
            "Date:                Mon, 29 Aug 2022   Prob (F-statistic):           1.89e-06\n",
            "Time:                        00:32:50   Log-Likelihood:                 43.918\n",
            "No. Observations:                  55   AIC:                            -83.84\n",
            "Df Residuals:                      53   BIC:                            -79.82\n",
            "Df Model:                           1                                         \n",
            "Covariance Type:            nonrobust                                         \n",
            "==============================================================================\n",
            "                 coef    std err          t      P>|t|      [0.025      0.975]\n",
            "------------------------------------------------------------------------------\n",
            "Intercept     -0.0077      0.015     -0.513      0.610      -0.038       0.022\n",
            "MXX            1.5370      0.287      5.353      0.000       0.961       2.113\n",
            "==============================================================================\n",
            "Omnibus:                        9.500   Durbin-Watson:                   2.206\n",
            "Prob(Omnibus):                  0.009   Jarque-Bera (JB):               22.571\n",
            "Skew:                          -0.144   Prob(JB):                     1.26e-05\n",
            "Kurtosis:                       6.125   Cond. No.                         19.2\n",
            "==============================================================================\n",
            "\n",
            "Notes:\n",
            "[1] Standard Errors assume that the covariance matrix of the errors is correctly specified.\n"
          ]
        }
      ],
      "source": [
        "import statsmodels.formula.api as smf\n",
        "\n",
        "mkmodel2 = smf.ols('ALFAA ~ MXX',data=sr).fit()\n",
        " \n",
        "print(mkmodel2.summary())"
      ]
    },
    {
      "cell_type": "code",
      "execution_count": 13,
      "metadata": {
        "colab": {
          "base_uri": "https://localhost:8080/"
        },
        "id": "NkCBDXo5eWIp",
        "outputId": "d85bc7cf-d835-422c-f9d5-61c01f8896cb"
      },
      "outputs": [
        {
          "name": "stdout",
          "output_type": "stream",
          "text": [
            "                            OLS Regression Results                            \n",
            "==============================================================================\n",
            "Dep. Variable:                  ALFAA   R-squared:                       0.351\n",
            "Model:                            OLS   Adj. R-squared:                  0.339\n",
            "Method:                 Least Squares   F-statistic:                     28.66\n",
            "Date:                Mon, 29 Aug 2022   Prob (F-statistic):           1.89e-06\n",
            "Time:                        00:32:50   Log-Likelihood:                 43.918\n",
            "No. Observations:                  55   AIC:                            -83.84\n",
            "Df Residuals:                      53   BIC:                            -79.82\n",
            "Df Model:                           1                                         \n",
            "Covariance Type:            nonrobust                                         \n",
            "==============================================================================\n",
            "                 coef    std err          t      P>|t|      [0.025      0.975]\n",
            "------------------------------------------------------------------------------\n",
            "Intercept     -0.0077      0.015     -0.513      0.610      -0.038       0.022\n",
            "MXX            1.5370      0.287      5.353      0.000       0.961       2.113\n",
            "==============================================================================\n",
            "Omnibus:                        9.500   Durbin-Watson:                   2.206\n",
            "Prob(Omnibus):                  0.009   Jarque-Bera (JB):               22.571\n",
            "Skew:                          -0.144   Prob(JB):                     1.26e-05\n",
            "Kurtosis:                       6.125   Cond. No.                         19.2\n",
            "==============================================================================\n",
            "\n",
            "Notes:\n",
            "[1] Standard Errors assume that the covariance matrix of the errors is correctly specified.\n"
          ]
        }
      ],
      "source": [
        "import statsmodels.formula.api as smf\n",
        "\n",
        "mkmodel2 = smf.ols('ALFAA ~ MXX',data=sr).fit()\n",
        " \n",
        "print(mkmodel2.summary())"
      ]
    },
    {
      "cell_type": "code",
      "execution_count": 14,
      "metadata": {
        "colab": {
          "base_uri": "https://localhost:8080/"
        },
        "id": "DrjSFgT8eZw6",
        "outputId": "cc9a9cc2-ad25-4056-d10d-dc0795821c59"
      },
      "outputs": [
        {
          "data": {
            "text/plain": [
              "array([-0.00767846,  1.53696619])"
            ]
          },
          "execution_count": 14,
          "metadata": {},
          "output_type": "execute_result"
        }
      ],
      "source": [
        "# Using matrix algebra to estimate the beta coefficients:\n",
        "sr['constant'] = 1\n",
        "selcols = ['constant','MXX']\n",
        "x = sr[selcols].values\n",
        "y = sr['ALFAA'].values\n",
        "\n",
        "xtx = np.matmul(x.transpose(),x)\n",
        "xty = np.matmul(x.transpose(),y)\n",
        "invtxt = np.linalg.inv(xtx)\n",
        "\n",
        "betas = np.matmul(invtxt,xty)\n",
        "betas"
      ]
    },
    {
      "cell_type": "markdown",
      "metadata": {
        "id": "pOh5gAT9nzkc"
      },
      "source": [
        "Write down the regression equation"
      ]
    },
    {
      "cell_type": "code",
      "execution_count": 15,
      "metadata": {
        "colab": {
          "base_uri": "https://localhost:8080/"
        },
        "id": "yzUHHaH2gLrd",
        "outputId": "de8dbf68-5895-4567-baad-4e44a9f5683d"
      },
      "outputs": [
        {
          "data": {
            "text/plain": [
              "Date\n",
              "2018-02-01   -0.102745\n",
              "2018-03-01   -0.050999\n",
              "2018-04-01    0.065006\n",
              "2018-05-01   -0.130174\n",
              "2018-06-01    0.092318\n",
              "2018-07-01    0.056573\n",
              "2018-08-01   -0.012449\n",
              "2018-09-01   -0.009138\n",
              "2018-10-01   -0.191251\n",
              "2018-11-01   -0.087217\n",
              "2018-12-01   -0.011202\n",
              "2019-01-01    0.076652\n",
              "2019-02-01   -0.049076\n",
              "2019-03-01    0.008573\n",
              "2019-04-01    0.038328\n",
              "2019-05-01   -0.072943\n",
              "2019-06-01    0.006981\n",
              "2019-07-01   -0.092017\n",
              "2019-08-01    0.057112\n",
              "2019-09-01    0.006193\n",
              "2019-10-01    0.003839\n",
              "2019-11-01   -0.026265\n",
              "2019-12-01    0.017915\n",
              "2020-01-01    0.012143\n",
              "2020-02-01   -0.108156\n",
              "2020-03-01   -0.283218\n",
              "2020-04-01    0.075276\n",
              "2020-05-01   -0.022519\n",
              "2020-06-01    0.058679\n",
              "2020-07-01   -0.036491\n",
              "2020-08-01   -0.015245\n",
              "2020-09-01    0.017823\n",
              "2020-10-01   -0.027258\n",
              "2020-11-01    0.179725\n",
              "2020-12-01    0.074296\n",
              "2021-01-01   -0.046027\n",
              "2021-02-01    0.048724\n",
              "2021-03-01    0.081195\n",
              "2021-04-01    0.016892\n",
              "2021-05-01    0.081787\n",
              "2021-06-01   -0.025929\n",
              "2021-07-01    0.009825\n",
              "2021-08-01    0.064239\n",
              "2021-09-01   -0.064236\n",
              "2021-10-01   -0.010055\n",
              "2021-11-01   -0.056900\n",
              "2021-12-01    0.099116\n",
              "2022-01-01   -0.064942\n",
              "2022-02-01    0.053071\n",
              "2022-03-01    0.080069\n",
              "2022-04-01   -0.153885\n",
              "2022-05-01    0.002199\n",
              "2022-06-01   -0.138994\n",
              "2022-07-01    0.012165\n",
              "2022-08-01   -0.035932\n",
              "Name: MXX, dtype: float64"
            ]
          },
          "execution_count": 15,
          "metadata": {},
          "output_type": "execute_result"
        }
      ],
      "source": [
        "equation = -0.007785460330175878 + 1.5394835507302118 * sr['MXX']\n",
        "equation"
      ]
    },
    {
      "cell_type": "code",
      "execution_count": 17,
      "metadata": {
        "colab": {
          "base_uri": "https://localhost:8080/",
          "height": 300
        },
        "id": "foiTfYuwotTZ",
        "outputId": "72eada2b-d41c-4b90-ba75-3f367e9b75a4"
      },
      "outputs": [
        {
          "data": {
            "text/plain": [
              "<AxesSubplot:xlabel='Date'>"
            ]
          },
          "execution_count": 17,
          "metadata": {},
          "output_type": "execute_result"
        },
        {
          "data": {
            "image/png": "[encoded data removed]",
            "text/plain": [
              "<Figure size 432x288 with 1 Axes>"
            ]
          },
          "metadata": {
            "needs_background": "light"
          },
          "output_type": "display_data"
        }
      ],
      "source": [
        "equation.plot(color='#F5451F')"
      ]
    },
    {
      "cell_type": "markdown",
      "metadata": {
        "id": "PMpMUqjWn562"
      },
      "source": [
        "Interpret the beta coefficients and their corresponding t and p values, and their 95% confidence intervals"
      ]
    },
    {
      "cell_type": "markdown",
      "metadata": {
        "id": "1ilD5I7cv2XD"
      },
      "source": [
        "Considering the normal distribution graph of the given data, the value for the left edge (0.025) is similar to -0.039, and for the right edge (0.975) is 0.023. So both are valid for 95% of the data, or within 2 stds. If there is a value outside this range then it is a outlier.\n",
        "For MXX, its value (1.53) is inside the distribution, so we can reject the null hypothesis for this case."
      ]
    }
  ],
  "metadata": {
    "colab": {
      "name": "Workshop4.ipynb",
      "provenance": []
    },
    "kernelspec": {
      "display_name": "Python 3.9.7 ('base')",
      "language": "python",
      "name": "python3"
    },
    "language_info": {
      "codemirror_mode": {
        "name": "ipython",
        "version": 3
      },
      "file_extension": ".py",
      "mimetype": "text/x-python",
      "name": "python",
      "nbconvert_exporter": "python",
      "pygments_lexer": "ipython3",
      "version": "3.9.7"
    },
    "vscode": {
      "interpreter": {
        "hash": "40d3a090f54c6569ab1632332b64b2c03c39dcf918b08424e98f38b5ae0af88f"
      }
    }
  },
  "nbformat": 4,
  "nbformat_minor": 0
}
